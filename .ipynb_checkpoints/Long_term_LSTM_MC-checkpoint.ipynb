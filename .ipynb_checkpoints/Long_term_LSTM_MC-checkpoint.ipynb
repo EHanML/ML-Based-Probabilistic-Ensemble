{
 "cells": [
  {
   "cell_type": "code",
   "execution_count": 1,
   "metadata": {},
   "outputs": [
    {
     "name": "stdout",
     "output_type": "stream",
     "text": [
      "TensorFlow Version: 2.3.0\n"
     ]
    }
   ],
   "source": [
    "from distutils.version import LooseVersion\n",
    "import warnings\n",
    "import tensorflow as tf\n",
    "\n",
    "\n",
    "# Check TensorFlow Version\n",
    "assert LooseVersion(tf.__version__) >= LooseVersion('1.0'), 'Please use TensorFlow version 1.0 or newer.  You are using {}'.format(tf.__version__)\n",
    "print('TensorFlow Version: {}'.format(tf.__version__))\n"
   ]
  },
  {
   "cell_type": "code",
   "execution_count": 2,
   "metadata": {},
   "outputs": [
    {
     "data": {
      "text/plain": [
       "'2.4.0'"
      ]
     },
     "execution_count": 2,
     "metadata": {},
     "output_type": "execute_result"
    }
   ],
   "source": [
    "tf.__version__\n",
    "tf.keras.__version__"
   ]
  },
  {
   "cell_type": "code",
   "execution_count": 3,
   "metadata": {},
   "outputs": [],
   "source": [
    "# library\n",
    "import pandas as pd\n",
    "import os \n",
    "import feather\n",
    "import numpy as np\n",
    "import matplotlib.pyplot as plt\n",
    "from scipy.stats import norm\n",
    "from scipy.special import logsumexp\n",
    "from sklearn.metrics import mean_squared_error\n",
    "from sklearn import preprocessing\n",
    "import re\n",
    "from tensorflow.keras import Sequential\n",
    "from tensorflow.keras.layers import GRU\n",
    "from tensorflow.keras.layers import Dense\n",
    "from tensorflow.keras.layers import Dropout\n",
    "from tensorflow.keras.layers import TimeDistributed\n",
    "from tensorflow.keras.layers import Flatten \n",
    "from tensorflow.keras.layers import BatchNormalization\n",
    "from tensorflow.keras.optimizers import Adam\n",
    "from tensorflow.keras import regularizers\n",
    "from tensorflow.keras import backend as K \n",
    "from tensorflow.keras import callbacks\n",
    "from tensorflow import keras\n",
    "from utils import *"
   ]
  },
  {
   "cell_type": "code",
   "execution_count": 4,
   "metadata": {},
   "outputs": [],
   "source": [
    "# read in \n",
    "WU = feather.read_dataframe('Data/WU.feather')\n",
    "\n",
    "#pp\n",
    "WU = WU.drop(columns=['Index','year','ParcelID','Days','year','month'])\n",
    "\n",
    "\n",
    "p_scalar = preprocessing.StandardScaler()\n",
    "predictors = ['TotalWaterUse','ET_turf_month_mean']\n",
    "p_scalar.fit(WU.loc[:,predictors])\n",
    "WU.loc[:,predictors] = p_scalar.transform(WU.loc[:,predictors])\n",
    "\n",
    "nlag = 7\n",
    "nlead = 12 # num of forecasting steps\n",
    "WU_lag = add_group_leadlags(data=WU, group='E_Label_ParcelID', timeindex='monthIndex',\n",
    "                        lag_features = ['TotalWaterUse','ET_turf_month_mean'],\n",
    "                        lead_features = ['TotalWaterUse'],\n",
    "                        other = ['Set'],\n",
    "                        nlag=nlag, nlead=nlead,\n",
    "                        fillna=None)\n",
    "\n",
    "# shouldt have test set of only one month!\n",
    "WU_lag_dropna = WU_lag.dropna()\n",
    "\n",
    "# dev is special here\n",
    "WU_lag_dev = add_group_leadlags(data=WU[WU.loc[:,'Set']!='test'], group='E_Label_ParcelID', timeindex='monthIndex',\n",
    "                        lag_features = ['TotalWaterUse','ET_turf_month_mean'],\n",
    "                        lead_features = ['TotalWaterUse'],\n",
    "                        other = ['Set'],\n",
    "                        nlag=nlag, nlead=nlead,\n",
    "                        fillna=None).dropna()\n",
    "\n",
    "WU_final = pd.concat([WU_lag_dev,WU_lag_dropna[WU_lag_dropna.loc[:,'Set'] == 'test']],axis=0 )"
   ]
  },
  {
   "cell_type": "markdown",
   "metadata": {},
   "source": [
    "# Tensor generation"
   ]
  },
  {
   "cell_type": "code",
   "execution_count": 5,
   "metadata": {},
   "outputs": [],
   "source": [
    "def lstmtensor_longterm_forecast(data,feature_patterns,target_pattern, sets): \n",
    "    \n",
    "    # whole predictive tensor: out\n",
    "    for i,p in enumerate(feature_patterns):\n",
    "    \n",
    "        X = data.filter(like=p,axis=1).values\n",
    "        xshape = X.shape\n",
    "        # add axis 2\n",
    "        Xre = X.reshape(xshape[0],xshape[1],1)\n",
    "    \n",
    "        if(i == 0):\n",
    "            out = Xre\n",
    "        else:\n",
    "            # concat on feature dimension\n",
    "            out = np.concatenate([out,Xre],axis=2)\n",
    "    \n",
    "    # whole target: outy \n",
    "    y_lag = data.filter(like=target_pattern+'_lag',axis=1).values[:,::-1]\n",
    "    y_lead = data.filter(like=target_pattern+'_lead',axis=1).values\n",
    "    nlags = y_lag.shape[1]\n",
    "    nleads = y_lead.shape[1]\n",
    "    y = np.concatenate([y_lag,y_lead],axis=1)\n",
    " \n",
    "    # reshape y along feature axis (not time!) \n",
    "    for t in np.arange(1,nlag+1):\n",
    "        \n",
    "        Yhere = y[:,t:(t+nleads)]\n",
    "        Yhere2 = Yhere.reshape([-1,1,nleads])\n",
    "        \n",
    "        if(t == 1):\n",
    "            outy = Yhere2\n",
    "        else:\n",
    "            outy = np.concatenate([outy,Yhere2],axis=1)\n",
    "    \n",
    "    \n",
    "    # split tensor into dict: outdict, outydict\n",
    "    setnames = data.loc[:,sets].unique()\n",
    "    outdict = {}\n",
    "    outydict = {}\n",
    "    for s in setnames:\n",
    "        Xs = out[(data.loc[:,sets] == s),:,:][:,::-1,:] # reverse\n",
    "        ys = outy[(data.loc[:,sets] == s),:,:]\n",
    "        #print(Xs.shape)\n",
    "        Xdict = {s: Xs}\n",
    "        outdict.update(Xdict)\n",
    "        ydict = {s:ys}\n",
    "        outydict.update(ydict)\n",
    "    \n",
    "    return outdict, outydict"
   ]
  },
  {
   "cell_type": "code",
   "execution_count": 6,
   "metadata": {},
   "outputs": [],
   "source": [
    "predictors = ['TotalWaterUse_lag','ET_turf_month_mean_lag']\n",
    "Xdict, ydict = lstmtensor_longterm_forecast(data=WU_final,\n",
    "                          feature_patterns= predictors,\n",
    "                          target_pattern='TotalWaterUse',\n",
    "                          sets='Set')"
   ]
  },
  {
   "cell_type": "code",
   "execution_count": 7,
   "metadata": {},
   "outputs": [],
   "source": [
    "# find batch size \n",
    "# can skip this chunck and directly define a batch size\n",
    "bs_remain_list = []\n",
    "bs_list=[]\n",
    "for bs in np.arange(16, 500):\n",
    "    r_train = Xdict['train'].shape[0]%bs\n",
    "    r_dev = Xdict['dev'].shape[0]%bs\n",
    "    bs_remain_list.append(r_train+r_dev)\n",
    "    bs_list.append(bs)\n",
    "    \n",
    "batch_size = pd.Series(bs_remain_list,index=bs_list).idxmin()\n",
    "\n",
    "# or find remain train sample size\n",
    "batch_size=32\n",
    "r_train = Xdict['train'].shape[0]%batch_size\n",
    "# batch size for val and test is just for speed concern\n",
    "r_dev = Xdict['dev'].shape[0]%batch_size \n",
    "r_test = Xdict['test'].shape[0]%batch_size\n",
    "\n",
    "s=Xdict['train'].shape[0]//batch_size"
   ]
  },
  {
   "cell_type": "code",
   "execution_count": 8,
   "metadata": {},
   "outputs": [],
   "source": [
    "def buildmodel(n_hidden = 1, dense_dp = 0, recurrent_dp= 0 ,l2=0.001, training = None):\n",
    "    \n",
    "    Input_ = keras.layers.Input(shape = Xdict['train'].shape[1:])\n",
    "    \n",
    "    Z = Input_\n",
    "    for _ in range(n_hidden):\n",
    "        Z = GRU(32, input_shape = (nlag,len(predictors)),\n",
    "                  recurrent_dropout = recurrent_dp,\n",
    "                  dropout = dense_dp,\n",
    "                  kernel_regularizer=keras.regularizers.l2(l2),\n",
    "                  return_sequences = True)(Z,training = training)\n",
    "\n",
    "    Z = TimeDistributed(Dense(32, kernel_regularizer=keras.regularizers.l2(l2),\n",
    "                              activation = 'elu',kernel_initializer='he_normal'))(Z)\n",
    "    Z = Dropout(rate=dense_dp)(Z,training = training)\n",
    "    Z = TimeDistributed(Dense(32, kernel_regularizer=keras.regularizers.l2(l2),\n",
    "                              activation = 'elu',kernel_initializer='he_normal'))(Z)\n",
    "    Z = Dropout(rate=dense_dp)(Z,training = training)\n",
    "    Output_ = Dense(nlead)(Z)\n",
    "    \n",
    "    model = keras.Model(inputs=[Input_],outputs=[Output_])\n",
    "    return model"
   ]
  },
  {
   "cell_type": "markdown",
   "metadata": {},
   "source": [
    "# dev"
   ]
  },
  {
   "cell_type": "code",
   "execution_count": 9,
   "metadata": {},
   "outputs": [],
   "source": [
    "dp_rate=0.1\n",
    "r_dp = 0\n",
    "l2=0.00001\n",
    "n_hidden =1\n",
    "lr=1e-5"
   ]
  },
  {
   "cell_type": "markdown",
   "metadata": {},
   "source": [
    "\n",
    "del model\n",
    "tf.keras.backend.clear_session()"
   ]
  },
  {
   "cell_type": "code",
   "execution_count": 10,
   "metadata": {},
   "outputs": [],
   "source": [
    "# seq API\n",
    "model = buildmodel(n_hidden = n_hidden ,dense_dp = dp_rate, recurrent_dp=r_dp,l2=l2)"
   ]
  },
  {
   "cell_type": "code",
   "execution_count": 11,
   "metadata": {},
   "outputs": [],
   "source": [
    "@tf.function\n",
    "def last_time_step_mse(Y_true, Y_pred):\n",
    "    return keras.metrics.mean_squared_error(tf.reshape(Y_true[:,-1,:],[-1]),tf.reshape( Y_pred[:,-1,:],[-1]) )"
   ]
  },
  {
   "cell_type": "code",
   "execution_count": 12,
   "metadata": {},
   "outputs": [
    {
     "name": "stdout",
     "output_type": "stream",
     "text": [
      "Model: \"functional_1\"\n",
      "_________________________________________________________________\n",
      "Layer (type)                 Output Shape              Param #   \n",
      "=================================================================\n",
      "input_1 (InputLayer)         [(None, 7, 2)]            0         \n",
      "_________________________________________________________________\n",
      "gru (GRU)                    (None, 7, 32)             3456      \n",
      "_________________________________________________________________\n",
      "time_distributed (TimeDistri (None, 7, 32)             1056      \n",
      "_________________________________________________________________\n",
      "dropout (Dropout)            (None, 7, 32)             0         \n",
      "_________________________________________________________________\n",
      "time_distributed_1 (TimeDist (None, 7, 32)             1056      \n",
      "_________________________________________________________________\n",
      "dropout_1 (Dropout)          (None, 7, 32)             0         \n",
      "_________________________________________________________________\n",
      "dense_2 (Dense)              (None, 7, 12)             396       \n",
      "=================================================================\n",
      "Total params: 5,964\n",
      "Trainable params: 5,964\n",
      "Non-trainable params: 0\n",
      "_________________________________________________________________\n"
     ]
    }
   ],
   "source": [
    "model.compile(optimizer = Adam(learning_rate=lr), loss = 'mean_squared_error',metrics = [last_time_step_mse] )\n",
    "model.summary()"
   ]
  },
  {
   "cell_type": "code",
   "execution_count": 13,
   "metadata": {},
   "outputs": [],
   "source": [
    "callback_list =[\n",
    "    callbacks.EarlyStopping(\n",
    "        monitor = 'val_last_time_step_mse',\n",
    "        restore_best_weights=True,\n",
    "        patience= 10\n",
    "    ),\n",
    "    callbacks.ModelCheckpoint(\n",
    "        filepath='LSTM_log/lstm_dev_final_12m.h5',\n",
    "        save_best_only= True,\n",
    "        monitor= 'val_last_time_step_mse'\n",
    "    ),\n",
    "    #callbacks.ReduceLROnPlateau(factor=0.5,patience=5), # eta performance scheduling\n",
    "    callbacks.TensorBoard(log_dir='LSTM_log',histogram_freq=1)\n",
    "]"
   ]
  },
  {
   "cell_type": "code",
   "execution_count": 14,
   "metadata": {},
   "outputs": [],
   "source": [
    "# seed\n",
    "tf.random.set_seed(1)\n",
    "np.random.seed(1)"
   ]
  },
  {
   "cell_type": "code",
   "execution_count": 15,
   "metadata": {},
   "outputs": [
    {
     "name": "stdout",
     "output_type": "stream",
     "text": [
      "Epoch 1/100\n",
      "  1/331 [..............................] - ETA: 0s - loss: 1.1257 - last_time_step_mse: 1.0967WARNING:tensorflow:From C:\\Users\\Yi\\anaconda3\\lib\\site-packages\\tensorflow\\python\\ops\\summary_ops_v2.py:1277: stop (from tensorflow.python.eager.profiler) is deprecated and will be removed after 2020-07-01.\n",
      "Instructions for updating:\n",
      "use `tf.profiler.experimental.stop` instead.\n",
      "WARNING:tensorflow:Callbacks method `on_train_batch_end` is slow compared to the batch time (batch time: 0.0050s vs `on_train_batch_end` time: 0.0419s). Check your callbacks.\n",
      "331/331 [==============================] - 2s 6ms/step - loss: 0.9932 - last_time_step_mse: 0.9830 - val_loss: 0.8882 - val_last_time_step_mse: 0.8318\n",
      "Epoch 2/100\n",
      "331/331 [==============================] - 1s 4ms/step - loss: 0.9187 - last_time_step_mse: 0.9003 - val_loss: 0.8203 - val_last_time_step_mse: 0.7648\n",
      "Epoch 3/100\n",
      "331/331 [==============================] - 1s 4ms/step - loss: 0.8562 - last_time_step_mse: 0.8281 - val_loss: 0.7617 - val_last_time_step_mse: 0.7100\n",
      "Epoch 4/100\n",
      "331/331 [==============================] - 2s 5ms/step - loss: 0.8036 - last_time_step_mse: 0.7721 - val_loss: 0.7114 - val_last_time_step_mse: 0.6664\n",
      "Epoch 5/100\n",
      "331/331 [==============================] - 2s 5ms/step - loss: 0.7598 - last_time_step_mse: 0.7279 - val_loss: 0.6689 - val_last_time_step_mse: 0.6336\n",
      "Epoch 6/100\n",
      "331/331 [==============================] - 2s 5ms/step - loss: 0.7241 - last_time_step_mse: 0.6892 - val_loss: 0.6344 - val_last_time_step_mse: 0.6107\n",
      "Epoch 7/100\n",
      "331/331 [==============================] - 1s 4ms/step - loss: 0.6931 - last_time_step_mse: 0.6620 - val_loss: 0.6071 - val_last_time_step_mse: 0.5965\n",
      "Epoch 8/100\n",
      "331/331 [==============================] - 1s 4ms/step - loss: 0.6707 - last_time_step_mse: 0.6436 - val_loss: 0.5864 - val_last_time_step_mse: 0.5886\n",
      "Epoch 9/100\n",
      "331/331 [==============================] - 1s 4ms/step - loss: 0.6534 - last_time_step_mse: 0.6281 - val_loss: 0.5705 - val_last_time_step_mse: 0.5849\n",
      "Epoch 10/100\n",
      "331/331 [==============================] - 1s 4ms/step - loss: 0.6399 - last_time_step_mse: 0.6203 - val_loss: 0.5586 - val_last_time_step_mse: 0.5829\n",
      "Epoch 11/100\n",
      "331/331 [==============================] - 1s 4ms/step - loss: 0.6309 - last_time_step_mse: 0.6136 - val_loss: 0.5494 - val_last_time_step_mse: 0.5819\n",
      "Epoch 12/100\n",
      "331/331 [==============================] - 1s 4ms/step - loss: 0.6239 - last_time_step_mse: 0.6064 - val_loss: 0.5424 - val_last_time_step_mse: 0.5814\n",
      "Epoch 13/100\n",
      "331/331 [==============================] - 1s 4ms/step - loss: 0.6161 - last_time_step_mse: 0.5989 - val_loss: 0.5367 - val_last_time_step_mse: 0.5811\n",
      "Epoch 14/100\n",
      "331/331 [==============================] - 1s 4ms/step - loss: 0.6113 - last_time_step_mse: 0.5971 - val_loss: 0.5323 - val_last_time_step_mse: 0.5805\n",
      "Epoch 15/100\n",
      "331/331 [==============================] - 1s 4ms/step - loss: 0.6054 - last_time_step_mse: 0.5911 - val_loss: 0.5285 - val_last_time_step_mse: 0.5797\n",
      "Epoch 16/100\n",
      "331/331 [==============================] - 1s 4ms/step - loss: 0.6030 - last_time_step_mse: 0.5875 - val_loss: 0.5255 - val_last_time_step_mse: 0.5780\n",
      "Epoch 17/100\n",
      "331/331 [==============================] - 1s 4ms/step - loss: 0.5992 - last_time_step_mse: 0.5892 - val_loss: 0.5231 - val_last_time_step_mse: 0.5766\n",
      "Epoch 18/100\n",
      "331/331 [==============================] - 1s 4ms/step - loss: 0.5970 - last_time_step_mse: 0.5897 - val_loss: 0.5208 - val_last_time_step_mse: 0.5757\n",
      "Epoch 19/100\n",
      "331/331 [==============================] - 1s 4ms/step - loss: 0.5946 - last_time_step_mse: 0.5843 - val_loss: 0.5190 - val_last_time_step_mse: 0.5747\n",
      "Epoch 20/100\n",
      "331/331 [==============================] - 1s 4ms/step - loss: 0.5916 - last_time_step_mse: 0.5844 - val_loss: 0.5174 - val_last_time_step_mse: 0.5733\n",
      "Epoch 21/100\n",
      "331/331 [==============================] - 1s 4ms/step - loss: 0.5915 - last_time_step_mse: 0.5827 - val_loss: 0.5161 - val_last_time_step_mse: 0.5714\n",
      "Epoch 22/100\n",
      "331/331 [==============================] - 1s 4ms/step - loss: 0.5906 - last_time_step_mse: 0.5820 - val_loss: 0.5150 - val_last_time_step_mse: 0.5701\n",
      "Epoch 23/100\n",
      "331/331 [==============================] - 1s 4ms/step - loss: 0.5884 - last_time_step_mse: 0.5768 - val_loss: 0.5140 - val_last_time_step_mse: 0.5687\n",
      "Epoch 24/100\n",
      "331/331 [==============================] - 1s 4ms/step - loss: 0.5868 - last_time_step_mse: 0.5746 - val_loss: 0.5131 - val_last_time_step_mse: 0.5673\n",
      "Epoch 25/100\n",
      "331/331 [==============================] - 1s 4ms/step - loss: 0.5863 - last_time_step_mse: 0.5747 - val_loss: 0.5123 - val_last_time_step_mse: 0.5658\n",
      "Epoch 26/100\n",
      "331/331 [==============================] - 1s 4ms/step - loss: 0.5845 - last_time_step_mse: 0.5744 - val_loss: 0.5115 - val_last_time_step_mse: 0.5643\n",
      "Epoch 27/100\n",
      "331/331 [==============================] - 1s 4ms/step - loss: 0.5829 - last_time_step_mse: 0.5730 - val_loss: 0.5109 - val_last_time_step_mse: 0.5631\n",
      "Epoch 28/100\n",
      "331/331 [==============================] - 1s 4ms/step - loss: 0.5816 - last_time_step_mse: 0.5718 - val_loss: 0.5102 - val_last_time_step_mse: 0.5627\n",
      "Epoch 29/100\n",
      "331/331 [==============================] - 1s 4ms/step - loss: 0.5830 - last_time_step_mse: 0.5744 - val_loss: 0.5096 - val_last_time_step_mse: 0.5622\n",
      "Epoch 30/100\n",
      "331/331 [==============================] - 1s 4ms/step - loss: 0.5790 - last_time_step_mse: 0.5729 - val_loss: 0.5092 - val_last_time_step_mse: 0.5617\n",
      "Epoch 31/100\n",
      "331/331 [==============================] - 1s 4ms/step - loss: 0.5809 - last_time_step_mse: 0.5686 - val_loss: 0.5088 - val_last_time_step_mse: 0.5611\n",
      "Epoch 32/100\n",
      "331/331 [==============================] - 1s 4ms/step - loss: 0.5796 - last_time_step_mse: 0.5718 - val_loss: 0.5086 - val_last_time_step_mse: 0.5599\n",
      "Epoch 33/100\n",
      "331/331 [==============================] - 1s 4ms/step - loss: 0.5774 - last_time_step_mse: 0.5686 - val_loss: 0.5082 - val_last_time_step_mse: 0.5594\n",
      "Epoch 34/100\n",
      "331/331 [==============================] - 1s 4ms/step - loss: 0.5790 - last_time_step_mse: 0.5699 - val_loss: 0.5079 - val_last_time_step_mse: 0.5590\n",
      "Epoch 35/100\n",
      "331/331 [==============================] - 1s 4ms/step - loss: 0.5780 - last_time_step_mse: 0.5683 - val_loss: 0.5077 - val_last_time_step_mse: 0.5590\n",
      "Epoch 36/100\n",
      "331/331 [==============================] - 1s 4ms/step - loss: 0.5751 - last_time_step_mse: 0.5696 - val_loss: 0.5074 - val_last_time_step_mse: 0.5587\n",
      "Epoch 37/100\n",
      "331/331 [==============================] - 1s 4ms/step - loss: 0.5755 - last_time_step_mse: 0.5683 - val_loss: 0.5073 - val_last_time_step_mse: 0.5576\n",
      "Epoch 38/100\n",
      "331/331 [==============================] - 1s 4ms/step - loss: 0.5761 - last_time_step_mse: 0.5706 - val_loss: 0.5071 - val_last_time_step_mse: 0.5574\n",
      "Epoch 39/100\n",
      "331/331 [==============================] - 1s 4ms/step - loss: 0.5744 - last_time_step_mse: 0.5659 - val_loss: 0.5069 - val_last_time_step_mse: 0.5578\n",
      "Epoch 40/100\n",
      "331/331 [==============================] - 1s 4ms/step - loss: 0.5756 - last_time_step_mse: 0.5675 - val_loss: 0.5068 - val_last_time_step_mse: 0.5573\n",
      "Epoch 41/100\n",
      "331/331 [==============================] - 1s 4ms/step - loss: 0.5761 - last_time_step_mse: 0.5656 - val_loss: 0.5065 - val_last_time_step_mse: 0.5575\n",
      "Epoch 42/100\n",
      "331/331 [==============================] - 1s 4ms/step - loss: 0.5754 - last_time_step_mse: 0.5685 - val_loss: 0.5065 - val_last_time_step_mse: 0.5570\n",
      "Epoch 43/100\n",
      "331/331 [==============================] - 1s 4ms/step - loss: 0.5738 - last_time_step_mse: 0.5650 - val_loss: 0.5064 - val_last_time_step_mse: 0.5564\n",
      "Epoch 44/100\n",
      "331/331 [==============================] - 1s 4ms/step - loss: 0.5755 - last_time_step_mse: 0.5652 - val_loss: 0.5063 - val_last_time_step_mse: 0.5569\n",
      "Epoch 45/100\n",
      "331/331 [==============================] - 1s 3ms/step - loss: 0.5732 - last_time_step_mse: 0.5665 - val_loss: 0.5062 - val_last_time_step_mse: 0.5567\n",
      "Epoch 46/100\n",
      "331/331 [==============================] - 1s 4ms/step - loss: 0.5728 - last_time_step_mse: 0.5668 - val_loss: 0.5061 - val_last_time_step_mse: 0.5566\n",
      "Epoch 47/100\n",
      "331/331 [==============================] - 1s 4ms/step - loss: 0.5730 - last_time_step_mse: 0.5665 - val_loss: 0.5062 - val_last_time_step_mse: 0.5564\n"
     ]
    },
    {
     "name": "stdout",
     "output_type": "stream",
     "text": [
      "Epoch 48/100\n",
      "331/331 [==============================] - 1s 4ms/step - loss: 0.5719 - last_time_step_mse: 0.5639 - val_loss: 0.5060 - val_last_time_step_mse: 0.5563\n",
      "Epoch 49/100\n",
      "331/331 [==============================] - 1s 4ms/step - loss: 0.5719 - last_time_step_mse: 0.5671 - val_loss: 0.5058 - val_last_time_step_mse: 0.5560\n",
      "Epoch 50/100\n",
      "331/331 [==============================] - 1s 3ms/step - loss: 0.5728 - last_time_step_mse: 0.5654 - val_loss: 0.5058 - val_last_time_step_mse: 0.5563\n",
      "Epoch 51/100\n",
      "331/331 [==============================] - 1s 3ms/step - loss: 0.5721 - last_time_step_mse: 0.5626 - val_loss: 0.5057 - val_last_time_step_mse: 0.5561\n",
      "Epoch 52/100\n",
      "331/331 [==============================] - 1s 4ms/step - loss: 0.5710 - last_time_step_mse: 0.5596 - val_loss: 0.5057 - val_last_time_step_mse: 0.5566\n",
      "Epoch 53/100\n",
      "331/331 [==============================] - 1s 4ms/step - loss: 0.5699 - last_time_step_mse: 0.5672 - val_loss: 0.5056 - val_last_time_step_mse: 0.5568\n",
      "Epoch 54/100\n",
      "331/331 [==============================] - 1s 4ms/step - loss: 0.5702 - last_time_step_mse: 0.5636 - val_loss: 0.5055 - val_last_time_step_mse: 0.5567\n",
      "Epoch 55/100\n",
      "331/331 [==============================] - 1s 4ms/step - loss: 0.5732 - last_time_step_mse: 0.5678 - val_loss: 0.5054 - val_last_time_step_mse: 0.5570\n",
      "Epoch 56/100\n",
      "331/331 [==============================] - 1s 4ms/step - loss: 0.5700 - last_time_step_mse: 0.5651 - val_loss: 0.5054 - val_last_time_step_mse: 0.5574\n",
      "Epoch 57/100\n",
      "331/331 [==============================] - 1s 4ms/step - loss: 0.5707 - last_time_step_mse: 0.5611 - val_loss: 0.5054 - val_last_time_step_mse: 0.5571\n",
      "Epoch 58/100\n",
      "331/331 [==============================] - 1s 4ms/step - loss: 0.5726 - last_time_step_mse: 0.5643 - val_loss: 0.5055 - val_last_time_step_mse: 0.5565\n",
      "Epoch 59/100\n",
      "331/331 [==============================] - 1s 4ms/step - loss: 0.5705 - last_time_step_mse: 0.5587 - val_loss: 0.5054 - val_last_time_step_mse: 0.5564\n"
     ]
    }
   ],
   "source": [
    "# seq api\n",
    "target_axis = 0\n",
    "history = model.fit(x= Xdict['train'][r_train:,:,:],\n",
    "                    y= ydict['train'][r_train:,:,:], # shift one time point\n",
    "                    epochs= 100,\n",
    "                    batch_size= batch_size,\n",
    "                    validation_data=( Xdict['dev'],ydict['dev']),\n",
    "                    callbacks=callback_list)\n"
   ]
  },
  {
   "cell_type": "code",
   "execution_count": 16,
   "metadata": {},
   "outputs": [
    {
     "data": {
      "image/png": "[encoded data removed]",
      "text/plain": [
       "<Figure size 576x360 with 1 Axes>"
      ]
     },
     "metadata": {
      "needs_background": "light"
     },
     "output_type": "display_data"
    }
   ],
   "source": [
    "pd.DataFrame(history.history).plot(figsize=(8,5))\n",
    "plt.grid(True)\n",
    "\n",
    "plt.show()"
   ]
  },
  {
   "cell_type": "code",
   "execution_count": 17,
   "metadata": {},
   "outputs": [],
   "source": [
    "pred = model.predict(Xdict['dev'])[:,-1,:].flatten()\n",
    "true = ydict['dev'][:,-1,:].flatten()\n",
    "\n",
    "ymean = p_scalar.mean_[target_axis]\n",
    "yvar = p_scalar.var_[target_axis]\n",
    "\n",
    "y_hat = pred*np.sqrt(yvar)+ymean\n",
    "y_true = true*np.sqrt(yvar)+ymean"
   ]
  },
  {
   "cell_type": "code",
   "execution_count": 18,
   "metadata": {},
   "outputs": [],
   "source": [
    "stop_epoch = pd.Series(history.history['val_last_time_step_mse'],index = history.epoch).idxmin()"
   ]
  },
  {
   "cell_type": "markdown",
   "metadata": {},
   "source": [
    "# Tune tau"
   ]
  },
  {
   "cell_type": "code",
   "execution_count": 19,
   "metadata": {},
   "outputs": [],
   "source": [
    "@tf.function\n",
    "def last_time_step_mse(Y_true, Y_pred):\n",
    "    return keras.metrics.mean_squared_error(tf.reshape(Y_true[:,-1,:],[-1]),tf.reshape( Y_pred[:,-1,:],[-1]) )"
   ]
  },
  {
   "cell_type": "code",
   "execution_count": 20,
   "metadata": {},
   "outputs": [
    {
     "name": "stdout",
     "output_type": "stream",
     "text": [
      "done\n",
      "(1000, 1200)\n"
     ]
    }
   ],
   "source": [
    "T= 1000\n",
    "tf.random.set_seed(1)\n",
    "np.random.seed(1)\n",
    "\n",
    "class MCDropout(keras.layers.Dropout):\n",
    "    def call(self, inputs):\n",
    "        return super().call(inputs, training=True)\n",
    "\n",
    "class MCAlphaDropout(keras.layers.AlphaDropout):\n",
    "    def call(self, inputs):\n",
    "        return super().call(inputs, training=True)\n",
    "\n",
    "    \n",
    "mc_model = Sequential([\n",
    "    MCDropout(dp_rate) if isinstance(layer, Dropout) else layer\n",
    "    for layer in model.layers\n",
    "])\n",
    "\n",
    "mc_model.compile(optimizer = Adam(), loss = 'mean_squared_error',metrics = ['mean_squared_error'] )\n",
    "mc_model.set_weights(model.get_weights())\n",
    "tf.random.set_seed(1)\n",
    "np.random.seed(1)\n",
    "\n",
    "# mc dp\n",
    "X_test_tf = tf.constant(Xdict['dev'], dtype=tf.float32 )\n",
    "y_probas = np.stack([mc_model.predict(X_test_tf,batch_size=batch_size*100)[:,-1,:].flatten() # 973 x 12 = whole test\n",
    "                     for sample in range(T)])\n",
    "print('done')\n",
    "print(y_probas.shape)"
   ]
  },
  {
   "cell_type": "code",
   "execution_count": 21,
   "metadata": {},
   "outputs": [],
   "source": [
    "target_axis = 0\n",
    "ymean = p_scalar.mean_[target_axis]\n",
    "yvar = p_scalar.var_[target_axis]\n",
    "\n",
    "y_hat_MC = y_probas * np.sqrt(yvar)+ymean\n",
    "y_hat = y_hat_MC.mean(axis=0)\n",
    "sig_hat = y_hat_MC.std(axis=0)\n",
    "\n",
    "true = ydict['dev'][:,-1,:].flatten()\n",
    "y_true = true*np.sqrt(yvar)+ymean"
   ]
  },
  {
   "cell_type": "code",
   "execution_count": 22,
   "metadata": {},
   "outputs": [],
   "source": [
    "grid_ll = []\n",
    "taul, tl = [], []\n",
    "for t in range(100):\n",
    "    tau = 2**(-t)\n",
    "    ll = (logsumexp(-0.5 * tau * (y_true - y_hat_MC)**2., 0) - np.log(T) - 0.5*np.log(2*np.pi) + 0.5*np.log(tau))\n",
    "    test_ll = np.mean(ll)\n",
    "    taul.append(tau)\n",
    "    grid_ll.append(test_ll)\n",
    "    tl.append(t)\n",
    "    \n",
    "    \n",
    "\n",
    "best_t = tl[grid_ll.index(max(grid_ll))]\n",
    "best_tau = taul[grid_ll.index(max(grid_ll))]\n",
    "\n",
    "G = 100\n",
    "gg = (taul[grid_ll.index(max(grid_ll))-1] - taul[grid_ll.index(max(grid_ll))+1])/G\n",
    "grid_ll = []\n",
    "taul, tl = [], []\n",
    "for t in range(G):\n",
    "    tau = 2**(-best_t-1) +  gg*t\n",
    "    ll = (logsumexp(-0.5 * tau * (y_true - y_hat_MC)**2., 0) - np.log(T) - 0.5*np.log(2*np.pi) + 0.5*np.log(tau))\n",
    "    test_ll = np.mean(ll)\n",
    "    taul.append(tau)\n",
    "    grid_ll.append(test_ll)\n",
    "    tl.append(t)\n",
    "    "
   ]
  },
  {
   "cell_type": "code",
   "execution_count": 25,
   "metadata": {},
   "outputs": [
    {
     "name": "stdout",
     "output_type": "stream",
     "text": [
      "final tune value: tau:2.0503997802734375e-07 t:24 LL:-9.1351814526125 RMSE:2246.396\n"
     ]
    }
   ],
   "source": [
    "rmse = round(np.sqrt(mean_squared_error(y_true,y_hat)),4) \n",
    "\n",
    "best_t = tl[grid_ll.index(max(grid_ll))]\n",
    "best_tau = taul[grid_ll.index(max(grid_ll))]\n",
    "print('final tune value: tau:{} t:{} LL:{} RMSE:{}'.format(best_tau, best_t, max(grid_ll),rmse ))"
   ]
  },
  {
   "cell_type": "code",
   "execution_count": 26,
   "metadata": {},
   "outputs": [],
   "source": [
    "# model sig\n",
    "sig = np.sqrt(1/best_tau) "
   ]
  },
  {
   "cell_type": "code",
   "execution_count": 27,
   "metadata": {},
   "outputs": [],
   "source": [
    "# hyper-par: tau\n",
    "np.random.seed(1)\n",
    "y_MC_mixture = np.concatenate([np.random.normal(loc=samplei,scale=sig,size=(10,len(samplei))) for samplei in y_hat_MC] , axis=0)"
   ]
  },
  {
   "cell_type": "code",
   "execution_count": 49,
   "metadata": {},
   "outputs": [],
   "source": [
    "alpha= 0.05\n",
    "L_hat = np.quantile(y_MC_mixture,alpha/2,axis=0)\n",
    "U_hat = np.quantile(y_MC_mixture,(1-alpha/2),axis=0)\n",
    "\n",
    "left = L_hat\n",
    "right = U_hat\n",
    "py_all = np.stack([norm.pdf(y_true, loc=samplei, scale=sig) for samplei in y_hat_MC])\n",
    "p_y = py_all.mean(axis=0)\n",
    "sig_hat2 = y_MC_mixture.std(axis=0)"
   ]
  },
  {
   "cell_type": "markdown",
   "metadata": {},
   "source": [
    "# save to MF"
   ]
  },
  {
   "cell_type": "code",
   "execution_count": 29,
   "metadata": {},
   "outputs": [],
   "source": [
    "WU2 = feather.read_dataframe('Data/WU.feather')\n",
    "WU2[WU2.loc[:,'Set']=='dev'].loc[:,'Index'].values\n",
    "\n",
    "\n",
    "all_dev_MF = pd.DataFrame({\n",
    "    'Index': WU2[WU2.loc[:,'Set']=='dev'].loc[:,'Index'].values,\n",
    "    'Y': y_true,\n",
    "    'y_hat': y_hat,\n",
    "    'L': left,\n",
    "    'U': right,\n",
    "    'sig_hat': sig_hat2,\n",
    "    'p_y':p_y\n",
    "})\n",
    "\n",
    "path = 'Out_dev_MF\\\\month12\\\\LSTM_MC_dev_12m_dist.feather'\n",
    "feather.write_dataframe(all_dev_MF, path)"
   ]
  },
  {
   "cell_type": "code",
   "execution_count": 30,
   "metadata": {},
   "outputs": [],
   "source": [
    "\n",
    "del model\n",
    "tf.keras.backend.clear_session()"
   ]
  },
  {
   "cell_type": "markdown",
   "metadata": {},
   "source": [
    "# Test"
   ]
  },
  {
   "cell_type": "code",
   "execution_count": 31,
   "metadata": {},
   "outputs": [],
   "source": [
    "model = buildmodel(n_hidden = n_hidden, dense_dp = dp_rate, recurrent_dp=r_dp,l2=l2)\n",
    "\n",
    "model.compile(optimizer = Adam(learning_rate=lr), loss = 'mean_squared_error',metrics = [last_time_step_mse] )"
   ]
  },
  {
   "cell_type": "code",
   "execution_count": 32,
   "metadata": {},
   "outputs": [
    {
     "data": {
      "text/plain": [
       "24"
      ]
     },
     "execution_count": 32,
     "metadata": {},
     "output_type": "execute_result"
    }
   ],
   "source": [
    "from tensorflow.keras import utils\n",
    "#utils.plot_model(model) #keras bug\n",
    "\n",
    "predictors = ['TotalWaterUse_lag','ET_turf_month_mean_lag']\n",
    "Xdict2, ydict2 = lstmtensor_longterm_forecast(data=WU_lag.dropna(),\n",
    "                          feature_patterns= predictors,\n",
    "                          target_pattern='TotalWaterUse',\n",
    "                          sets='Set')\n",
    "\n",
    "callback_list =[\n",
    "    callbacks.EarlyStopping(\n",
    "        monitor = 'val_mean_squared_error',\n",
    "        patience= stop_epoch\n",
    "    ),\n",
    "    callbacks.ModelCheckpoint(\n",
    "        filepath='LSTM_log/lstm_final_12m.h5',\n",
    "        #save_best_only= True,\n",
    "        monitor='val_mean_squared_error'\n",
    "    ),\n",
    "    callbacks.TensorBoard(log_dir='LSTM_log')\n",
    "]\n",
    "\n",
    "train_all = np.concatenate([Xdict2['train'],Xdict2['dev']], axis= 0)\n",
    "train_all_y = np.concatenate([ydict2['train'],ydict2['dev']], axis= 0)\n",
    "\n",
    "batch_size=32\n",
    "r_train = train_all.shape[0]%batch_size\n",
    "r_train"
   ]
  },
  {
   "cell_type": "code",
   "execution_count": 33,
   "metadata": {},
   "outputs": [
    {
     "name": "stdout",
     "output_type": "stream",
     "text": [
      "Epoch 1/48\n",
      "  2/368 [..............................] - ETA: 4:15 - loss: 0.6857 - last_time_step_mse: 0.6990WARNING:tensorflow:Callbacks method `on_train_batch_end` is slow compared to the batch time (batch time: 0.0070s vs `on_train_batch_end` time: 1.3899s). Check your callbacks.\n",
      "359/368 [============================>.] - ETA: 0s - loss: 0.9126 - last_time_step_mse: 0.9025WARNING:tensorflow:Early stopping conditioned on metric `val_mean_squared_error` which is not available. Available metrics are: loss,last_time_step_mse,val_loss,val_last_time_step_mse\n",
      "368/368 [==============================] - 3s 9ms/step - loss: 0.9124 - last_time_step_mse: 0.9028 - val_loss: 0.8810 - val_last_time_step_mse: 0.7640\n",
      "Epoch 2/48\n",
      "364/368 [============================>.] - ETA: 0s - loss: 0.8410 - last_time_step_mse: 0.8207WARNING:tensorflow:Early stopping conditioned on metric `val_mean_squared_error` which is not available. Available metrics are: loss,last_time_step_mse,val_loss,val_last_time_step_mse\n",
      "368/368 [==============================] - 1s 4ms/step - loss: 0.8407 - last_time_step_mse: 0.8210 - val_loss: 0.8141 - val_last_time_step_mse: 0.6944\n",
      "Epoch 3/48\n",
      "362/368 [============================>.] - ETA: 0s - loss: 0.7836 - last_time_step_mse: 0.7578WARNING:tensorflow:Early stopping conditioned on metric `val_mean_squared_error` which is not available. Available metrics are: loss,last_time_step_mse,val_loss,val_last_time_step_mse\n",
      "368/368 [==============================] - 2s 4ms/step - loss: 0.7828 - last_time_step_mse: 0.7575 - val_loss: 0.7587 - val_last_time_step_mse: 0.6398\n",
      "Epoch 4/48\n",
      "367/368 [============================>.] - ETA: 0s - loss: 0.7360 - last_time_step_mse: 0.7049WARNING:tensorflow:Early stopping conditioned on metric `val_mean_squared_error` which is not available. Available metrics are: loss,last_time_step_mse,val_loss,val_last_time_step_mse\n",
      "368/368 [==============================] - 1s 4ms/step - loss: 0.7359 - last_time_step_mse: 0.7047 - val_loss: 0.7138 - val_last_time_step_mse: 0.5981\n",
      "Epoch 5/48\n",
      "363/368 [============================>.] - ETA: 0s - loss: 0.6970 - last_time_step_mse: 0.6670WARNING:tensorflow:Early stopping conditioned on metric `val_mean_squared_error` which is not available. Available metrics are: loss,last_time_step_mse,val_loss,val_last_time_step_mse\n",
      "368/368 [==============================] - 1s 4ms/step - loss: 0.6986 - last_time_step_mse: 0.6681 - val_loss: 0.6791 - val_last_time_step_mse: 0.5687\n",
      "Epoch 6/48\n",
      "358/368 [============================>.] - ETA: 0s - loss: 0.6642 - last_time_step_mse: 0.6354WARNING:tensorflow:Early stopping conditioned on metric `val_mean_squared_error` which is not available. Available metrics are: loss,last_time_step_mse,val_loss,val_last_time_step_mse\n",
      "368/368 [==============================] - 1s 3ms/step - loss: 0.6665 - last_time_step_mse: 0.6392 - val_loss: 0.6535 - val_last_time_step_mse: 0.5504\n",
      "Epoch 7/48\n",
      "356/368 [============================>.] - ETA: 0s - loss: 0.6514 - last_time_step_mse: 0.6227WARNING:tensorflow:Early stopping conditioned on metric `val_mean_squared_error` which is not available. Available metrics are: loss,last_time_step_mse,val_loss,val_last_time_step_mse\n",
      "368/368 [==============================] - 2s 4ms/step - loss: 0.6506 - last_time_step_mse: 0.6225 - val_loss: 0.6358 - val_last_time_step_mse: 0.5397\n",
      "Epoch 8/48\n",
      "364/368 [============================>.] - ETA: 0s - loss: 0.6346 - last_time_step_mse: 0.6088WARNING:tensorflow:Early stopping conditioned on metric `val_mean_squared_error` which is not available. Available metrics are: loss,last_time_step_mse,val_loss,val_last_time_step_mse\n",
      "368/368 [==============================] - 1s 4ms/step - loss: 0.6338 - last_time_step_mse: 0.6088 - val_loss: 0.6237 - val_last_time_step_mse: 0.5345\n",
      "Epoch 9/48\n",
      "359/368 [============================>.] - ETA: 0s - loss: 0.6259 - last_time_step_mse: 0.6072WARNING:tensorflow:Early stopping conditioned on metric `val_mean_squared_error` which is not available. Available metrics are: loss,last_time_step_mse,val_loss,val_last_time_step_mse\n",
      "368/368 [==============================] - 1s 4ms/step - loss: 0.6245 - last_time_step_mse: 0.6048 - val_loss: 0.6155 - val_last_time_step_mse: 0.5321\n",
      "Epoch 10/48\n",
      "367/368 [============================>.] - ETA: 0s - loss: 0.6172 - last_time_step_mse: 0.6022WARNING:tensorflow:Early stopping conditioned on metric `val_mean_squared_error` which is not available. Available metrics are: loss,last_time_step_mse,val_loss,val_last_time_step_mse\n",
      "368/368 [==============================] - 1s 4ms/step - loss: 0.6168 - last_time_step_mse: 0.6018 - val_loss: 0.6097 - val_last_time_step_mse: 0.5310\n",
      "Epoch 11/48\n",
      "362/368 [============================>.] - ETA: 0s - loss: 0.6114 - last_time_step_mse: 0.5974WARNING:tensorflow:Early stopping conditioned on metric `val_mean_squared_error` which is not available. Available metrics are: loss,last_time_step_mse,val_loss,val_last_time_step_mse\n",
      "368/368 [==============================] - 1s 4ms/step - loss: 0.6119 - last_time_step_mse: 0.5979 - val_loss: 0.6054 - val_last_time_step_mse: 0.5299\n",
      "Epoch 12/48\n",
      "355/368 [===========================>..] - ETA: 0s - loss: 0.6067 - last_time_step_mse: 0.5965WARNING:tensorflow:Early stopping conditioned on metric `val_mean_squared_error` which is not available. Available metrics are: loss,last_time_step_mse,val_loss,val_last_time_step_mse\n",
      "368/368 [==============================] - 1s 4ms/step - loss: 0.6086 - last_time_step_mse: 0.5986 - val_loss: 0.6020 - val_last_time_step_mse: 0.5287\n",
      "Epoch 13/48\n",
      "367/368 [============================>.] - ETA: 0s - loss: 0.6049 - last_time_step_mse: 0.5940WARNING:tensorflow:Early stopping conditioned on metric `val_mean_squared_error` which is not available. Available metrics are: loss,last_time_step_mse,val_loss,val_last_time_step_mse\n",
      "368/368 [==============================] - 1s 4ms/step - loss: 0.6047 - last_time_step_mse: 0.5936 - val_loss: 0.5991 - val_last_time_step_mse: 0.5281\n",
      "Epoch 14/48\n",
      "363/368 [============================>.] - ETA: 0s - loss: 0.6011 - last_time_step_mse: 0.5930WARNING:tensorflow:Early stopping conditioned on metric `val_mean_squared_error` which is not available. Available metrics are: loss,last_time_step_mse,val_loss,val_last_time_step_mse\n",
      "368/368 [==============================] - 1s 4ms/step - loss: 0.6023 - last_time_step_mse: 0.5940 - val_loss: 0.5967 - val_last_time_step_mse: 0.5272\n",
      "Epoch 15/48\n",
      "364/368 [============================>.] - ETA: 0s - loss: 0.5980 - last_time_step_mse: 0.5893WARNING:tensorflow:Early stopping conditioned on metric `val_mean_squared_error` which is not available. Available metrics are: loss,last_time_step_mse,val_loss,val_last_time_step_mse\n",
      "368/368 [==============================] - 1s 4ms/step - loss: 0.5984 - last_time_step_mse: 0.5899 - val_loss: 0.5944 - val_last_time_step_mse: 0.5257\n",
      "Epoch 16/48\n",
      "361/368 [============================>.] - ETA: 0s - loss: 0.5976 - last_time_step_mse: 0.5874WARNING:tensorflow:Early stopping conditioned on metric `val_mean_squared_error` which is not available. Available metrics are: loss,last_time_step_mse,val_loss,val_last_time_step_mse\n",
      "368/368 [==============================] - 1s 4ms/step - loss: 0.5977 - last_time_step_mse: 0.5877 - val_loss: 0.5924 - val_last_time_step_mse: 0.5240\n",
      "Epoch 17/48\n",
      "361/368 [============================>.] - ETA: 0s - loss: 0.5955 - last_time_step_mse: 0.5861WARNING:tensorflow:Early stopping conditioned on metric `val_mean_squared_error` which is not available. Available metrics are: loss,last_time_step_mse,val_loss,val_last_time_step_mse\n",
      "368/368 [==============================] - 1s 4ms/step - loss: 0.5952 - last_time_step_mse: 0.5865 - val_loss: 0.5906 - val_last_time_step_mse: 0.5223\n",
      "Epoch 18/48\n",
      "363/368 [============================>.] - ETA: 0s - loss: 0.5937 - last_time_step_mse: 0.5847WARNING:tensorflow:Early stopping conditioned on metric `val_mean_squared_error` which is not available. Available metrics are: loss,last_time_step_mse,val_loss,val_last_time_step_mse\n",
      "368/368 [==============================] - 1s 4ms/step - loss: 0.5934 - last_time_step_mse: 0.5837 - val_loss: 0.5890 - val_last_time_step_mse: 0.5210\n"
     ]
    },
    {
     "name": "stdout",
     "output_type": "stream",
     "text": [
      "Epoch 19/48\n",
      "357/368 [============================>.] - ETA: 0s - loss: 0.5929 - last_time_step_mse: 0.5851WARNING:tensorflow:Early stopping conditioned on metric `val_mean_squared_error` which is not available. Available metrics are: loss,last_time_step_mse,val_loss,val_last_time_step_mse\n",
      "368/368 [==============================] - 1s 4ms/step - loss: 0.5913 - last_time_step_mse: 0.5838 - val_loss: 0.5876 - val_last_time_step_mse: 0.5203\n",
      "Epoch 20/48\n",
      "366/368 [============================>.] - ETA: 0s - loss: 0.5925 - last_time_step_mse: 0.5806WARNING:tensorflow:Early stopping conditioned on metric `val_mean_squared_error` which is not available. Available metrics are: loss,last_time_step_mse,val_loss,val_last_time_step_mse\n",
      "368/368 [==============================] - 2s 4ms/step - loss: 0.5913 - last_time_step_mse: 0.5798 - val_loss: 0.5863 - val_last_time_step_mse: 0.5192\n",
      "Epoch 21/48\n",
      "365/368 [============================>.] - ETA: 0s - loss: 0.5899 - last_time_step_mse: 0.5851WARNING:tensorflow:Early stopping conditioned on metric `val_mean_squared_error` which is not available. Available metrics are: loss,last_time_step_mse,val_loss,val_last_time_step_mse\n",
      "368/368 [==============================] - 1s 4ms/step - loss: 0.5901 - last_time_step_mse: 0.5857 - val_loss: 0.5851 - val_last_time_step_mse: 0.5187\n",
      "Epoch 22/48\n",
      "366/368 [============================>.] - ETA: 0s - loss: 0.5876 - last_time_step_mse: 0.5808WARNING:tensorflow:Early stopping conditioned on metric `val_mean_squared_error` which is not available. Available metrics are: loss,last_time_step_mse,val_loss,val_last_time_step_mse\n",
      "368/368 [==============================] - 1s 4ms/step - loss: 0.5881 - last_time_step_mse: 0.5818 - val_loss: 0.5839 - val_last_time_step_mse: 0.5165\n",
      "Epoch 23/48\n",
      "356/368 [============================>.] - ETA: 0s - loss: 0.5889 - last_time_step_mse: 0.5835WARNING:tensorflow:Early stopping conditioned on metric `val_mean_squared_error` which is not available. Available metrics are: loss,last_time_step_mse,val_loss,val_last_time_step_mse\n",
      "368/368 [==============================] - 1s 4ms/step - loss: 0.5866 - last_time_step_mse: 0.5811 - val_loss: 0.5829 - val_last_time_step_mse: 0.5158\n",
      "Epoch 24/48\n",
      "361/368 [============================>.] - ETA: 0s - loss: 0.5854 - last_time_step_mse: 0.5771WARNING:tensorflow:Early stopping conditioned on metric `val_mean_squared_error` which is not available. Available metrics are: loss,last_time_step_mse,val_loss,val_last_time_step_mse\n",
      "368/368 [==============================] - 1s 4ms/step - loss: 0.5864 - last_time_step_mse: 0.5777 - val_loss: 0.5820 - val_last_time_step_mse: 0.5157\n",
      "Epoch 25/48\n",
      "356/368 [============================>.] - ETA: 0s - loss: 0.5836 - last_time_step_mse: 0.5735WARNING:tensorflow:Early stopping conditioned on metric `val_mean_squared_error` which is not available. Available metrics are: loss,last_time_step_mse,val_loss,val_last_time_step_mse\n",
      "368/368 [==============================] - 1s 4ms/step - loss: 0.5835 - last_time_step_mse: 0.5732 - val_loss: 0.5812 - val_last_time_step_mse: 0.5153\n",
      "Epoch 26/48\n",
      "363/368 [============================>.] - ETA: 0s - loss: 0.5843 - last_time_step_mse: 0.5759WARNING:tensorflow:Early stopping conditioned on metric `val_mean_squared_error` which is not available. Available metrics are: loss,last_time_step_mse,val_loss,val_last_time_step_mse\n",
      "368/368 [==============================] - 1s 4ms/step - loss: 0.5844 - last_time_step_mse: 0.5751 - val_loss: 0.5805 - val_last_time_step_mse: 0.5140\n",
      "Epoch 27/48\n",
      "357/368 [============================>.] - ETA: 0s - loss: 0.5845 - last_time_step_mse: 0.5779WARNING:tensorflow:Early stopping conditioned on metric `val_mean_squared_error` which is not available. Available metrics are: loss,last_time_step_mse,val_loss,val_last_time_step_mse\n",
      "368/368 [==============================] - 1s 4ms/step - loss: 0.5837 - last_time_step_mse: 0.5771 - val_loss: 0.5798 - val_last_time_step_mse: 0.5130\n",
      "Epoch 28/48\n",
      "363/368 [============================>.] - ETA: 0s - loss: 0.5804 - last_time_step_mse: 0.5735WARNING:tensorflow:Early stopping conditioned on metric `val_mean_squared_error` which is not available. Available metrics are: loss,last_time_step_mse,val_loss,val_last_time_step_mse\n",
      "368/368 [==============================] - 1s 4ms/step - loss: 0.5811 - last_time_step_mse: 0.5734 - val_loss: 0.5791 - val_last_time_step_mse: 0.5125\n",
      "Epoch 29/48\n",
      "356/368 [============================>.] - ETA: 0s - loss: 0.5851 - last_time_step_mse: 0.5788WARNING:tensorflow:Early stopping conditioned on metric `val_mean_squared_error` which is not available. Available metrics are: loss,last_time_step_mse,val_loss,val_last_time_step_mse\n",
      "368/368 [==============================] - 1s 3ms/step - loss: 0.5841 - last_time_step_mse: 0.5785 - val_loss: 0.5786 - val_last_time_step_mse: 0.5120\n",
      "Epoch 30/48\n",
      "359/368 [============================>.] - ETA: 0s - loss: 0.5833 - last_time_step_mse: 0.5752WARNING:tensorflow:Early stopping conditioned on metric `val_mean_squared_error` which is not available. Available metrics are: loss,last_time_step_mse,val_loss,val_last_time_step_mse\n",
      "368/368 [==============================] - 1s 4ms/step - loss: 0.5826 - last_time_step_mse: 0.5735 - val_loss: 0.5781 - val_last_time_step_mse: 0.5120\n",
      "Epoch 31/48\n",
      "367/368 [============================>.] - ETA: 0s - loss: 0.5792 - last_time_step_mse: 0.5703WARNING:tensorflow:Early stopping conditioned on metric `val_mean_squared_error` which is not available. Available metrics are: loss,last_time_step_mse,val_loss,val_last_time_step_mse\n",
      "368/368 [==============================] - 1s 4ms/step - loss: 0.5797 - last_time_step_mse: 0.5710 - val_loss: 0.5776 - val_last_time_step_mse: 0.5117\n",
      "Epoch 32/48\n",
      "358/368 [============================>.] - ETA: 0s - loss: 0.5800 - last_time_step_mse: 0.5743WARNING:tensorflow:Early stopping conditioned on metric `val_mean_squared_error` which is not available. Available metrics are: loss,last_time_step_mse,val_loss,val_last_time_step_mse\n",
      "368/368 [==============================] - 1s 4ms/step - loss: 0.5811 - last_time_step_mse: 0.5748 - val_loss: 0.5773 - val_last_time_step_mse: 0.5112\n",
      "Epoch 33/48\n",
      "368/368 [==============================] - ETA: 0s - loss: 0.5788 - last_time_step_mse: 0.5729WARNING:tensorflow:Early stopping conditioned on metric `val_mean_squared_error` which is not available. Available metrics are: loss,last_time_step_mse,val_loss,val_last_time_step_mse\n",
      "368/368 [==============================] - 1s 4ms/step - loss: 0.5788 - last_time_step_mse: 0.5729 - val_loss: 0.5769 - val_last_time_step_mse: 0.5109\n",
      "Epoch 34/48\n",
      "364/368 [============================>.] - ETA: 0s - loss: 0.5805 - last_time_step_mse: 0.5765WARNING:tensorflow:Early stopping conditioned on metric `val_mean_squared_error` which is not available. Available metrics are: loss,last_time_step_mse,val_loss,val_last_time_step_mse\n",
      "368/368 [==============================] - 1s 4ms/step - loss: 0.5813 - last_time_step_mse: 0.5766 - val_loss: 0.5766 - val_last_time_step_mse: 0.5107\n",
      "Epoch 35/48\n",
      "354/368 [===========================>..] - ETA: 0s - loss: 0.5795 - last_time_step_mse: 0.5738WARNING:tensorflow:Early stopping conditioned on metric `val_mean_squared_error` which is not available. Available metrics are: loss,last_time_step_mse,val_loss,val_last_time_step_mse\n",
      "368/368 [==============================] - 1s 4ms/step - loss: 0.5780 - last_time_step_mse: 0.5720 - val_loss: 0.5764 - val_last_time_step_mse: 0.5106\n",
      "Epoch 36/48\n",
      "361/368 [============================>.] - ETA: 0s - loss: 0.5791 - last_time_step_mse: 0.5700WARNING:tensorflow:Early stopping conditioned on metric `val_mean_squared_error` which is not available. Available metrics are: loss,last_time_step_mse,val_loss,val_last_time_step_mse\n",
      "368/368 [==============================] - 1s 4ms/step - loss: 0.5779 - last_time_step_mse: 0.5684 - val_loss: 0.5761 - val_last_time_step_mse: 0.5103\n",
      "Epoch 37/48\n",
      "360/368 [============================>.] - ETA: 0s - loss: 0.5790 - last_time_step_mse: 0.5697WARNING:tensorflow:Early stopping conditioned on metric `val_mean_squared_error` which is not available. Available metrics are: loss,last_time_step_mse,val_loss,val_last_time_step_mse\n"
     ]
    },
    {
     "name": "stdout",
     "output_type": "stream",
     "text": [
      "368/368 [==============================] - 1s 4ms/step - loss: 0.5804 - last_time_step_mse: 0.5712 - val_loss: 0.5758 - val_last_time_step_mse: 0.5098\n",
      "Epoch 38/48\n",
      "356/368 [============================>.] - ETA: 0s - loss: 0.5787 - last_time_step_mse: 0.5745WARNING:tensorflow:Early stopping conditioned on metric `val_mean_squared_error` which is not available. Available metrics are: loss,last_time_step_mse,val_loss,val_last_time_step_mse\n",
      "368/368 [==============================] - 1s 3ms/step - loss: 0.5778 - last_time_step_mse: 0.5726 - val_loss: 0.5757 - val_last_time_step_mse: 0.5099\n",
      "Epoch 39/48\n",
      "360/368 [============================>.] - ETA: 0s - loss: 0.5784 - last_time_step_mse: 0.5700WARNING:tensorflow:Early stopping conditioned on metric `val_mean_squared_error` which is not available. Available metrics are: loss,last_time_step_mse,val_loss,val_last_time_step_mse\n",
      "368/368 [==============================] - 1s 4ms/step - loss: 0.5779 - last_time_step_mse: 0.5704 - val_loss: 0.5754 - val_last_time_step_mse: 0.5098\n",
      "Epoch 40/48\n",
      "357/368 [============================>.] - ETA: 0s - loss: 0.5774 - last_time_step_mse: 0.5725WARNING:tensorflow:Early stopping conditioned on metric `val_mean_squared_error` which is not available. Available metrics are: loss,last_time_step_mse,val_loss,val_last_time_step_mse\n",
      "368/368 [==============================] - 1s 4ms/step - loss: 0.5762 - last_time_step_mse: 0.5709 - val_loss: 0.5752 - val_last_time_step_mse: 0.5095\n",
      "Epoch 41/48\n",
      "363/368 [============================>.] - ETA: 0s - loss: 0.5772 - last_time_step_mse: 0.5748WARNING:tensorflow:Early stopping conditioned on metric `val_mean_squared_error` which is not available. Available metrics are: loss,last_time_step_mse,val_loss,val_last_time_step_mse\n",
      "368/368 [==============================] - 1s 4ms/step - loss: 0.5775 - last_time_step_mse: 0.5748 - val_loss: 0.5750 - val_last_time_step_mse: 0.5091\n",
      "Epoch 42/48\n",
      "357/368 [============================>.] - ETA: 0s - loss: 0.5742 - last_time_step_mse: 0.5694WARNING:tensorflow:Early stopping conditioned on metric `val_mean_squared_error` which is not available. Available metrics are: loss,last_time_step_mse,val_loss,val_last_time_step_mse\n",
      "368/368 [==============================] - 1s 4ms/step - loss: 0.5749 - last_time_step_mse: 0.5717 - val_loss: 0.5749 - val_last_time_step_mse: 0.5096\n",
      "Epoch 43/48\n",
      "362/368 [============================>.] - ETA: 0s - loss: 0.5765 - last_time_step_mse: 0.5690WARNING:tensorflow:Early stopping conditioned on metric `val_mean_squared_error` which is not available. Available metrics are: loss,last_time_step_mse,val_loss,val_last_time_step_mse\n",
      "368/368 [==============================] - 1s 4ms/step - loss: 0.5766 - last_time_step_mse: 0.5688 - val_loss: 0.5748 - val_last_time_step_mse: 0.5088\n",
      "Epoch 44/48\n",
      "366/368 [============================>.] - ETA: 0s - loss: 0.5777 - last_time_step_mse: 0.5700WARNING:tensorflow:Early stopping conditioned on metric `val_mean_squared_error` which is not available. Available metrics are: loss,last_time_step_mse,val_loss,val_last_time_step_mse\n",
      "368/368 [==============================] - 1s 4ms/step - loss: 0.5774 - last_time_step_mse: 0.5699 - val_loss: 0.5746 - val_last_time_step_mse: 0.5086\n",
      "Epoch 45/48\n",
      "355/368 [===========================>..] - ETA: 0s - loss: 0.5763 - last_time_step_mse: 0.5627WARNING:tensorflow:Early stopping conditioned on metric `val_mean_squared_error` which is not available. Available metrics are: loss,last_time_step_mse,val_loss,val_last_time_step_mse\n",
      "368/368 [==============================] - 1s 4ms/step - loss: 0.5756 - last_time_step_mse: 0.5625 - val_loss: 0.5744 - val_last_time_step_mse: 0.5085\n",
      "Epoch 46/48\n",
      "366/368 [============================>.] - ETA: 0s - loss: 0.5771 - last_time_step_mse: 0.5719WARNING:tensorflow:Early stopping conditioned on metric `val_mean_squared_error` which is not available. Available metrics are: loss,last_time_step_mse,val_loss,val_last_time_step_mse\n",
      "368/368 [==============================] - 1s 4ms/step - loss: 0.5774 - last_time_step_mse: 0.5726 - val_loss: 0.5744 - val_last_time_step_mse: 0.5084\n",
      "Epoch 47/48\n",
      "364/368 [============================>.] - ETA: 0s - loss: 0.5756 - last_time_step_mse: 0.5703WARNING:tensorflow:Early stopping conditioned on metric `val_mean_squared_error` which is not available. Available metrics are: loss,last_time_step_mse,val_loss,val_last_time_step_mse\n",
      "368/368 [==============================] - 1s 4ms/step - loss: 0.5753 - last_time_step_mse: 0.5704 - val_loss: 0.5742 - val_last_time_step_mse: 0.5087\n",
      "Epoch 48/48\n",
      "361/368 [============================>.] - ETA: 0s - loss: 0.5753 - last_time_step_mse: 0.5676WARNING:tensorflow:Early stopping conditioned on metric `val_mean_squared_error` which is not available. Available metrics are: loss,last_time_step_mse,val_loss,val_last_time_step_mse\n",
      "368/368 [==============================] - 1s 4ms/step - loss: 0.5764 - last_time_step_mse: 0.5687 - val_loss: 0.5741 - val_last_time_step_mse: 0.5084\n"
     ]
    }
   ],
   "source": [
    "# seed\n",
    "tf.random.set_seed(1)\n",
    "np.random.seed(1)\n",
    "\n",
    "target_axis = 0\n",
    "history = model.fit(x= train_all[r_train:,:,:],\n",
    "                    y= train_all_y[r_train:,:,:], # shift one time point\n",
    "                    epochs= stop_epoch,\n",
    "                    batch_size= batch_size,\n",
    "                    validation_data=( Xdict2['test'],ydict2['test']),\n",
    "                    callbacks=callback_list)\n"
   ]
  },
  {
   "cell_type": "code",
   "execution_count": 34,
   "metadata": {},
   "outputs": [
    {
     "data": {
      "image/png": "[encoded data removed]",
      "text/plain": [
       "<Figure size 576x360 with 1 Axes>"
      ]
     },
     "metadata": {
      "needs_background": "light"
     },
     "output_type": "display_data"
    }
   ],
   "source": [
    "pd.DataFrame(history.history).plot(figsize=(8,5))\n",
    "plt.grid(True)\n",
    "plt.show()"
   ]
  },
  {
   "cell_type": "code",
   "execution_count": 35,
   "metadata": {},
   "outputs": [],
   "source": [
    "pred = model.predict(Xdict2['test'])[:,-1,:].flatten()\n",
    "true = ydict2['test'][:,-1,:].flatten()\n",
    "\n",
    "ymean = p_scalar.mean_[target_axis]\n",
    "yvar = p_scalar.var_[target_axis]\n",
    "y_hat = pred*np.sqrt(yvar)+ymean\n",
    "y_true = true*np.sqrt(yvar)+ymean"
   ]
  },
  {
   "cell_type": "code",
   "execution_count": 36,
   "metadata": {},
   "outputs": [],
   "source": [
    "predictors = ['TotalWaterUse_lag','ET_turf_month_mean_lag']\n",
    "Xdict2, ydict2 = lstmtensor_longterm_forecast(data=WU_lag.dropna(),\n",
    "                          feature_patterns= predictors,\n",
    "                          target_pattern='TotalWaterUse',\n",
    "                          sets='Set')"
   ]
  },
  {
   "cell_type": "code",
   "execution_count": 37,
   "metadata": {},
   "outputs": [],
   "source": [
    "train_all = np.concatenate([Xdict2['train'],Xdict2['dev']], axis= 0)\n",
    "train_all_y = np.concatenate([ydict2['train'],ydict2['dev']], axis= 0)\n",
    "\n",
    "pred = model.predict(Xdict2['test'])[:,-1,:].flatten()\n",
    "true = ydict2['test'][:,-1,:].flatten()\n",
    "\n",
    "target_axis = 0\n",
    "ymean = p_scalar.mean_[target_axis]\n",
    "yvar = p_scalar.var_[target_axis]\n",
    "y_hat = pred*np.sqrt(yvar)+ymean\n",
    "y_true = true*np.sqrt(yvar)+ymean"
   ]
  },
  {
   "cell_type": "code",
   "execution_count": 38,
   "metadata": {},
   "outputs": [
    {
     "name": "stdout",
     "output_type": "stream",
     "text": [
      "done\n",
      "(1000, 1200)\n"
     ]
    }
   ],
   "source": [
    "T= 1000\n",
    "\n",
    "tf.random.set_seed(1)\n",
    "np.random.seed(1)\n",
    "\n",
    "class MCDropout(keras.layers.Dropout):\n",
    "    def call(self, inputs):\n",
    "        return super().call(inputs, training=True)\n",
    "\n",
    "class MCAlphaDropout(keras.layers.AlphaDropout):\n",
    "    def call(self, inputs):\n",
    "        return super().call(inputs, training=True)\n",
    "\n",
    "    \n",
    "mc_model = Sequential([\n",
    "    MCDropout(dp_rate) if isinstance(layer, Dropout) else layer\n",
    "    for layer in model.layers\n",
    "])\n",
    "\n",
    "mc_model.compile(optimizer = Adam(), loss = 'mean_squared_error',metrics = ['mean_squared_error'] )\n",
    "mc_model.set_weights(model.get_weights())\n",
    "tf.random.set_seed(1)\n",
    "np.random.seed(1)\n",
    "\n",
    "# mc dp\n",
    "X_test_tf = tf.constant(Xdict2['test'], dtype=tf.float32 )\n",
    "y_probas = np.stack([mc_model.predict(X_test_tf,batch_size=batch_size*100)[:,-1,:].flatten() # 973 x 12 = whole test\n",
    "                     for sample in range(T)])\n",
    "print('done')\n",
    "print(y_probas.shape)"
   ]
  },
  {
   "cell_type": "code",
   "execution_count": 50,
   "metadata": {},
   "outputs": [],
   "source": [
    "target_axis = 0\n",
    "ymean = p_scalar.mean_[target_axis]\n",
    "yvar = p_scalar.var_[target_axis]\n",
    "y_hat_MC = y_probas * np.sqrt(yvar)+ymean\n",
    "y_hat = y_hat_MC.mean(axis=0)\n",
    "sig_hat = y_hat_MC.std(axis=0)"
   ]
  },
  {
   "cell_type": "code",
   "execution_count": 51,
   "metadata": {},
   "outputs": [],
   "source": [
    "# hyper-par: tau\n",
    "np.random.seed(1)\n",
    "y_MC_mixture = np.concatenate([np.random.normal(loc=samplei,scale=sig,size=(10,len(samplei))) for samplei in y_hat_MC] , axis=0)"
   ]
  },
  {
   "cell_type": "code",
   "execution_count": 54,
   "metadata": {},
   "outputs": [],
   "source": [
    "alpha= 0.05\n",
    "L_hat = np.quantile(y_MC_mixture,alpha/2,axis=0)\n",
    "U_hat = np.quantile(y_MC_mixture,(1-alpha/2),axis=0)\n",
    "\n",
    "left = L_hat\n",
    "right = U_hat\n",
    "\n",
    "py_all = np.stack([norm.pdf(y_true, loc=samplei, scale=sig) for samplei in y_hat_MC])\n",
    "p_y = py_all.mean(axis=0)"
   ]
  },
  {
   "cell_type": "markdown",
   "metadata": {},
   "source": [
    "# Save"
   ]
  },
  {
   "cell_type": "code",
   "execution_count": 56,
   "metadata": {},
   "outputs": [],
   "source": [
    "WU2 = feather.read_dataframe('Data/WU.feather')\n",
    "\n",
    "original_y_true =  WU2[WU2.loc[:,'Set']=='test'].loc[:,'TotalWaterUse'].values\n",
    "\n",
    "sig_hat2 = y_MC_mixture.std(axis=0)\n",
    "\n",
    "all_test_MF_LSTM = pd.DataFrame({\n",
    "    'Index': WU2[WU2.loc[:,'Set']=='test'].loc[:,'Index'].values,\n",
    "    'Y': y_true,\n",
    "    'y_hat': y_hat,\n",
    "    'L': left,\n",
    "    'U': right,\n",
    "    'sig_hat': sig_hat2,\n",
    "    'p_y':p_y\n",
    "})\n",
    "\n",
    "path = 'Out_test_MF\\\\month12\\\\LSTM_MC_12m_dist.feather'\n",
    "feather.write_dataframe(all_test_MF_LSTM , path)"
   ]
  },
  {
   "cell_type": "code",
   "execution_count": 57,
   "metadata": {},
   "outputs": [],
   "source": [
    "# write sample for ECPI\n",
    "path = 'Out_test_MF\\\\month12\\\\LSTM_MC.npy'\n",
    "np.save(path, y_MC_mixture)"
   ]
  },
  {
   "cell_type": "markdown",
   "metadata": {},
   "source": [
    "# report"
   ]
  },
  {
   "cell_type": "code",
   "execution_count": 60,
   "metadata": {},
   "outputs": [
    {
     "name": "stdout",
     "output_type": "stream",
     "text": [
      " & 2292.05 & 9.15 & 12711.62 & 8795.85 & 0.93 & 95\\% \\\\\n"
     ]
    }
   ],
   "source": [
    "r1,r2,r3,r4,r5 = get_RMSE_NLL_NOIS_AWPI_ECPI(y_true,y_hat,left,right,alpha=0.05)"
   ]
  },
  {
   "cell_type": "code",
   "execution_count": 61,
   "metadata": {},
   "outputs": [],
   "source": [
    "# results\n",
    "with open(\"Results/Results_12m.txt\", \"a\") as myfile:\n",
    "    myfile.write(\"LSTM \\n\")\n",
    "    myfile.write('RMSE %f & NLL %f & NOIS %f & AWPI %f & ECPI %f \\n' % (\n",
    "        r1,-np.log(p_y).mean(),r3,r4,r5 ))"
   ]
  }
 ],
 "metadata": {
  "kernelspec": {
   "display_name": "Python 3",
   "language": "python",
   "name": "python3"
  },
  "language_info": {
   "codemirror_mode": {
    "name": "ipython",
    "version": 3
   },
   "file_extension": ".py",
   "mimetype": "text/x-python",
   "name": "python",
   "nbconvert_exporter": "python",
   "pygments_lexer": "ipython3",
   "version": "3.8.5"
  }
 },
 "nbformat": 4,
 "nbformat_minor": 2
}
