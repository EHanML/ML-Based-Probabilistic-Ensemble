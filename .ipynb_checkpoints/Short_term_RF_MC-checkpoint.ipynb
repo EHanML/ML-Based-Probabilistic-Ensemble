{
 "cells": [
  {
   "cell_type": "code",
   "execution_count": 5,
   "metadata": {},
   "outputs": [],
   "source": [
    "# library\n",
    "import pandas as pd\n",
    "import os \n",
    "import feather\n",
    "import numpy as np\n",
    "import matplotlib.pyplot as plt\n",
    "from scipy.special import logsumexp\n",
    "from sklearn.metrics import mean_squared_error\n",
    "from sklearn.metrics import make_scorer\n",
    "from models import rf\n",
    "from utils import *\n"
   ]
  },
  {
   "cell_type": "markdown",
   "metadata": {},
   "source": [
    "\n",
    "\n",
    "\n",
    "\n"
   ]
  },
  {
   "cell_type": "code",
   "execution_count": 6,
   "metadata": {},
   "outputs": [],
   "source": [
    "# read in \n",
    "WU = feather.read_dataframe('Data/WU_lag.feather')\n",
    "WU2 = WU\n",
    "#pp\n",
    "WU = WU.drop(columns=['Index','year','ParcelID','Days','year','month'])\n",
    "\n",
    "\n",
    "WU_train = WU[WU['Set'] == 'train'].drop(columns=['Set'])\n",
    "WU_dev = WU[WU['Set'] == 'dev'].drop(columns=['Set'])\n",
    "WU_test = WU[WU['Set'] == 'test'].drop(columns=['Set'])\n",
    "\n",
    "WU_train_all =  WU[WU['Set'] != 'test'].drop(columns=['Set'])\n",
    "\n",
    "predictors = list( WU_train.drop(columns=['TotalWaterUse']).columns)\n",
    "\n",
    "X_train = WU_train.drop(columns=['TotalWaterUse']).values\n",
    "Y_train = WU_train.loc[:,'TotalWaterUse'].values\n",
    "\n",
    "X_dev = WU_dev.drop(columns=['TotalWaterUse']).values\n",
    "Y_dev = WU_dev.loc[:,'TotalWaterUse'].values\n",
    "\n",
    "X_test = WU_test.drop(columns=['TotalWaterUse']).values\n",
    "Y_test = WU_test.loc[:,'TotalWaterUse'].values\n",
    "\n",
    "X_train_all = WU_train_all.drop(columns=['TotalWaterUse']).values\n",
    "Y_train_all = WU_train_all.loc[:,'TotalWaterUse'].values\n"
   ]
  },
  {
   "cell_type": "markdown",
   "metadata": {},
   "source": [
    "# UQRF"
   ]
  },
  {
   "cell_type": "code",
   "execution_count": 7,
   "metadata": {},
   "outputs": [
    {
     "name": "stdout",
     "output_type": "stream",
     "text": [
      "mtry: 1 \t NLL: 8.590279393537461 \t tau:1.33514404296875e-05 \t erorr: 1420.8585840268313\n",
      "mtry: 2 \t NLL: 8.477430370313298 \t tau:1.24359130859375e-05 \t erorr: 1271.140056485419\n",
      "mtry: 3 \t NLL: 8.428652501945926 \t tau:1.1978149414062499e-05 \t erorr: 1205.9420236157875\n",
      "mtry: 4 \t NLL: 8.400247253498131 \t tau:1.24359130859375e-05 \t erorr: 1172.2801864515536\n",
      "mtry: 5 \t NLL: 8.388116308531147 \t tau:1.0833740234375e-05 \t erorr: 1156.209262502408\n",
      "mtry: 6 \t NLL: 8.383296028375604 \t tau:9.765625e-06 \t erorr: 1144.376668369649\n",
      "mtry: 7 \t NLL: 8.381235235861647 \t tau:9.422302246093749e-06 \t erorr: 1142.3509221464888\n",
      "mtry: 8 \t NLL: 8.376708539759829 \t tau:9.651184082031251e-06 \t erorr: 1139.6344002065607\n",
      "mtry: 9 \t NLL: 8.386674480082434 \t tau:7.0190429687499995e-06 \t erorr: 1137.4726812863444\n",
      "mtry: 10 \t NLL: 8.380331119833803 \t tau:8.27789306640625e-06 \t erorr: 1136.6926548868585\n",
      "mtry: 11 \t NLL: 8.38722421904126 \t tau:6.90460205078125e-06 \t erorr: 1139.5090943569296\n",
      "mtry: 12 \t NLL: 8.382899472419828 \t tau:7.82012939453125e-06 \t erorr: 1140.358934602784\n",
      "mtry: 13 \t NLL: 8.392472498646645 \t tau:6.21795654296875e-06 \t erorr: 1140.2488402244142\n",
      "mtry: 14 \t NLL: 8.393572925194126 \t tau:6.561279296875e-06 \t erorr: 1141.2853484779603\n",
      "mtry: 15 \t NLL: 8.397026766641108 \t tau:6.44683837890625e-06 \t erorr: 1146.2757993792857\n",
      "mtry: 16 \t NLL: 8.395272839494545 \t tau:7.0190429687499995e-06 \t erorr: 1143.20662331614\n",
      "mtry: 17 \t NLL: 8.3993151177006 \t tau:6.21795654296875e-06 \t erorr: 1147.1616807763908\n",
      "mtry: 18 \t NLL: 8.402634901281326 \t tau:5.76019287109375e-06 \t erorr: 1149.3856460575303\n",
      "mtry: 19 \t NLL: 8.404872462096618 \t tau:5.8746337890625e-06 \t erorr: 1153.0080997430678\n"
     ]
    }
   ],
   "source": [
    "reg, tau, mtry, nll = rf.gridRF(X_train, Y_train, X_dev, Y_dev)"
   ]
  },
  {
   "cell_type": "code",
   "execution_count": 9,
   "metadata": {},
   "outputs": [],
   "source": [
    "# dev\n",
    "tau, mtry = 9.651184082031251e-06, 8\n",
    "\n",
    "model = rf.rf(X_train, Y_train, mtry = mtry, tau = tau) \n",
    "\n",
    "y_hat, L_hat, U_hat, p_y, sig_hat, _ = model.predict_MC(X_dev, Y_dev, alpha= 0.05)"
   ]
  },
  {
   "cell_type": "code",
   "execution_count": 10,
   "metadata": {},
   "outputs": [],
   "source": [
    "y_true = Y_dev\n",
    "all_test_MF = pd.DataFrame({\n",
    "    'Index': WU2[WU2.loc[:,'Set']=='dev'].loc[:,'Index'].values,\n",
    "    'Y': y_true,\n",
    "    'y_hat': y_hat,\n",
    "    'L': np.maximum(L_hat,0 ),\n",
    "    'U': U_hat,\n",
    "    'sig_hat': sig_hat,\n",
    "    'p_y':p_y\n",
    "})\n",
    "\n",
    "path = 'Out_dev_MF\\\\month1\\\\RF_dev_1m_dist.feather'\n",
    "feather.write_dataframe(all_test_MF , path)"
   ]
  },
  {
   "cell_type": "code",
   "execution_count": 11,
   "metadata": {},
   "outputs": [],
   "source": [
    "# test\n",
    "model = rf.rf(X_train_all, Y_train_all, mtry = mtry, tau = tau) \n",
    "\n",
    "y_hat, L_hat, U_hat, p_y, sig_hat, y_MC_mixture = model.predict_MC(X_test, Y_test, alpha= 0.05)"
   ]
  },
  {
   "cell_type": "code",
   "execution_count": 12,
   "metadata": {},
   "outputs": [],
   "source": [
    "y_true = Y_test\n",
    "all_test_MF = pd.DataFrame({\n",
    "    'Index': WU2[WU2.loc[:,'Set']=='test'].loc[:,'Index'].values,\n",
    "    'Y': y_true,\n",
    "    'y_hat': y_hat,\n",
    "    'L': np.maximum(L_hat,0 ),\n",
    "    'U': U_hat,\n",
    "    'sig_hat': sig_hat,\n",
    "    'p_y':p_y\n",
    "})\n",
    "\n",
    "path = 'Out_test_MF\\\\month1\\\\RF_1m_dist.feather'\n",
    "feather.write_dataframe(all_test_MF , path)\n",
    "\n",
    "path = 'Out_test_MF\\\\month1\\\\RF_MC.npy'\n",
    "np.save(path, y_MC_mixture)"
   ]
  },
  {
   "cell_type": "markdown",
   "metadata": {},
   "source": [
    "# Report"
   ]
  },
  {
   "cell_type": "code",
   "execution_count": 13,
   "metadata": {},
   "outputs": [
    {
     "name": "stdout",
     "output_type": "stream",
     "text": [
      " & 1150.9 & 8.42 & 7093.05 & 4890.41 & 0.94 & 95\\% \\\\\n"
     ]
    }
   ],
   "source": [
    "r1,r2,r3,r4,r5 = get_RMSE_NLL_NOIS_AWPI_ECPI(Y_test,y_hat,np.maximum(L_hat,0 ), U_hat,alpha=0.05)"
   ]
  },
  {
   "cell_type": "code",
   "execution_count": 15,
   "metadata": {},
   "outputs": [],
   "source": [
    "# results\n",
    "with open(\"Results/Results_1m.txt\", \"a\") as myfile:\n",
    "    myfile.write(\"RF \\n\")\n",
    "    myfile.write('RMSE %f & NLL %f & NOIS %f & AWPI %f & ECPI %f \\n' % (\n",
    "        r1,-np.log(p_y).mean(),r3,r4,r5 ))"
   ]
  },
  {
   "cell_type": "markdown",
   "metadata": {},
   "source": [
    "# BMA"
   ]
  },
  {
   "cell_type": "code",
   "execution_count": 16,
   "metadata": {},
   "outputs": [],
   "source": [
    "best_tau, rmse, nll, _ = model.predict(X_train_all, Y_train_all)\n",
    "with open(\"Ensemble/BMA_short.txt\", \"a\") as myfile:\n",
    "    myfile.write(\"RF, %f \\n\" % (nll))"
   ]
  }
 ],
 "metadata": {
  "kernelspec": {
   "display_name": "Python 3",
   "language": "python",
   "name": "python3"
  },
  "language_info": {
   "codemirror_mode": {
    "name": "ipython",
    "version": 3
   },
   "file_extension": ".py",
   "mimetype": "text/x-python",
   "name": "python",
   "nbconvert_exporter": "python",
   "pygments_lexer": "ipython3",
   "version": "3.8.5"
  }
 },
 "nbformat": 4,
 "nbformat_minor": 2
}
