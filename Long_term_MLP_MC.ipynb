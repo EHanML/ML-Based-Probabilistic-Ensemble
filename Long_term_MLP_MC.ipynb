{
 "cells": [
  {
   "cell_type": "code",
   "execution_count": 1,
   "metadata": {},
   "outputs": [
    {
     "name": "stdout",
     "output_type": "stream",
     "text": [
      "TensorFlow Version: 2.3.0\n",
      "Default GPU Device: /device:GPU:0\n",
      "WARNING:tensorflow:From <ipython-input-1-fef618f7fbca>:16: is_gpu_available (from tensorflow.python.framework.test_util) is deprecated and will be removed in a future version.\n",
      "Instructions for updating:\n",
      "Use `tf.config.list_physical_devices('GPU')` instead.\n"
     ]
    },
    {
     "data": {
      "text/plain": [
       "'2.4.0'"
      ]
     },
     "execution_count": 1,
     "metadata": {},
     "output_type": "execute_result"
    }
   ],
   "source": [
    "from distutils.version import LooseVersion\n",
    "import warnings\n",
    "import tensorflow as tf\n",
    "\n",
    "\n",
    "# Check TensorFlow Version\n",
    "assert LooseVersion(tf.__version__) >= LooseVersion('1.0'), 'Please use TensorFlow version 1.0 or newer.  You are using {}'.format(tf.__version__)\n",
    "print('TensorFlow Version: {}'.format(tf.__version__))\n",
    "\n",
    "# Check for a GPU\n",
    "if not tf.test.gpu_device_name():\n",
    "    warnings.warn('No GPU found. Please ensure you have installed TensorFlow correctly')\n",
    "else:\n",
    "    print('Default GPU Device: {}'.format(tf.test.gpu_device_name()))\n",
    "\n",
    "if not tf.test.is_gpu_available():\n",
    "    print(\"No GPU was detected. LSTMs and CNNs can be very slow without a GPU.\")\n",
    "    if IS_COLAB:\n",
    "        print(\"Go to Runtime > Change runtime and select a GPU hardware accelerator.\")\n",
    "\n",
    "tf.__version__\n",
    "tf.keras.__version__"
   ]
  },
  {
   "cell_type": "code",
   "execution_count": 17,
   "metadata": {},
   "outputs": [],
   "source": [
    "# library\n",
    "import pandas as pd\n",
    "import os \n",
    "import feather\n",
    "import numpy as np\n",
    "import matplotlib.pyplot as plt\n",
    "import re\n",
    "from scipy.stats import norm\n",
    "from scipy.special import logsumexp\n",
    "from sklearn import preprocessing\n",
    "from tensorflow import keras\n",
    "from sklearn.metrics import mean_squared_error\n",
    "from utils import *"
   ]
  },
  {
   "cell_type": "code",
   "execution_count": 3,
   "metadata": {},
   "outputs": [],
   "source": [
    "# read in \n",
    "WU = feather.read_dataframe('Data/WU.feather')\n",
    "\n",
    "WU = WU.drop(columns=['Index','year','ParcelID','Days','year','month'])\n",
    "\n",
    "WU_train = WU[WU['Set'] == 'train'].drop(columns=['Set'])\n",
    "WU_dev = WU[WU['Set'] == 'dev'].drop(columns=['Set'])\n",
    "WU_test = WU[WU['Set'] == 'test'].drop(columns=['Set'])\n",
    "\n",
    "WU_train_all =  WU[WU['Set'] != 'test'].drop(columns=['Set'])\n",
    "\n",
    "predictors = list( WU_train.drop(columns=['TotalWaterUse']).columns)\n",
    "\n",
    "X_train1 = WU_train.drop(columns=['TotalWaterUse']).values\n",
    "Y_train = WU_train.loc[:,'TotalWaterUse'].values\n",
    "\n",
    "X_dev1 = WU_dev.drop(columns=['TotalWaterUse']).values\n",
    "Y_dev = WU_dev.loc[:,'TotalWaterUse'].values\n",
    "\n",
    "X_test1 = WU_test.drop(columns=['TotalWaterUse']).values\n",
    "Y_test = WU_test.loc[:,'TotalWaterUse'].values\n",
    "\n",
    "X_train_all1 = WU_train_all.drop(columns=['TotalWaterUse']).values\n",
    "Y_train_all = WU_train_all.loc[:,'TotalWaterUse'].values\n",
    "\n",
    "p_scalar1 = preprocessing.StandardScaler() # for dev\n",
    "p_scalar2 = preprocessing.StandardScaler() # for test\n",
    "p_scalar1.fit(X_train1)\n",
    "p_scalar2.fit(X_train_all1)\n",
    "\n",
    "X_train = p_scalar1.transform(X_train1 )\n",
    "X_dev = p_scalar1.transform(X_dev1)\n",
    "\n",
    "X_train_all = p_scalar2.transform(X_train_all1)\n",
    "X_test = p_scalar2.transform(X_test1 )"
   ]
  },
  {
   "cell_type": "code",
   "execution_count": 4,
   "metadata": {},
   "outputs": [],
   "source": [
    "def buildmodel(dense_dp = 0.1, l2=0.01, unites =128):\n",
    "    model = keras.models.Sequential([\n",
    "        keras.layers.Dense(unites,activation='selu', input_shape = X_train.shape[1:], \n",
    "                                 kernel_initializer='lecun_normal',\n",
    "                                 kernel_regularizer=keras.regularizers.l2(l2)),\n",
    "        keras.layers.Dropout(dense_dp),\n",
    "        keras.layers.Dense(unites,activation='selu',\n",
    "                                 kernel_initializer='lecun_normal',\n",
    "                                 kernel_regularizer=keras.regularizers.l2(l2)),\n",
    "        keras.layers.Dropout(dense_dp),\n",
    "        keras.layers.Dense(unites,activation='selu',\n",
    "                                 kernel_initializer='lecun_normal',\n",
    "                                 kernel_regularizer=keras.regularizers.l2(l2)),\n",
    "        keras.layers.Dropout(dense_dp),\n",
    "        keras.layers.Dense(unites,activation='selu',\n",
    "                                 kernel_initializer='lecun_normal',\n",
    "                                 kernel_regularizer=keras.regularizers.l2(l2)),\n",
    "        keras.layers.Dropout(dense_dp),\n",
    "        keras.layers.Dense(unites,activation='selu',\n",
    "                                 kernel_initializer='lecun_normal',\n",
    "                                 kernel_regularizer=keras.regularizers.l2(l2)),\n",
    "        keras.layers.Dropout(dense_dp),\n",
    "        keras.layers.Dense(unites,activation='selu',\n",
    "                                 kernel_initializer='lecun_normal',\n",
    "                                 kernel_regularizer=keras.regularizers.l2(l2)),\n",
    "        keras.layers.Dropout(dense_dp) ,\n",
    "        keras.layers.Dense(unites,activation='selu',\n",
    "                                 kernel_initializer='lecun_normal',\n",
    "                                 kernel_regularizer=keras.regularizers.l2(l2)),\n",
    "\n",
    "       #keras.layers.AlphaDropout(dense_dp) ,\n",
    "        keras.layers.Dense(1)\n",
    "    ])\n",
    "    return model"
   ]
  },
  {
   "cell_type": "markdown",
   "metadata": {},
   "source": [
    "del model\n",
    "tf.keras.backend.clear_session()"
   ]
  },
  {
   "cell_type": "code",
   "execution_count": 5,
   "metadata": {},
   "outputs": [],
   "source": [
    "l2 = 0.1\n",
    "dp_rate=0.1\n",
    "n_unites = 512\n",
    "lr=1e-5\n",
    "batch_size=128"
   ]
  },
  {
   "cell_type": "code",
   "execution_count": 6,
   "metadata": {},
   "outputs": [
    {
     "name": "stdout",
     "output_type": "stream",
     "text": [
      "Model: \"sequential\"\n",
      "_________________________________________________________________\n",
      "Layer (type)                 Output Shape              Param #   \n",
      "=================================================================\n",
      "dense (Dense)                (None, 512)               7680      \n",
      "_________________________________________________________________\n",
      "dropout (Dropout)            (None, 512)               0         \n",
      "_________________________________________________________________\n",
      "dense_1 (Dense)              (None, 512)               262656    \n",
      "_________________________________________________________________\n",
      "dropout_1 (Dropout)          (None, 512)               0         \n",
      "_________________________________________________________________\n",
      "dense_2 (Dense)              (None, 512)               262656    \n",
      "_________________________________________________________________\n",
      "dropout_2 (Dropout)          (None, 512)               0         \n",
      "_________________________________________________________________\n",
      "dense_3 (Dense)              (None, 512)               262656    \n",
      "_________________________________________________________________\n",
      "dropout_3 (Dropout)          (None, 512)               0         \n",
      "_________________________________________________________________\n",
      "dense_4 (Dense)              (None, 512)               262656    \n",
      "_________________________________________________________________\n",
      "dropout_4 (Dropout)          (None, 512)               0         \n",
      "_________________________________________________________________\n",
      "dense_5 (Dense)              (None, 512)               262656    \n",
      "_________________________________________________________________\n",
      "dropout_5 (Dropout)          (None, 512)               0         \n",
      "_________________________________________________________________\n",
      "dense_6 (Dense)              (None, 512)               262656    \n",
      "_________________________________________________________________\n",
      "dense_7 (Dense)              (None, 1)                 513       \n",
      "=================================================================\n",
      "Total params: 1,584,129\n",
      "Trainable params: 1,584,129\n",
      "Non-trainable params: 0\n",
      "_________________________________________________________________\n"
     ]
    }
   ],
   "source": [
    "model = buildmodel(dense_dp = dp_rate, l2=l2, unites = n_unites)\n",
    "\n",
    "model.compile(optimizer = keras.optimizers.Nadam(learning_rate=lr), loss = 'mean_squared_error', metrics = ['mse'] )\n",
    "model.summary()"
   ]
  },
  {
   "cell_type": "code",
   "execution_count": 7,
   "metadata": {},
   "outputs": [],
   "source": [
    "callback_list =[\n",
    "    keras.callbacks.EarlyStopping(\n",
    "        monitor = 'val_mse',\n",
    "        restore_best_weights=True,\n",
    "        patience= 5\n",
    "    ),\n",
    "    keras.callbacks.ModelCheckpoint(\n",
    "        filepath='MLP_log/mpl_mc_dev_12m.h5',\n",
    "        save_best_only= True,\n",
    "        monitor='val_mse'\n",
    "    )\n",
    "]"
   ]
  },
  {
   "cell_type": "code",
   "execution_count": 8,
   "metadata": {},
   "outputs": [
    {
     "name": "stdout",
     "output_type": "stream",
     "text": [
      "Epoch 1/100\n",
      "89/89 [==============================] - 1s 13ms/step - loss: 32771520.0000 - mse: 32771164.0000 - val_loss: 33023750.0000 - val_mse: 33023396.0000\n",
      "Epoch 2/100\n",
      "89/89 [==============================] - 1s 10ms/step - loss: 32686034.0000 - mse: 32685682.0000 - val_loss: 32857502.0000 - val_mse: 32857142.0000\n",
      "Epoch 3/100\n",
      "89/89 [==============================] - 1s 10ms/step - loss: 32324060.0000 - mse: 32323712.0000 - val_loss: 32171352.0000 - val_mse: 32170990.0000\n",
      "Epoch 4/100\n",
      "89/89 [==============================] - 1s 10ms/step - loss: 30750938.0000 - mse: 30750578.0000 - val_loss: 29039190.0000 - val_mse: 29038824.0000\n",
      "Epoch 5/100\n",
      "89/89 [==============================] - 1s 10ms/step - loss: 24120668.0000 - mse: 24120312.0000 - val_loss: 18878446.0000 - val_mse: 18878082.0000\n",
      "Epoch 6/100\n",
      "89/89 [==============================] - 1s 10ms/step - loss: 15129103.0000 - mse: 15128741.0000 - val_loss: 14522086.0000 - val_mse: 14521719.0000\n",
      "Epoch 7/100\n",
      "89/89 [==============================] - 1s 9ms/step - loss: 13706650.0000 - mse: 13706287.0000 - val_loss: 14293222.0000 - val_mse: 14292855.0000\n",
      "Epoch 8/100\n",
      "89/89 [==============================] - 1s 9ms/step - loss: 13493833.0000 - mse: 13493464.0000 - val_loss: 14109437.0000 - val_mse: 14109070.0000\n",
      "Epoch 9/100\n",
      "89/89 [==============================] - 1s 10ms/step - loss: 13316356.0000 - mse: 13315990.0000 - val_loss: 13891241.0000 - val_mse: 13890874.0000\n",
      "Epoch 10/100\n",
      "89/89 [==============================] - 1s 10ms/step - loss: 13103137.0000 - mse: 13102772.0000 - val_loss: 13680753.0000 - val_mse: 13680384.0000\n",
      "Epoch 11/100\n",
      "89/89 [==============================] - 1s 10ms/step - loss: 12913393.0000 - mse: 12913024.0000 - val_loss: 13502574.0000 - val_mse: 13502206.0000\n",
      "Epoch 12/100\n",
      "89/89 [==============================] - 1s 10ms/step - loss: 12750156.0000 - mse: 12749788.0000 - val_loss: 13298378.0000 - val_mse: 13298010.0000\n",
      "Epoch 13/100\n",
      "89/89 [==============================] - 1s 10ms/step - loss: 12548074.0000 - mse: 12547707.0000 - val_loss: 13134099.0000 - val_mse: 13133729.0000\n",
      "Epoch 14/100\n",
      "89/89 [==============================] - 1s 9ms/step - loss: 12383522.0000 - mse: 12383150.0000 - val_loss: 12937337.0000 - val_mse: 12936967.0000\n",
      "Epoch 15/100\n",
      "89/89 [==============================] - 1s 9ms/step - loss: 12206601.0000 - mse: 12206234.0000 - val_loss: 12745024.0000 - val_mse: 12744654.0000\n",
      "Epoch 16/100\n",
      "89/89 [==============================] - 1s 9ms/step - loss: 12011921.0000 - mse: 12011548.0000 - val_loss: 12551184.0000 - val_mse: 12550814.0000\n",
      "Epoch 17/100\n",
      "89/89 [==============================] - 1s 10ms/step - loss: 11835182.0000 - mse: 11834809.0000 - val_loss: 12335009.0000 - val_mse: 12334638.0000\n",
      "Epoch 18/100\n",
      "89/89 [==============================] - 1s 9ms/step - loss: 11639216.0000 - mse: 11638845.0000 - val_loss: 12127600.0000 - val_mse: 12127229.0000\n",
      "Epoch 19/100\n",
      "89/89 [==============================] - 1s 9ms/step - loss: 11485802.0000 - mse: 11485430.0000 - val_loss: 11897274.0000 - val_mse: 11896904.0000\n",
      "Epoch 20/100\n",
      "89/89 [==============================] - 1s 10ms/step - loss: 11282663.0000 - mse: 11282291.0000 - val_loss: 11669764.0000 - val_mse: 11669390.0000\n",
      "Epoch 21/100\n",
      "89/89 [==============================] - 1s 10ms/step - loss: 11077169.0000 - mse: 11076793.0000 - val_loss: 11438980.0000 - val_mse: 11438607.0000\n",
      "Epoch 22/100\n",
      "89/89 [==============================] - 1s 10ms/step - loss: 10881982.0000 - mse: 10881609.0000 - val_loss: 11201065.0000 - val_mse: 11200692.0000\n",
      "Epoch 23/100\n",
      "89/89 [==============================] - ETA: 0s - loss: 10742763.0000 - mse: 10742389.000 - 1s 9ms/step - loss: 10710535.0000 - mse: 10710161.0000 - val_loss: 10945090.0000 - val_mse: 10944715.0000\n",
      "Epoch 24/100\n",
      "89/89 [==============================] - 1s 9ms/step - loss: 10484879.0000 - mse: 10484505.0000 - val_loss: 10705692.0000 - val_mse: 10705317.0000\n",
      "Epoch 25/100\n",
      "89/89 [==============================] - 1s 9ms/step - loss: 10324821.0000 - mse: 10324446.0000 - val_loss: 10487987.0000 - val_mse: 10487612.0000\n",
      "Epoch 26/100\n",
      "89/89 [==============================] - 1s 10ms/step - loss: 10175135.0000 - mse: 10174758.0000 - val_loss: 10283300.0000 - val_mse: 10282924.0000\n",
      "Epoch 27/100\n",
      "89/89 [==============================] - 1s 10ms/step - loss: 10012713.0000 - mse: 10012336.0000 - val_loss: 10119266.0000 - val_mse: 10118890.0000\n",
      "Epoch 28/100\n",
      "89/89 [==============================] - 1s 10ms/step - loss: 9868401.0000 - mse: 9868024.0000 - val_loss: 9967420.0000 - val_mse: 9967042.0000\n",
      "Epoch 29/100\n",
      "89/89 [==============================] - 1s 10ms/step - loss: 9810719.0000 - mse: 9810343.0000 - val_loss: 9849869.0000 - val_mse: 9849490.0000\n",
      "Epoch 30/100\n",
      "89/89 [==============================] - 1s 11ms/step - loss: 9689532.0000 - mse: 9689156.0000 - val_loss: 9731113.0000 - val_mse: 9730735.0000\n",
      "Epoch 31/100\n",
      "89/89 [==============================] - 1s 10ms/step - loss: 9613129.0000 - mse: 9612751.0000 - val_loss: 9680036.0000 - val_mse: 9679659.0000\n",
      "Epoch 32/100\n",
      "89/89 [==============================] - 1s 9ms/step - loss: 9577113.0000 - mse: 9576734.0000 - val_loss: 9595458.0000 - val_mse: 9595079.0000\n",
      "Epoch 33/100\n",
      "89/89 [==============================] - 1s 10ms/step - loss: 9549520.0000 - mse: 9549143.0000 - val_loss: 9545405.0000 - val_mse: 9545027.0000\n",
      "Epoch 34/100\n",
      "89/89 [==============================] - 1s 9ms/step - loss: 9491317.0000 - mse: 9490939.0000 - val_loss: 9515168.0000 - val_mse: 9514790.0000\n",
      "Epoch 35/100\n",
      "89/89 [==============================] - 1s 9ms/step - loss: 9426685.0000 - mse: 9426309.0000 - val_loss: 9465866.0000 - val_mse: 9465487.0000\n",
      "Epoch 36/100\n",
      "89/89 [==============================] - 1s 9ms/step - loss: 9374482.0000 - mse: 9374101.0000 - val_loss: 9448061.0000 - val_mse: 9447682.0000\n",
      "Epoch 37/100\n",
      "89/89 [==============================] - 1s 10ms/step - loss: 9397973.0000 - mse: 9397593.0000 - val_loss: 9397686.0000 - val_mse: 9397305.0000\n",
      "Epoch 38/100\n",
      "89/89 [==============================] - 1s 10ms/step - loss: 9354721.0000 - mse: 9354339.0000 - val_loss: 9376782.0000 - val_mse: 9376402.0000\n",
      "Epoch 39/100\n",
      "89/89 [==============================] - 1s 9ms/step - loss: 9309126.0000 - mse: 9308745.0000 - val_loss: 9378518.0000 - val_mse: 9378138.0000\n",
      "Epoch 40/100\n",
      "89/89 [==============================] - 1s 9ms/step - loss: 9315407.0000 - mse: 9315025.0000 - val_loss: 9340242.0000 - val_mse: 9339860.0000\n",
      "Epoch 41/100\n",
      "89/89 [==============================] - 1s 9ms/step - loss: 9311521.0000 - mse: 9311140.0000 - val_loss: 9325726.0000 - val_mse: 9325345.0000\n",
      "Epoch 42/100\n",
      "89/89 [==============================] - 1s 9ms/step - loss: 9304559.0000 - mse: 9304179.0000 - val_loss: 9289373.0000 - val_mse: 9288991.0000\n",
      "Epoch 43/100\n",
      "89/89 [==============================] - 1s 9ms/step - loss: 9255963.0000 - mse: 9255582.0000 - val_loss: 9263116.0000 - val_mse: 9262735.0000\n",
      "Epoch 44/100\n",
      "89/89 [==============================] - 1s 9ms/step - loss: 9287674.0000 - mse: 9287294.0000 - val_loss: 9260319.0000 - val_mse: 9259937.0000\n",
      "Epoch 45/100\n",
      "89/89 [==============================] - 1s 10ms/step - loss: 9250691.0000 - mse: 9250309.0000 - val_loss: 9247764.0000 - val_mse: 9247384.0000\n",
      "Epoch 46/100\n",
      "89/89 [==============================] - 1s 10ms/step - loss: 9236384.0000 - mse: 9236003.0000 - val_loss: 9220076.0000 - val_mse: 9219694.0000\n",
      "Epoch 47/100\n",
      "89/89 [==============================] - 1s 10ms/step - loss: 9249342.0000 - mse: 9248961.0000 - val_loss: 9205492.0000 - val_mse: 9205111.0000\n",
      "Epoch 48/100\n",
      "89/89 [==============================] - 1s 10ms/step - loss: 9195830.0000 - mse: 9195448.0000 - val_loss: 9183645.0000 - val_mse: 9183262.0000\n",
      "Epoch 49/100\n",
      "89/89 [==============================] - 1s 10ms/step - loss: 9202341.0000 - mse: 9201958.0000 - val_loss: 9169875.0000 - val_mse: 9169493.0000\n",
      "Epoch 50/100\n",
      "89/89 [==============================] - 1s 10ms/step - loss: 9207111.0000 - mse: 9206729.0000 - val_loss: 9152771.0000 - val_mse: 9152388.0000\n",
      "Epoch 51/100\n",
      "89/89 [==============================] - 1s 9ms/step - loss: 9195606.0000 - mse: 9195225.0000 - val_loss: 9121498.0000 - val_mse: 9121116.0000\n",
      "Epoch 52/100\n"
     ]
    },
    {
     "name": "stdout",
     "output_type": "stream",
     "text": [
      "89/89 [==============================] - 1s 10ms/step - loss: 9186409.0000 - mse: 9186026.0000 - val_loss: 9109943.0000 - val_mse: 9109560.0000\n",
      "Epoch 53/100\n",
      "89/89 [==============================] - 1s 9ms/step - loss: 9154015.0000 - mse: 9153632.0000 - val_loss: 9097609.0000 - val_mse: 9097226.0000\n",
      "Epoch 54/100\n",
      "89/89 [==============================] - 1s 10ms/step - loss: 9175920.0000 - mse: 9175536.0000 - val_loss: 9073027.0000 - val_mse: 9072645.0000\n",
      "Epoch 55/100\n",
      "89/89 [==============================] - 1s 9ms/step - loss: 9129890.0000 - mse: 9129506.0000 - val_loss: 9072449.0000 - val_mse: 9072066.0000\n",
      "Epoch 56/100\n",
      "89/89 [==============================] - 1s 9ms/step - loss: 9154527.0000 - mse: 9154145.0000 - val_loss: 9047963.0000 - val_mse: 9047579.0000\n",
      "Epoch 57/100\n",
      "89/89 [==============================] - 1s 10ms/step - loss: 9130650.0000 - mse: 9130266.0000 - val_loss: 9019192.0000 - val_mse: 9018809.0000\n",
      "Epoch 58/100\n",
      "89/89 [==============================] - 1s 10ms/step - loss: 9139781.0000 - mse: 9139398.0000 - val_loss: 9001496.0000 - val_mse: 9001113.0000\n",
      "Epoch 59/100\n",
      "89/89 [==============================] - 1s 9ms/step - loss: 9132149.0000 - mse: 9131769.0000 - val_loss: 8990645.0000 - val_mse: 8990262.0000\n",
      "Epoch 60/100\n",
      "89/89 [==============================] - 1s 11ms/step - loss: 9100044.0000 - mse: 9099662.0000 - val_loss: 8989115.0000 - val_mse: 8988732.0000\n",
      "Epoch 61/100\n",
      "89/89 [==============================] - 1s 10ms/step - loss: 9161728.0000 - mse: 9161346.0000 - val_loss: 8954863.0000 - val_mse: 8954480.0000\n",
      "Epoch 62/100\n",
      "89/89 [==============================] - 1s 10ms/step - loss: 9074210.0000 - mse: 9073826.0000 - val_loss: 8937971.0000 - val_mse: 8937588.0000\n",
      "Epoch 63/100\n",
      "89/89 [==============================] - 1s 10ms/step - loss: 9068410.0000 - mse: 9068026.0000 - val_loss: 8935929.0000 - val_mse: 8935546.0000\n",
      "Epoch 64/100\n",
      "89/89 [==============================] - 1s 10ms/step - loss: 9085370.0000 - mse: 9084988.0000 - val_loss: 8910980.0000 - val_mse: 8910597.0000\n",
      "Epoch 65/100\n",
      "89/89 [==============================] - 1s 9ms/step - loss: 9085678.0000 - mse: 9085294.0000 - val_loss: 8894366.0000 - val_mse: 8893982.0000\n",
      "Epoch 66/100\n",
      "89/89 [==============================] - 1s 9ms/step - loss: 9083263.0000 - mse: 9082880.0000 - val_loss: 8884175.0000 - val_mse: 8883791.0000\n",
      "Epoch 67/100\n",
      "89/89 [==============================] - 1s 10ms/step - loss: 9042463.0000 - mse: 9042079.0000 - val_loss: 8882743.0000 - val_mse: 8882359.0000\n",
      "Epoch 68/100\n",
      "89/89 [==============================] - 1s 10ms/step - loss: 9052034.0000 - mse: 9051650.0000 - val_loss: 8879428.0000 - val_mse: 8879044.0000\n",
      "Epoch 69/100\n",
      "89/89 [==============================] - 1s 10ms/step - loss: 9051914.0000 - mse: 9051529.0000 - val_loss: 8865719.0000 - val_mse: 8865335.0000\n",
      "Epoch 70/100\n",
      "89/89 [==============================] - 1s 10ms/step - loss: 8993613.0000 - mse: 8993229.0000 - val_loss: 8847031.0000 - val_mse: 8846647.0000\n",
      "Epoch 71/100\n",
      "89/89 [==============================] - 1s 10ms/step - loss: 9079392.0000 - mse: 9079007.0000 - val_loss: 8845684.0000 - val_mse: 8845300.0000\n",
      "Epoch 72/100\n",
      "89/89 [==============================] - 1s 10ms/step - loss: 9003926.0000 - mse: 9003542.0000 - val_loss: 8840924.0000 - val_mse: 8840540.0000\n",
      "Epoch 73/100\n",
      "89/89 [==============================] - 1s 10ms/step - loss: 9052128.0000 - mse: 9051744.0000 - val_loss: 8830840.0000 - val_mse: 8830456.0000\n",
      "Epoch 74/100\n",
      "89/89 [==============================] - 1s 11ms/step - loss: 9016134.0000 - mse: 9015750.0000 - val_loss: 8830116.0000 - val_mse: 8829732.0000\n",
      "Epoch 75/100\n",
      "89/89 [==============================] - 1s 9ms/step - loss: 8992887.0000 - mse: 8992503.0000 - val_loss: 8834529.0000 - val_mse: 8834145.0000\n",
      "Epoch 76/100\n",
      "89/89 [==============================] - 1s 9ms/step - loss: 9011875.0000 - mse: 9011491.0000 - val_loss: 8814432.0000 - val_mse: 8814047.0000\n",
      "Epoch 77/100\n",
      "89/89 [==============================] - 1s 9ms/step - loss: 8998439.0000 - mse: 8998055.0000 - val_loss: 8818858.0000 - val_mse: 8818474.0000\n",
      "Epoch 78/100\n",
      "89/89 [==============================] - 1s 10ms/step - loss: 9024240.0000 - mse: 9023856.0000 - val_loss: 8811255.0000 - val_mse: 8810871.0000\n",
      "Epoch 79/100\n",
      "89/89 [==============================] - 1s 10ms/step - loss: 8970584.0000 - mse: 8970199.0000 - val_loss: 8809219.0000 - val_mse: 8808835.0000\n",
      "Epoch 80/100\n",
      "89/89 [==============================] - 1s 10ms/step - loss: 8976549.0000 - mse: 8976164.0000 - val_loss: 8802123.0000 - val_mse: 8801737.0000\n",
      "Epoch 81/100\n",
      "89/89 [==============================] - 1s 10ms/step - loss: 8982032.0000 - mse: 8981647.0000 - val_loss: 8793307.0000 - val_mse: 8792922.0000\n",
      "Epoch 82/100\n",
      "89/89 [==============================] - 1s 9ms/step - loss: 8971691.0000 - mse: 8971306.0000 - val_loss: 8794464.0000 - val_mse: 8794079.0000\n",
      "Epoch 83/100\n",
      "89/89 [==============================] - 1s 10ms/step - loss: 8968008.0000 - mse: 8967623.0000 - val_loss: 8789090.0000 - val_mse: 8788705.0000\n",
      "Epoch 84/100\n",
      "89/89 [==============================] - 1s 10ms/step - loss: 8973612.0000 - mse: 8973227.0000 - val_loss: 8773016.0000 - val_mse: 8772631.0000\n",
      "Epoch 85/100\n",
      "89/89 [==============================] - 1s 9ms/step - loss: 8933455.0000 - mse: 8933070.0000 - val_loss: 8791368.0000 - val_mse: 8790984.0000\n",
      "Epoch 86/100\n",
      "89/89 [==============================] - 1s 9ms/step - loss: 8955302.0000 - mse: 8954918.0000 - val_loss: 8778784.0000 - val_mse: 8778400.0000\n",
      "Epoch 87/100\n",
      "89/89 [==============================] - 1s 9ms/step - loss: 8933864.0000 - mse: 8933477.0000 - val_loss: 8784451.0000 - val_mse: 8784067.0000\n",
      "Epoch 88/100\n",
      "89/89 [==============================] - 1s 9ms/step - loss: 8901500.0000 - mse: 8901115.0000 - val_loss: 8760354.0000 - val_mse: 8759968.0000\n",
      "Epoch 89/100\n",
      "89/89 [==============================] - 1s 9ms/step - loss: 8967040.0000 - mse: 8966655.0000 - val_loss: 8765782.0000 - val_mse: 8765397.0000\n",
      "Epoch 90/100\n",
      "89/89 [==============================] - 1s 10ms/step - loss: 8935587.0000 - mse: 8935202.0000 - val_loss: 8792318.0000 - val_mse: 8791933.0000\n",
      "Epoch 91/100\n",
      "89/89 [==============================] - 1s 9ms/step - loss: 8957615.0000 - mse: 8957228.0000 - val_loss: 8787019.0000 - val_mse: 8786634.0000\n",
      "Epoch 92/100\n",
      "89/89 [==============================] - 1s 10ms/step - loss: 8909839.0000 - mse: 8909455.0000 - val_loss: 8772146.0000 - val_mse: 8771761.0000\n",
      "Epoch 93/100\n",
      "89/89 [==============================] - 1s 9ms/step - loss: 8932623.0000 - mse: 8932237.0000 - val_loss: 8781437.0000 - val_mse: 8781052.0000\n"
     ]
    }
   ],
   "source": [
    "# seed\n",
    "tf.random.set_seed(1)\n",
    "np.random.seed(1)\n",
    "\n",
    "history = model.fit(x= X_train,\n",
    "                    y= Y_train,\n",
    "                    epochs= 100,\n",
    "                    batch_size= batch_size,\n",
    "                    validation_data=( X_dev,Y_dev),\n",
    "                    callbacks=callback_list)"
   ]
  },
  {
   "cell_type": "code",
   "execution_count": 9,
   "metadata": {},
   "outputs": [
    {
     "data": {
      "image/png": "[encoded data removed]",
      "text/plain": [
       "<Figure size 576x360 with 1 Axes>"
      ]
     },
     "metadata": {
      "needs_background": "light"
     },
     "output_type": "display_data"
    }
   ],
   "source": [
    "pd.DataFrame(history.history).plot(figsize=(8,5))\n",
    "plt.grid(True)\n",
    "\n",
    "plt.show()"
   ]
  },
  {
   "cell_type": "code",
   "execution_count": 10,
   "metadata": {},
   "outputs": [],
   "source": [
    "pred = model.predict(X_dev)\n",
    "y_true = Y_dev"
   ]
  },
  {
   "cell_type": "code",
   "execution_count": 11,
   "metadata": {},
   "outputs": [],
   "source": [
    "stop_epoch = pd.Series(history.history['val_mse'],index = history.epoch).idxmin()"
   ]
  },
  {
   "cell_type": "code",
   "execution_count": 12,
   "metadata": {},
   "outputs": [],
   "source": [
    "class MCDropout(keras.layers.Dropout):\n",
    "    def call(self, inputs):\n",
    "        return super().call(inputs, training=True)\n",
    "\n",
    "class MCAlphaDropout(keras.layers.AlphaDropout):\n",
    "    def call(self, inputs):\n",
    "        return super().call(inputs, training=True)\n",
    "\n",
    "mc_model = keras.models.Sequential([\n",
    "    MCDropout(dp_rate) if isinstance(layer, keras.layers.Dropout) else layer\n",
    "    for layer in model.layers\n",
    "])\n",
    "\n",
    "mc_model.compile(optimizer = keras.optimizers.Nadam(learning_rate=lr), loss = 'mean_squared_error', metrics = ['mse'] )\n",
    "mc_model.set_weights(model.get_weights())\n",
    "\n",
    "\n",
    "X_test_tf = tf.constant( X_dev, dtype=tf.float32 )\n",
    "T= 1000\n",
    "y_probas = np.stack([mc_model.predict(X_test_tf, batch_size= batch_size)\n",
    "                     for sample in range(T)])\n",
    "print('done')"
   ]
  },
  {
   "cell_type": "code",
   "execution_count": 16,
   "metadata": {},
   "outputs": [],
   "source": [
    "y_hat_MC = y_probas.reshape(y_probas.shape[:-1])\n",
    "y_hat = y_hat_MC.mean(axis=0)\n",
    "sig_hat = y_hat_MC.std(axis=0)\n",
    "y_true = Y_dev"
   ]
  },
  {
   "cell_type": "markdown",
   "metadata": {},
   "source": [
    "# Tune tau"
   ]
  },
  {
   "cell_type": "code",
   "execution_count": 18,
   "metadata": {},
   "outputs": [
    {
     "name": "stdout",
     "output_type": "stream",
     "text": [
      "final tune value: tau:1.150369644165039e-07 t:31 LL:-9.412420220785222 RMSE:2961.5006\n"
     ]
    }
   ],
   "source": [
    "grid_ll = []\n",
    "taul, tl = [], []\n",
    "for t in range(100):\n",
    "    tau = 2**(-t)\n",
    "    ll = (logsumexp(-0.5 * tau * (y_true - y_hat_MC)**2., 0) - np.log(T) - 0.5*np.log(2*np.pi) + 0.5*np.log(tau))\n",
    "    test_ll = np.mean(ll)\n",
    "    taul.append(tau)\n",
    "    grid_ll.append(test_ll)\n",
    "    tl.append(t)\n",
    "best_t = tl[grid_ll.index(max(grid_ll))]\n",
    "best_tau = taul[grid_ll.index(max(grid_ll))]\n",
    "best_tau, best_t, max(grid_ll)\n",
    "\n",
    "\n",
    "G = 100\n",
    "gg = (taul[grid_ll.index(max(grid_ll))-1] - taul[grid_ll.index(max(grid_ll))+1])/G\n",
    "grid_ll = []\n",
    "taul, tl = [], []\n",
    "for t in range(G):\n",
    "    tau = 2**(-best_t-1) +  gg*t\n",
    "    ll = (logsumexp(-0.5 * tau * (y_true - y_hat_MC)**2., 0) - np.log(T) - 0.5*np.log(2*np.pi) + 0.5*np.log(tau))\n",
    "    test_ll = np.mean(ll)\n",
    "    taul.append(tau)\n",
    "    grid_ll.append(test_ll)\n",
    "    tl.append(t)\n",
    "    \n",
    "\n",
    "rmse = round(np.sqrt(mean_squared_error(y_true,y_hat)),4) \n",
    "\n",
    "best_t = tl[grid_ll.index(max(grid_ll))]\n",
    "best_tau = taul[grid_ll.index(max(grid_ll))]\n",
    "sig = np.sqrt(1/best_tau)\n",
    "print('final tune value: tau:{} t:{} LL:{} RMSE:{}'.format(best_tau, best_t, max(grid_ll),rmse ))"
   ]
  },
  {
   "cell_type": "code",
   "execution_count": 19,
   "metadata": {},
   "outputs": [],
   "source": [
    "sig = np.sqrt(1/best_tau)"
   ]
  },
  {
   "cell_type": "code",
   "execution_count": 20,
   "metadata": {},
   "outputs": [],
   "source": [
    "# hyper-par: tau\n",
    "np.random.seed(1)\n",
    "y_MC_mixture = np.concatenate([np.random.normal(loc=samplei,scale=sig,size=(10,len(samplei))) for samplei in y_hat_MC] , axis=0)"
   ]
  },
  {
   "cell_type": "code",
   "execution_count": 21,
   "metadata": {},
   "outputs": [],
   "source": [
    "alpha= 0.05\n",
    "L_hat = np.quantile(y_MC_mixture,alpha/2,axis=0)\n",
    "U_hat = np.quantile(y_MC_mixture,(1-alpha/2),axis=0)\n",
    "\n",
    "left = L_hat\n",
    "right = U_hat\n",
    "py_all = np.stack([norm.pdf(y_true, loc=samplei, scale=sig) for samplei in y_hat_MC])\n",
    "p_y = py_all.mean(axis=0)\n",
    "sig_hat2 = y_MC_mixture.std(axis=0)"
   ]
  },
  {
   "cell_type": "markdown",
   "metadata": {},
   "source": [
    "# save to dev MF"
   ]
  },
  {
   "cell_type": "code",
   "execution_count": 22,
   "metadata": {},
   "outputs": [],
   "source": [
    "WU2 = feather.read_dataframe('Data/WU.feather')\n",
    "all_dev_MF = pd.DataFrame({\n",
    "    'Index': WU2[WU2.loc[:,'Set']=='dev'].loc[:,'Index'].values,\n",
    "    'Y': y_true,\n",
    "    'y_hat': y_hat,\n",
    "    'L': left,\n",
    "    'U': right,\n",
    "    'sig_hat': sig_hat2,\n",
    "    'p_y':p_y\n",
    "})\n",
    "path = 'Out_dev_MF\\\\month12\\\\MLP_MC_dev_12m_dist.feather'\n",
    "\n",
    "feather.write_dataframe(all_dev_MF , path)"
   ]
  },
  {
   "cell_type": "code",
   "execution_count": 23,
   "metadata": {},
   "outputs": [],
   "source": [
    "del model\n",
    "tf.keras.backend.clear_session()"
   ]
  },
  {
   "cell_type": "markdown",
   "metadata": {},
   "source": [
    "# Test"
   ]
  },
  {
   "cell_type": "code",
   "execution_count": 24,
   "metadata": {},
   "outputs": [],
   "source": [
    "model = buildmodel(dense_dp = dp_rate, l2=0.1, unites = n_unites)\n",
    "model.compile(optimizer = keras.optimizers.Nadam(learning_rate=lr), loss = 'mean_squared_error', metrics = ['mse'] )"
   ]
  },
  {
   "cell_type": "code",
   "execution_count": 25,
   "metadata": {},
   "outputs": [],
   "source": [
    "from tensorflow.keras import utils\n",
    "from tensorflow.keras import callbacks\n",
    "\n",
    "callback_list =[\n",
    "    callbacks.EarlyStopping(\n",
    "        monitor = 'val_mse',\n",
    "        patience= stop_epoch\n",
    "    ),\n",
    "    callbacks.ModelCheckpoint(\n",
    "        filepath='MLP_log/mlp_mc_12m.h5',\n",
    "        #save_best_only= True,\n",
    "        monitor='val_mse'\n",
    "    )\n",
    "]"
   ]
  },
  {
   "cell_type": "code",
   "execution_count": 26,
   "metadata": {},
   "outputs": [
    {
     "name": "stdout",
     "output_type": "stream",
     "text": [
      "Epoch 1/87\n",
      "98/98 [==============================] - 1s 12ms/step - loss: 32797754.0000 - mse: 32797396.0000 - val_loss: 30865418.0000 - val_mse: 30865060.0000\n",
      "Epoch 2/87\n",
      "98/98 [==============================] - 1s 10ms/step - loss: 32701588.0000 - mse: 32701232.0000 - val_loss: 30643254.0000 - val_mse: 30642892.0000\n",
      "Epoch 3/87\n",
      "98/98 [==============================] - 1s 9ms/step - loss: 32282294.0000 - mse: 32281920.0000 - val_loss: 29822064.0000 - val_mse: 29821706.0000\n",
      "Epoch 4/87\n",
      "98/98 [==============================] - 1s 9ms/step - loss: 30374746.0000 - mse: 30374400.0000 - val_loss: 25959194.0000 - val_mse: 25958830.0000\n",
      "Epoch 5/87\n",
      "98/98 [==============================] - 1s 10ms/step - loss: 22119680.0000 - mse: 22119314.0000 - val_loss: 15313031.0000 - val_mse: 15312664.0000\n",
      "Epoch 6/87\n",
      "98/98 [==============================] - 1s 10ms/step - loss: 14453645.0000 - mse: 14453277.0000 - val_loss: 13471823.0000 - val_mse: 13471455.0000\n",
      "Epoch 7/87\n",
      "98/98 [==============================] - 1s 9ms/step - loss: 13452450.0000 - mse: 13452082.0000 - val_loss: 12983028.0000 - val_mse: 12982658.0000\n",
      "Epoch 8/87\n",
      "98/98 [==============================] - 1s 10ms/step - loss: 12902122.0000 - mse: 12901754.0000 - val_loss: 12427930.0000 - val_mse: 12427560.0000\n",
      "Epoch 9/87\n",
      "98/98 [==============================] - 1s 10ms/step - loss: 12342294.0000 - mse: 12341923.0000 - val_loss: 11813301.0000 - val_mse: 11812929.0000\n",
      "Epoch 10/87\n",
      "98/98 [==============================] - 1s 9ms/step - loss: 11758508.0000 - mse: 11758135.0000 - val_loss: 11142400.0000 - val_mse: 11142027.0000\n",
      "Epoch 11/87\n",
      "98/98 [==============================] - 1s 10ms/step - loss: 11103985.0000 - mse: 11103614.0000 - val_loss: 10461668.0000 - val_mse: 10461297.0000\n",
      "Epoch 12/87\n",
      "98/98 [==============================] - 1s 10ms/step - loss: 10498049.0000 - mse: 10497680.0000 - val_loss: 9882321.0000 - val_mse: 9881948.0000\n",
      "Epoch 13/87\n",
      "98/98 [==============================] - 1s 9ms/step - loss: 10010183.0000 - mse: 10009811.0000 - val_loss: 9435686.0000 - val_mse: 9435312.0000\n",
      "Epoch 14/87\n",
      "98/98 [==============================] - 1s 10ms/step - loss: 9728037.0000 - mse: 9727666.0000 - val_loss: 9211044.0000 - val_mse: 9210669.0000\n",
      "Epoch 15/87\n",
      "98/98 [==============================] - 1s 10ms/step - loss: 9517595.0000 - mse: 9517221.0000 - val_loss: 9102903.0000 - val_mse: 9102531.0000\n",
      "Epoch 16/87\n",
      "98/98 [==============================] - 1s 9ms/step - loss: 9402118.0000 - mse: 9401744.0000 - val_loss: 9028198.0000 - val_mse: 9027825.0000\n",
      "Epoch 17/87\n",
      "98/98 [==============================] - 1s 9ms/step - loss: 9347531.0000 - mse: 9347157.0000 - val_loss: 9044956.0000 - val_mse: 9044582.0000\n",
      "Epoch 18/87\n",
      "98/98 [==============================] - 1s 9ms/step - loss: 9296268.0000 - mse: 9295893.0000 - val_loss: 9017611.0000 - val_mse: 9017238.0000\n",
      "Epoch 19/87\n",
      "98/98 [==============================] - 1s 10ms/step - loss: 9319764.0000 - mse: 9319391.0000 - val_loss: 9014556.0000 - val_mse: 9014182.0000\n",
      "Epoch 20/87\n",
      "98/98 [==============================] - 1s 9ms/step - loss: 9273126.0000 - mse: 9272750.0000 - val_loss: 8975504.0000 - val_mse: 8975130.0000\n",
      "Epoch 21/87\n",
      "98/98 [==============================] - 1s 10ms/step - loss: 9192905.0000 - mse: 9192532.0000 - val_loss: 9013159.0000 - val_mse: 9012785.0000\n",
      "Epoch 22/87\n",
      "98/98 [==============================] - 1s 9ms/step - loss: 9234704.0000 - mse: 9234328.0000 - val_loss: 8978590.0000 - val_mse: 8978216.0000\n",
      "Epoch 23/87\n",
      "98/98 [==============================] - 1s 9ms/step - loss: 9207243.0000 - mse: 9206869.0000 - val_loss: 8984788.0000 - val_mse: 8984413.0000\n",
      "Epoch 24/87\n",
      "98/98 [==============================] - 1s 10ms/step - loss: 9154234.0000 - mse: 9153855.0000 - val_loss: 9010322.0000 - val_mse: 9009947.0000\n",
      "Epoch 25/87\n",
      "98/98 [==============================] - 1s 10ms/step - loss: 9148770.0000 - mse: 9148396.0000 - val_loss: 8986406.0000 - val_mse: 8986030.0000\n",
      "Epoch 26/87\n",
      "98/98 [==============================] - 1s 10ms/step - loss: 9141255.0000 - mse: 9140880.0000 - val_loss: 8952144.0000 - val_mse: 8951770.0000\n",
      "Epoch 27/87\n",
      "98/98 [==============================] - 1s 9ms/step - loss: 9098233.0000 - mse: 9097858.0000 - val_loss: 8983003.0000 - val_mse: 8982629.0000\n",
      "Epoch 28/87\n",
      "98/98 [==============================] - 1s 10ms/step - loss: 9143224.0000 - mse: 9142848.0000 - val_loss: 8981592.0000 - val_mse: 8981216.0000\n",
      "Epoch 29/87\n",
      "98/98 [==============================] - 1s 10ms/step - loss: 9102675.0000 - mse: 9102300.0000 - val_loss: 8960341.0000 - val_mse: 8959967.0000\n",
      "Epoch 30/87\n",
      "98/98 [==============================] - 1s 10ms/step - loss: 9078356.0000 - mse: 9077979.0000 - val_loss: 8971571.0000 - val_mse: 8971195.0000\n",
      "Epoch 31/87\n",
      "98/98 [==============================] - 1s 10ms/step - loss: 9068885.0000 - mse: 9068511.0000 - val_loss: 8957959.0000 - val_mse: 8957586.0000\n",
      "Epoch 32/87\n",
      "98/98 [==============================] - 1s 10ms/step - loss: 9087984.0000 - mse: 9087608.0000 - val_loss: 8968213.0000 - val_mse: 8967839.0000\n",
      "Epoch 33/87\n",
      "98/98 [==============================] - 1s 10ms/step - loss: 9076101.0000 - mse: 9075728.0000 - val_loss: 8933321.0000 - val_mse: 8932945.0000\n",
      "Epoch 34/87\n",
      "98/98 [==============================] - 1s 10ms/step - loss: 9067168.0000 - mse: 9066794.0000 - val_loss: 9020781.0000 - val_mse: 9020406.0000\n",
      "Epoch 35/87\n",
      "98/98 [==============================] - 1s 9ms/step - loss: 9060264.0000 - mse: 9059890.0000 - val_loss: 8975365.0000 - val_mse: 8974990.0000\n",
      "Epoch 36/87\n",
      "98/98 [==============================] - 1s 9ms/step - loss: 9002398.0000 - mse: 9002022.0000 - val_loss: 8983543.0000 - val_mse: 8983167.0000\n",
      "Epoch 37/87\n",
      "98/98 [==============================] - 1s 10ms/step - loss: 9005683.0000 - mse: 9005310.0000 - val_loss: 8950416.0000 - val_mse: 8950041.0000\n",
      "Epoch 38/87\n",
      "98/98 [==============================] - 1s 9ms/step - loss: 8998803.0000 - mse: 8998428.0000 - val_loss: 8958204.0000 - val_mse: 8957830.0000\n",
      "Epoch 39/87\n",
      "98/98 [==============================] - 1s 9ms/step - loss: 9001159.0000 - mse: 9000783.0000 - val_loss: 8948154.0000 - val_mse: 8947779.0000\n",
      "Epoch 40/87\n",
      "98/98 [==============================] - 1s 9ms/step - loss: 9006404.0000 - mse: 9006028.0000 - val_loss: 8943440.0000 - val_mse: 8943066.0000\n",
      "Epoch 41/87\n",
      "98/98 [==============================] - 1s 9ms/step - loss: 8979872.0000 - mse: 8979495.0000 - val_loss: 8954361.0000 - val_mse: 8953984.0000\n",
      "Epoch 42/87\n",
      "98/98 [==============================] - 1s 9ms/step - loss: 8980062.0000 - mse: 8979683.0000 - val_loss: 8973551.0000 - val_mse: 8973175.0000\n",
      "Epoch 43/87\n",
      "98/98 [==============================] - 1s 9ms/step - loss: 8967783.0000 - mse: 8967408.0000 - val_loss: 8965845.0000 - val_mse: 8965469.0000\n",
      "Epoch 44/87\n",
      "98/98 [==============================] - 1s 9ms/step - loss: 8944726.0000 - mse: 8944349.0000 - val_loss: 8978167.0000 - val_mse: 8977792.0000\n",
      "Epoch 45/87\n",
      "98/98 [==============================] - 1s 9ms/step - loss: 8933007.0000 - mse: 8932631.0000 - val_loss: 8979593.0000 - val_mse: 8979217.0000\n",
      "Epoch 46/87\n",
      "98/98 [==============================] - 1s 10ms/step - loss: 8993422.0000 - mse: 8993045.0000 - val_loss: 8957399.0000 - val_mse: 8957023.0000\n",
      "Epoch 47/87\n",
      "98/98 [==============================] - 1s 9ms/step - loss: 8975552.0000 - mse: 8975176.0000 - val_loss: 8961068.0000 - val_mse: 8960692.0000\n",
      "Epoch 48/87\n",
      "98/98 [==============================] - 1s 10ms/step - loss: 8952311.0000 - mse: 8951939.0000 - val_loss: 8942688.0000 - val_mse: 8942312.0000\n",
      "Epoch 49/87\n",
      "98/98 [==============================] - 1s 9ms/step - loss: 8944427.0000 - mse: 8944051.0000 - val_loss: 8942175.0000 - val_mse: 8941798.0000\n",
      "Epoch 50/87\n",
      "98/98 [==============================] - 1s 10ms/step - loss: 8970701.0000 - mse: 8970325.0000 - val_loss: 8932927.0000 - val_mse: 8932552.0000\n",
      "Epoch 51/87\n",
      "98/98 [==============================] - 1s 10ms/step - loss: 8903265.0000 - mse: 8902890.0000 - val_loss: 8947632.0000 - val_mse: 8947255.0000\n",
      "Epoch 52/87\n",
      "98/98 [==============================] - 1s 10ms/step - loss: 8950889.0000 - mse: 8950514.0000 - val_loss: 8976532.0000 - val_mse: 8976155.0000\n",
      "Epoch 53/87\n"
     ]
    },
    {
     "name": "stdout",
     "output_type": "stream",
     "text": [
      "98/98 [==============================] - 1s 10ms/step - loss: 8933585.0000 - mse: 8933211.0000 - val_loss: 8968131.0000 - val_mse: 8967755.0000\n",
      "Epoch 54/87\n",
      "98/98 [==============================] - 1s 10ms/step - loss: 8916537.0000 - mse: 8916162.0000 - val_loss: 9000148.0000 - val_mse: 8999772.0000\n",
      "Epoch 55/87\n",
      "98/98 [==============================] - 1s 10ms/step - loss: 8866269.0000 - mse: 8865894.0000 - val_loss: 8981196.0000 - val_mse: 8980820.0000\n",
      "Epoch 56/87\n",
      "98/98 [==============================] - 1s 10ms/step - loss: 8872890.0000 - mse: 8872513.0000 - val_loss: 9015673.0000 - val_mse: 9015298.0000\n",
      "Epoch 57/87\n",
      "98/98 [==============================] - 1s 9ms/step - loss: 8896283.0000 - mse: 8895908.0000 - val_loss: 9016631.0000 - val_mse: 9016255.0000\n",
      "Epoch 58/87\n",
      "98/98 [==============================] - 1s 10ms/step - loss: 8866570.0000 - mse: 8866192.0000 - val_loss: 8969159.0000 - val_mse: 8968783.0000\n",
      "Epoch 59/87\n",
      "98/98 [==============================] - 1s 10ms/step - loss: 8895104.0000 - mse: 8894729.0000 - val_loss: 8957318.0000 - val_mse: 8956943.0000\n",
      "Epoch 60/87\n",
      "98/98 [==============================] - 1s 10ms/step - loss: 8882780.0000 - mse: 8882403.0000 - val_loss: 9014349.0000 - val_mse: 9013973.0000\n",
      "Epoch 61/87\n",
      "98/98 [==============================] - 1s 9ms/step - loss: 8877235.0000 - mse: 8876858.0000 - val_loss: 8987213.0000 - val_mse: 8986836.0000\n",
      "Epoch 62/87\n",
      "98/98 [==============================] - 1s 10ms/step - loss: 8848408.0000 - mse: 8848030.0000 - val_loss: 8979213.0000 - val_mse: 8978838.0000\n",
      "Epoch 63/87\n",
      "98/98 [==============================] - 1s 9ms/step - loss: 8864897.0000 - mse: 8864521.0000 - val_loss: 8962760.0000 - val_mse: 8962383.0000\n",
      "Epoch 64/87\n",
      "98/98 [==============================] - 1s 10ms/step - loss: 8873796.0000 - mse: 8873418.0000 - val_loss: 9008747.0000 - val_mse: 9008370.0000\n",
      "Epoch 65/87\n",
      "98/98 [==============================] - 1s 10ms/step - loss: 8833514.0000 - mse: 8833138.0000 - val_loss: 8969623.0000 - val_mse: 8969247.0000\n",
      "Epoch 66/87\n",
      "98/98 [==============================] - ETA: 0s - loss: 8832244.0000 - mse: 8831866.000 - 1s 10ms/step - loss: 8875340.0000 - mse: 8874962.0000 - val_loss: 8972035.0000 - val_mse: 8971659.0000\n",
      "Epoch 67/87\n",
      "98/98 [==============================] - 1s 10ms/step - loss: 8811372.0000 - mse: 8810996.0000 - val_loss: 8977133.0000 - val_mse: 8976757.0000\n",
      "Epoch 68/87\n",
      "98/98 [==============================] - 1s 10ms/step - loss: 8855059.0000 - mse: 8854682.0000 - val_loss: 9004719.0000 - val_mse: 9004343.0000\n",
      "Epoch 69/87\n",
      "98/98 [==============================] - 1s 9ms/step - loss: 8844625.0000 - mse: 8844250.0000 - val_loss: 9002982.0000 - val_mse: 9002606.0000\n",
      "Epoch 70/87\n",
      "98/98 [==============================] - 1s 10ms/step - loss: 8862013.0000 - mse: 8861636.0000 - val_loss: 9010668.0000 - val_mse: 9010290.0000\n",
      "Epoch 71/87\n",
      "98/98 [==============================] - 1s 8ms/step - loss: 8845220.0000 - mse: 8844844.0000 - val_loss: 9017908.0000 - val_mse: 9017531.0000\n",
      "Epoch 72/87\n",
      "98/98 [==============================] - 1s 10ms/step - loss: 8828465.0000 - mse: 8828090.0000 - val_loss: 8992922.0000 - val_mse: 8992544.0000\n",
      "Epoch 73/87\n",
      "98/98 [==============================] - 1s 10ms/step - loss: 8845561.0000 - mse: 8845186.0000 - val_loss: 9014734.0000 - val_mse: 9014356.0000\n",
      "Epoch 74/87\n",
      "98/98 [==============================] - 1s 9ms/step - loss: 8813812.0000 - mse: 8813433.0000 - val_loss: 8988470.0000 - val_mse: 8988093.0000\n",
      "Epoch 75/87\n",
      "98/98 [==============================] - 1s 10ms/step - loss: 8811575.0000 - mse: 8811199.0000 - val_loss: 9002018.0000 - val_mse: 9001642.0000\n",
      "Epoch 76/87\n",
      "98/98 [==============================] - 1s 10ms/step - loss: 8838691.0000 - mse: 8838315.0000 - val_loss: 9002575.0000 - val_mse: 9002198.0000\n",
      "Epoch 77/87\n",
      "98/98 [==============================] - 1s 10ms/step - loss: 8780410.0000 - mse: 8780032.0000 - val_loss: 9020154.0000 - val_mse: 9019778.0000\n",
      "Epoch 78/87\n",
      "98/98 [==============================] - 1s 9ms/step - loss: 8805832.0000 - mse: 8805453.0000 - val_loss: 8989317.0000 - val_mse: 8988940.0000\n",
      "Epoch 79/87\n",
      "98/98 [==============================] - 1s 9ms/step - loss: 8819421.0000 - mse: 8819046.0000 - val_loss: 9003897.0000 - val_mse: 9003521.0000\n",
      "Epoch 80/87\n",
      "98/98 [==============================] - 1s 9ms/step - loss: 8832555.0000 - mse: 8832176.0000 - val_loss: 8993588.0000 - val_mse: 8993211.0000\n",
      "Epoch 81/87\n",
      "98/98 [==============================] - 1s 9ms/step - loss: 8777523.0000 - mse: 8777148.0000 - val_loss: 8999996.0000 - val_mse: 8999619.0000\n",
      "Epoch 82/87\n",
      "98/98 [==============================] - 1s 9ms/step - loss: 8755800.0000 - mse: 8755423.0000 - val_loss: 9012634.0000 - val_mse: 9012257.0000\n",
      "Epoch 83/87\n",
      "98/98 [==============================] - 1s 10ms/step - loss: 8796186.0000 - mse: 8795808.0000 - val_loss: 9008341.0000 - val_mse: 9007966.0000\n",
      "Epoch 84/87\n",
      "98/98 [==============================] - 1s 10ms/step - loss: 8821083.0000 - mse: 8820706.0000 - val_loss: 9008847.0000 - val_mse: 9008470.0000\n",
      "Epoch 85/87\n",
      "98/98 [==============================] - 1s 9ms/step - loss: 8777775.0000 - mse: 8777398.0000 - val_loss: 9031245.0000 - val_mse: 9030867.0000\n",
      "Epoch 86/87\n",
      "98/98 [==============================] - 1s 10ms/step - loss: 8765360.0000 - mse: 8764984.0000 - val_loss: 9027215.0000 - val_mse: 9026838.0000\n",
      "Epoch 87/87\n",
      "98/98 [==============================] - 1s 10ms/step - loss: 8781377.0000 - mse: 8781002.0000 - val_loss: 9016547.0000 - val_mse: 9016171.0000\n"
     ]
    }
   ],
   "source": [
    "# seed\n",
    "tf.random.set_seed(1)\n",
    "np.random.seed(1)\n",
    "history = model.fit(x= X_train_all,\n",
    "                    y= Y_train_all,\n",
    "                    epochs= stop_epoch,\n",
    "                    batch_size= batch_size,\n",
    "                    validation_data=( X_test,Y_test),\n",
    "                    callbacks=callback_list)\n"
   ]
  },
  {
   "cell_type": "code",
   "execution_count": 27,
   "metadata": {},
   "outputs": [
    {
     "data": {
      "image/png": "[encoded data removed]",
      "text/plain": [
       "<Figure size 576x360 with 1 Axes>"
      ]
     },
     "metadata": {
      "needs_background": "light"
     },
     "output_type": "display_data"
    }
   ],
   "source": [
    "pd.DataFrame(history.history).plot(figsize=(8,5))\n",
    "plt.grid(True)\n",
    "plt.show()"
   ]
  },
  {
   "cell_type": "code",
   "execution_count": 28,
   "metadata": {},
   "outputs": [],
   "source": [
    "pred = model.predict(X_test)\n",
    "y_true = Y_test\n",
    "X_test_tf = tf.constant( X_test, dtype=tf.float32 )"
   ]
  },
  {
   "cell_type": "code",
   "execution_count": 30,
   "metadata": {},
   "outputs": [],
   "source": [
    "class MCDropout(keras.layers.Dropout):\n",
    "    def call(self, inputs):\n",
    "        return super().call(inputs, training=True)\n",
    "\n",
    "class MCAlphaDropout(keras.layers.AlphaDropout):\n",
    "    def call(self, inputs):\n",
    "        return super().call(inputs, training=True)\n",
    "\n",
    "mc_model = keras.models.Sequential([\n",
    "    MCDropout(dp_rate) if isinstance(layer, keras.layers.Dropout) else layer\n",
    "    for layer in model.layers\n",
    "])\n",
    "\n",
    "mc_model.compile(optimizer = keras.optimizers.Nadam(learning_rate=lr), loss = 'mean_squared_error', metrics = ['mse'] )\n",
    "mc_model.set_weights(model.get_weights())\n"
   ]
  },
  {
   "cell_type": "code",
   "execution_count": 31,
   "metadata": {},
   "outputs": [
    {
     "name": "stdout",
     "output_type": "stream",
     "text": [
      "done\n"
     ]
    }
   ],
   "source": [
    "T= 1000\n",
    "y_probas = np.stack([mc_model.predict(X_test_tf, batch_size= batch_size)\n",
    "                     for sample in range(T)])\n",
    "print('done')"
   ]
  },
  {
   "cell_type": "code",
   "execution_count": 32,
   "metadata": {},
   "outputs": [],
   "source": [
    "y_hat_MC = y_probas.reshape(y_probas.shape[:-1])\n",
    "y_hat = y_hat_MC.mean(axis=0)\n",
    "sig_hat = y_hat_MC.std(axis=0)\n",
    "y_true = Y_test\n",
    "y_MC_mixture = np.concatenate([np.random.normal(loc=samplei,scale=sig,size=(10,len(samplei))) for samplei in y_hat_MC] , axis=0)"
   ]
  },
  {
   "cell_type": "code",
   "execution_count": 33,
   "metadata": {},
   "outputs": [],
   "source": [
    "alpha= 0.05\n",
    "L_hat = np.quantile(y_MC_mixture,alpha/2,axis=0)\n",
    "U_hat = np.quantile(y_MC_mixture,(1-alpha/2),axis=0)\n",
    "\n",
    "left = L_hat\n",
    "right = U_hat\n",
    "py_all = np.stack([norm.pdf(y_true, loc=samplei, scale=sig) for samplei in y_hat_MC])\n",
    "p_y = py_all.mean(axis=0)\n",
    "sig_hat2 = y_MC_mixture.std(axis=0)"
   ]
  },
  {
   "cell_type": "markdown",
   "metadata": {},
   "source": [
    "# Save\n"
   ]
  },
  {
   "cell_type": "code",
   "execution_count": 34,
   "metadata": {},
   "outputs": [],
   "source": [
    "WU2 = feather.read_dataframe('Data/WU.feather')\n",
    "\n",
    "all_test_MF= pd.DataFrame({\n",
    "    'Index': WU2[WU2.loc[:,'Set']=='test'].loc[:,'Index'].values,\n",
    "    'Y': y_true,\n",
    "    'y_hat': y_hat,\n",
    "    'L': left,\n",
    "    'U': right,\n",
    "    'sig_hat': sig_hat2,\n",
    "    'p_y':p_y\n",
    "})\n",
    "\n",
    "\n",
    "path = 'Out_test_MF\\\\month12\\\\MLP_MC_12m_dist.feather'\n",
    "feather.write_dataframe(all_test_MF , path)\n",
    "\n",
    "path = 'Out_test_MF\\\\month12\\\\MLP_MC.npy'\n",
    "np.save(path, y_MC_mixture)"
   ]
  },
  {
   "cell_type": "markdown",
   "metadata": {},
   "source": [
    "# report"
   ]
  },
  {
   "cell_type": "code",
   "execution_count": 35,
   "metadata": {},
   "outputs": [
    {
     "name": "stdout",
     "output_type": "stream",
     "text": [
      " & 2996.64 & 9.42 & 15161.14 & 11639.8 & 0.95 & 95\\% \\\\\n"
     ]
    }
   ],
   "source": [
    "r1,r2,r3,r4,r5 = get_RMSE_NLL_NOIS_AWPI_ECPI(y_true,y_hat,left,right,alpha=0.05)"
   ]
  },
  {
   "cell_type": "code",
   "execution_count": 36,
   "metadata": {},
   "outputs": [],
   "source": [
    "# results\n",
    "with open(\"Results/Results_12m.txt\", \"a\") as myfile:\n",
    "    myfile.write(\"MLP_MC \\n\")\n",
    "    myfile.write('RMSE %f & NLL %f & NOIS %f & AWPI %f & ECPI %f \\n' % (\n",
    "        r1,-np.log(p_y).mean(),r3,r4,r5 ))"
   ]
  }
 ],
 "metadata": {
  "kernelspec": {
   "display_name": "Python 3",
   "language": "python",
   "name": "python3"
  },
  "language_info": {
   "codemirror_mode": {
    "name": "ipython",
    "version": 3
   },
   "file_extension": ".py",
   "mimetype": "text/x-python",
   "name": "python",
   "nbconvert_exporter": "python",
   "pygments_lexer": "ipython3",
   "version": "3.8.5"
  }
 },
 "nbformat": 4,
 "nbformat_minor": 2
}
