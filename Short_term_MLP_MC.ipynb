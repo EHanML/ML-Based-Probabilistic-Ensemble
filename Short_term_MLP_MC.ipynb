{
 "cells": [
  {
   "cell_type": "code",
   "execution_count": 1,
   "metadata": {},
   "outputs": [
    {
     "name": "stdout",
     "output_type": "stream",
     "text": [
      "TensorFlow Version: 2.3.0\n",
      "Default GPU Device: /device:GPU:0\n",
      "WARNING:tensorflow:From <ipython-input-1-fef618f7fbca>:16: is_gpu_available (from tensorflow.python.framework.test_util) is deprecated and will be removed in a future version.\n",
      "Instructions for updating:\n",
      "Use `tf.config.list_physical_devices('GPU')` instead.\n"
     ]
    },
    {
     "data": {
      "text/plain": [
       "'2.4.0'"
      ]
     },
     "execution_count": 1,
     "metadata": {},
     "output_type": "execute_result"
    }
   ],
   "source": [
    "from distutils.version import LooseVersion\n",
    "import warnings\n",
    "import tensorflow as tf\n",
    "\n",
    "\n",
    "# Check TensorFlow Version\n",
    "assert LooseVersion(tf.__version__) >= LooseVersion('1.0'), 'Please use TensorFlow version 1.0 or newer.  You are using {}'.format(tf.__version__)\n",
    "print('TensorFlow Version: {}'.format(tf.__version__))\n",
    "\n",
    "# Check for a GPU\n",
    "if not tf.test.gpu_device_name():\n",
    "    warnings.warn('No GPU found. Please ensure you have installed TensorFlow correctly')\n",
    "else:\n",
    "    print('Default GPU Device: {}'.format(tf.test.gpu_device_name()))\n",
    "\n",
    "if not tf.test.is_gpu_available():\n",
    "    print(\"No GPU was detected. LSTMs and CNNs can be very slow without a GPU.\")\n",
    "    if IS_COLAB:\n",
    "        print(\"Go to Runtime > Change runtime and select a GPU hardware accelerator.\")\n",
    "\n",
    "tf.__version__\n",
    "tf.keras.__version__"
   ]
  },
  {
   "cell_type": "code",
   "execution_count": 2,
   "metadata": {},
   "outputs": [],
   "source": [
    "# library\n",
    "import pandas as pd\n",
    "import os \n",
    "import feather\n",
    "import numpy as np\n",
    "import matplotlib.pyplot as plt\n",
    "import re\n",
    "from scipy.stats import norm\n",
    "from scipy.special import logsumexp\n",
    "from sklearn import preprocessing\n",
    "from tensorflow import keras\n",
    "from sklearn.metrics import mean_squared_error\n",
    "from utils import *"
   ]
  },
  {
   "cell_type": "code",
   "execution_count": 3,
   "metadata": {},
   "outputs": [],
   "source": [
    "# read in \n",
    "WU = feather.read_dataframe('Data/WU_lag.feather')\n",
    "\n",
    "WU = WU.drop(columns=['Index','year','ParcelID','Days','year','month'])\n",
    "\n",
    "WU_train = WU[WU['Set'] == 'train'].drop(columns=['Set'])\n",
    "WU_dev = WU[WU['Set'] == 'dev'].drop(columns=['Set'])\n",
    "WU_test = WU[WU['Set'] == 'test'].drop(columns=['Set'])\n",
    "\n",
    "WU_train_all =  WU[WU['Set'] != 'test'].drop(columns=['Set'])\n",
    "\n",
    "predictors = list( WU_train.drop(columns=['TotalWaterUse']).columns)\n",
    "\n",
    "X_train1 = WU_train.drop(columns=['TotalWaterUse']).values\n",
    "Y_train = WU_train.loc[:,'TotalWaterUse'].values\n",
    "\n",
    "X_dev1 = WU_dev.drop(columns=['TotalWaterUse']).values\n",
    "Y_dev = WU_dev.loc[:,'TotalWaterUse'].values\n",
    "\n",
    "X_test1 = WU_test.drop(columns=['TotalWaterUse']).values\n",
    "Y_test = WU_test.loc[:,'TotalWaterUse'].values\n",
    "\n",
    "X_train_all1 = WU_train_all.drop(columns=['TotalWaterUse']).values\n",
    "Y_train_all = WU_train_all.loc[:,'TotalWaterUse'].values\n",
    "\n",
    "p_scalar1 = preprocessing.StandardScaler() # for dev\n",
    "p_scalar2 = preprocessing.StandardScaler() # for test\n",
    "p_scalar1.fit(X_train1)\n",
    "p_scalar2.fit(X_train_all1)\n",
    "\n",
    "X_train = p_scalar1.transform(X_train1 )\n",
    "X_dev = p_scalar1.transform(X_dev1)\n",
    "\n",
    "X_train_all = p_scalar2.transform(X_train_all1)\n",
    "X_test = p_scalar2.transform(X_test1 )"
   ]
  },
  {
   "cell_type": "code",
   "execution_count": 4,
   "metadata": {},
   "outputs": [],
   "source": [
    "def buildmodel(dense_dp = 0.1, l2=0.01, unites =128):\n",
    "    model = keras.models.Sequential([\n",
    "        keras.layers.Dense(unites,activation='selu', input_shape = X_train.shape[1:], \n",
    "                                 kernel_initializer='lecun_normal',\n",
    "                                 kernel_regularizer=keras.regularizers.l2(l2)),\n",
    "        keras.layers.Dropout(dense_dp),\n",
    "        keras.layers.Dense(unites,activation='selu',\n",
    "                                 kernel_initializer='lecun_normal',\n",
    "                                 kernel_regularizer=keras.regularizers.l2(l2)),\n",
    "        keras.layers.Dropout(dense_dp),\n",
    "        keras.layers.Dense(unites,activation='selu',\n",
    "                                 kernel_initializer='lecun_normal',\n",
    "                                 kernel_regularizer=keras.regularizers.l2(l2)),\n",
    "        keras.layers.Dropout(dense_dp),\n",
    "        keras.layers.Dense(unites,activation='selu',\n",
    "                                 kernel_initializer='lecun_normal',\n",
    "                                 kernel_regularizer=keras.regularizers.l2(l2)),\n",
    "        keras.layers.Dropout(dense_dp),\n",
    "        keras.layers.Dense(unites,activation='selu',\n",
    "                                 kernel_initializer='lecun_normal',\n",
    "                                 kernel_regularizer=keras.regularizers.l2(l2)),\n",
    "        keras.layers.Dropout(dense_dp),\n",
    "        keras.layers.Dense(unites,activation='selu',\n",
    "                                 kernel_initializer='lecun_normal',\n",
    "                                 kernel_regularizer=keras.regularizers.l2(l2)),\n",
    "        keras.layers.Dropout(dense_dp) ,\n",
    "        keras.layers.Dense(unites,activation='selu',\n",
    "                                 kernel_initializer='lecun_normal',\n",
    "                                 kernel_regularizer=keras.regularizers.l2(l2)),\n",
    "\n",
    "       #keras.layers.AlphaDropout(dense_dp) ,\n",
    "        keras.layers.Dense(1)\n",
    "    ])\n",
    "    return model"
   ]
  },
  {
   "cell_type": "markdown",
   "metadata": {},
   "source": [
    "del model\n",
    "tf.keras.backend.clear_session()"
   ]
  },
  {
   "cell_type": "code",
   "execution_count": 5,
   "metadata": {},
   "outputs": [],
   "source": [
    "l2 = 0.1\n",
    "dp_rate=0.1\n",
    "n_unites = 512\n",
    "lr=1e-5\n",
    "batch_size=128"
   ]
  },
  {
   "cell_type": "code",
   "execution_count": 6,
   "metadata": {},
   "outputs": [
    {
     "name": "stdout",
     "output_type": "stream",
     "text": [
      "Model: \"sequential\"\n",
      "_________________________________________________________________\n",
      "Layer (type)                 Output Shape              Param #   \n",
      "=================================================================\n",
      "dense (Dense)                (None, 512)               10240     \n",
      "_________________________________________________________________\n",
      "dropout (Dropout)            (None, 512)               0         \n",
      "_________________________________________________________________\n",
      "dense_1 (Dense)              (None, 512)               262656    \n",
      "_________________________________________________________________\n",
      "dropout_1 (Dropout)          (None, 512)               0         \n",
      "_________________________________________________________________\n",
      "dense_2 (Dense)              (None, 512)               262656    \n",
      "_________________________________________________________________\n",
      "dropout_2 (Dropout)          (None, 512)               0         \n",
      "_________________________________________________________________\n",
      "dense_3 (Dense)              (None, 512)               262656    \n",
      "_________________________________________________________________\n",
      "dropout_3 (Dropout)          (None, 512)               0         \n",
      "_________________________________________________________________\n",
      "dense_4 (Dense)              (None, 512)               262656    \n",
      "_________________________________________________________________\n",
      "dropout_4 (Dropout)          (None, 512)               0         \n",
      "_________________________________________________________________\n",
      "dense_5 (Dense)              (None, 512)               262656    \n",
      "_________________________________________________________________\n",
      "dropout_5 (Dropout)          (None, 512)               0         \n",
      "_________________________________________________________________\n",
      "dense_6 (Dense)              (None, 512)               262656    \n",
      "_________________________________________________________________\n",
      "dense_7 (Dense)              (None, 1)                 513       \n",
      "=================================================================\n",
      "Total params: 1,586,689\n",
      "Trainable params: 1,586,689\n",
      "Non-trainable params: 0\n",
      "_________________________________________________________________\n"
     ]
    }
   ],
   "source": [
    "model = buildmodel(dense_dp = dp_rate, l2=l2, unites = n_unites)\n",
    "\n",
    "model.compile(optimizer = keras.optimizers.Nadam(learning_rate=lr), loss = 'mean_squared_error', metrics = ['mse'] )\n",
    "model.summary()"
   ]
  },
  {
   "cell_type": "code",
   "execution_count": 8,
   "metadata": {},
   "outputs": [],
   "source": [
    "callback_list =[\n",
    "    keras.callbacks.EarlyStopping(\n",
    "        monitor = 'val_mse',\n",
    "        restore_best_weights=True,\n",
    "        patience= 5\n",
    "    ),\n",
    "    keras.callbacks.ModelCheckpoint(\n",
    "        filepath='MLP_log/mpl_mc_dev_1m.h5',\n",
    "        save_best_only= True,\n",
    "        monitor='val_mse'\n",
    "    )\n",
    "]"
   ]
  },
  {
   "cell_type": "code",
   "execution_count": 9,
   "metadata": {},
   "outputs": [
    {
     "name": "stdout",
     "output_type": "stream",
     "text": [
      "Epoch 1/100\n",
      "85/85 [==============================] - 1s 13ms/step - loss: 33053370.0000 - mse: 33053008.0000 - val_loss: 32948808.0000 - val_mse: 32948450.0000\n",
      "Epoch 2/100\n",
      "85/85 [==============================] - 1s 10ms/step - loss: 32845554.0000 - mse: 32845208.0000 - val_loss: 32562786.0000 - val_mse: 32562428.0000\n",
      "Epoch 3/100\n",
      "85/85 [==============================] - 1s 9ms/step - loss: 31967580.0000 - mse: 31967214.0000 - val_loss: 30819020.0000 - val_mse: 30818656.0000\n",
      "Epoch 4/100\n",
      "85/85 [==============================] - 1s 9ms/step - loss: 27854134.0000 - mse: 27853774.0000 - val_loss: 23359898.0000 - val_mse: 23359536.0000\n",
      "Epoch 5/100\n",
      "85/85 [==============================] - 1s 9ms/step - loss: 16374421.0000 - mse: 16374057.0000 - val_loss: 10731551.0000 - val_mse: 10731188.0000\n",
      "Epoch 6/100\n",
      "85/85 [==============================] - 1s 9ms/step - loss: 8528611.0000 - mse: 8528249.0000 - val_loss: 8604171.0000 - val_mse: 8603806.0000\n",
      "Epoch 7/100\n",
      "85/85 [==============================] - 1s 9ms/step - loss: 7582080.5000 - mse: 7581714.0000 - val_loss: 7948690.0000 - val_mse: 7948324.0000\n",
      "Epoch 8/100\n",
      "85/85 [==============================] - 1s 9ms/step - loss: 6746519.5000 - mse: 6746152.0000 - val_loss: 7106314.0000 - val_mse: 7105947.5000\n",
      "Epoch 9/100\n",
      "85/85 [==============================] - 1s 9ms/step - loss: 6031719.0000 - mse: 6031353.0000 - val_loss: 6532748.5000 - val_mse: 6532380.0000\n",
      "Epoch 10/100\n",
      "85/85 [==============================] - 1s 10ms/step - loss: 5692357.0000 - mse: 5691987.5000 - val_loss: 6316591.0000 - val_mse: 6316222.5000\n",
      "Epoch 11/100\n",
      "85/85 [==============================] - 1s 9ms/step - loss: 5516285.5000 - mse: 5515915.0000 - val_loss: 6120128.0000 - val_mse: 6119760.0000\n",
      "Epoch 12/100\n",
      "85/85 [==============================] - 1s 11ms/step - loss: 5358338.5000 - mse: 5357968.5000 - val_loss: 5985816.5000 - val_mse: 5985447.5000\n",
      "Epoch 13/100\n",
      "85/85 [==============================] - 1s 10ms/step - loss: 5215584.5000 - mse: 5215216.0000 - val_loss: 5827859.5000 - val_mse: 5827489.5000\n",
      "Epoch 14/100\n",
      "85/85 [==============================] - 1s 10ms/step - loss: 5132312.5000 - mse: 5131942.0000 - val_loss: 5699719.5000 - val_mse: 5699350.0000\n",
      "Epoch 15/100\n",
      "85/85 [==============================] - 1s 10ms/step - loss: 5014805.5000 - mse: 5014434.0000 - val_loss: 5601237.5000 - val_mse: 5600866.5000\n",
      "Epoch 16/100\n",
      "85/85 [==============================] - 1s 10ms/step - loss: 4868915.0000 - mse: 4868544.5000 - val_loss: 5417527.5000 - val_mse: 5417156.5000\n",
      "Epoch 17/100\n",
      "85/85 [==============================] - 1s 9ms/step - loss: 4764042.0000 - mse: 4763670.0000 - val_loss: 5313240.5000 - val_mse: 5312868.5000\n",
      "Epoch 18/100\n",
      "85/85 [==============================] - 1s 10ms/step - loss: 4696244.0000 - mse: 4695873.0000 - val_loss: 5183006.5000 - val_mse: 5182634.5000\n",
      "Epoch 19/100\n",
      "85/85 [==============================] - 1s 9ms/step - loss: 4525752.5000 - mse: 4525379.5000 - val_loss: 5054686.0000 - val_mse: 5054314.0000\n",
      "Epoch 20/100\n",
      "85/85 [==============================] - 1s 9ms/step - loss: 4473424.0000 - mse: 4473051.5000 - val_loss: 4962372.5000 - val_mse: 4962000.0000\n",
      "Epoch 21/100\n",
      "85/85 [==============================] - 1s 9ms/step - loss: 4391752.0000 - mse: 4391379.0000 - val_loss: 4865331.0000 - val_mse: 4864957.5000\n",
      "Epoch 22/100\n",
      "85/85 [==============================] - 1s 10ms/step - loss: 4250953.0000 - mse: 4250582.5000 - val_loss: 4760324.0000 - val_mse: 4759950.0000\n",
      "Epoch 23/100\n",
      "85/85 [==============================] - 1s 9ms/step - loss: 4141621.7500 - mse: 4141246.5000 - val_loss: 4622791.5000 - val_mse: 4622417.0000\n",
      "Epoch 24/100\n",
      "85/85 [==============================] - 1s 10ms/step - loss: 4028316.2500 - mse: 4027941.5000 - val_loss: 4449736.5000 - val_mse: 4449361.0000\n",
      "Epoch 25/100\n",
      "85/85 [==============================] - 1s 10ms/step - loss: 3883936.7500 - mse: 3883561.7500 - val_loss: 4267856.0000 - val_mse: 4267480.5000\n",
      "Epoch 26/100\n",
      "85/85 [==============================] - 1s 10ms/step - loss: 3769877.2500 - mse: 3769501.5000 - val_loss: 4106018.2500 - val_mse: 4105641.7500\n",
      "Epoch 27/100\n",
      "85/85 [==============================] - 1s 10ms/step - loss: 3605433.5000 - mse: 3605056.5000 - val_loss: 3909188.7500 - val_mse: 3908811.5000\n",
      "Epoch 28/100\n",
      "85/85 [==============================] - 1s 9ms/step - loss: 3427881.0000 - mse: 3427504.2500 - val_loss: 3703669.0000 - val_mse: 3703291.0000\n",
      "Epoch 29/100\n",
      "85/85 [==============================] - 1s 10ms/step - loss: 3272721.0000 - mse: 3272343.0000 - val_loss: 3462503.0000 - val_mse: 3462124.2500\n",
      "Epoch 30/100\n",
      "85/85 [==============================] - 1s 9ms/step - loss: 3076456.7500 - mse: 3076077.0000 - val_loss: 3224334.7500 - val_mse: 3223955.7500\n",
      "Epoch 31/100\n",
      "85/85 [==============================] - 1s 10ms/step - loss: 2896649.7500 - mse: 2896270.0000 - val_loss: 3012832.2500 - val_mse: 3012452.0000\n",
      "Epoch 32/100\n",
      "85/85 [==============================] - 1s 10ms/step - loss: 2735738.2500 - mse: 2735358.0000 - val_loss: 2804406.0000 - val_mse: 2804025.5000\n",
      "Epoch 33/100\n",
      "85/85 [==============================] - 1s 10ms/step - loss: 2596711.2500 - mse: 2596330.2500 - val_loss: 2652530.5000 - val_mse: 2652149.0000\n",
      "Epoch 34/100\n",
      "85/85 [==============================] - 1s 10ms/step - loss: 2473930.2500 - mse: 2473549.2500 - val_loss: 2570911.2500 - val_mse: 2570528.7500\n",
      "Epoch 35/100\n",
      "85/85 [==============================] - 1s 10ms/step - loss: 2394457.7500 - mse: 2394075.2500 - val_loss: 2485525.2500 - val_mse: 2485142.5000\n",
      "Epoch 36/100\n",
      "85/85 [==============================] - 1s 9ms/step - loss: 2358227.7500 - mse: 2357844.5000 - val_loss: 2406376.0000 - val_mse: 2405992.5000\n",
      "Epoch 37/100\n",
      "85/85 [==============================] - 1s 10ms/step - loss: 2305641.5000 - mse: 2305258.2500 - val_loss: 2371852.2500 - val_mse: 2371468.7500\n",
      "Epoch 38/100\n",
      "85/85 [==============================] - 1s 10ms/step - loss: 2269188.5000 - mse: 2268804.5000 - val_loss: 2383381.5000 - val_mse: 2382997.2500\n",
      "Epoch 39/100\n",
      "85/85 [==============================] - 1s 9ms/step - loss: 2229104.7500 - mse: 2228720.0000 - val_loss: 2340761.5000 - val_mse: 2340376.7500\n",
      "Epoch 40/100\n",
      "85/85 [==============================] - 1s 9ms/step - loss: 2254537.0000 - mse: 2254152.5000 - val_loss: 2292355.0000 - val_mse: 2291969.5000\n",
      "Epoch 41/100\n",
      "85/85 [==============================] - 1s 9ms/step - loss: 2174752.7500 - mse: 2174367.7500 - val_loss: 2273692.2500 - val_mse: 2273307.0000\n",
      "Epoch 42/100\n",
      "85/85 [==============================] - 1s 10ms/step - loss: 2147410.0000 - mse: 2147024.5000 - val_loss: 2263387.5000 - val_mse: 2263001.7500\n",
      "Epoch 43/100\n",
      "85/85 [==============================] - 1s 10ms/step - loss: 2175645.2500 - mse: 2175259.2500 - val_loss: 2247904.5000 - val_mse: 2247518.2500\n",
      "Epoch 44/100\n",
      "85/85 [==============================] - 1s 9ms/step - loss: 2146263.5000 - mse: 2145877.7500 - val_loss: 2252146.0000 - val_mse: 2251759.5000\n",
      "Epoch 45/100\n",
      "85/85 [==============================] - 1s 10ms/step - loss: 2110158.2500 - mse: 2109771.5000 - val_loss: 2197334.0000 - val_mse: 2196947.5000\n",
      "Epoch 46/100\n",
      "85/85 [==============================] - 1s 9ms/step - loss: 2102863.0000 - mse: 2102475.7500 - val_loss: 2195003.5000 - val_mse: 2194616.2500\n",
      "Epoch 47/100\n",
      "85/85 [==============================] - 1s 9ms/step - loss: 2064286.7500 - mse: 2063899.1250 - val_loss: 2167410.0000 - val_mse: 2167022.2500\n",
      "Epoch 48/100\n",
      "85/85 [==============================] - 1s 9ms/step - loss: 2057085.5000 - mse: 2056697.8750 - val_loss: 2139504.7500 - val_mse: 2139116.5000\n",
      "Epoch 49/100\n",
      "85/85 [==============================] - 1s 11ms/step - loss: 2026463.7500 - mse: 2026075.3750 - val_loss: 2132182.5000 - val_mse: 2131793.7500\n",
      "Epoch 50/100\n",
      "85/85 [==============================] - 1s 11ms/step - loss: 2007445.0000 - mse: 2007055.8750 - val_loss: 2097920.2500 - val_mse: 2097531.5000\n",
      "Epoch 51/100\n",
      "85/85 [==============================] - 1s 9ms/step - loss: 2012603.0000 - mse: 2012214.3750 - val_loss: 2074919.2500 - val_mse: 2074529.8750\n",
      "Epoch 52/100\n",
      "85/85 [==============================] - 1s 10ms/step - loss: 1971757.0000 - mse: 1971368.0000 - val_loss: 2035263.7500 - val_mse: 2034874.2500\n",
      "Epoch 53/100\n"
     ]
    },
    {
     "name": "stdout",
     "output_type": "stream",
     "text": [
      "85/85 [==============================] - 1s 9ms/step - loss: 1979956.5000 - mse: 1979566.2500 - val_loss: 2049785.0000 - val_mse: 2049395.0000\n",
      "Epoch 54/100\n",
      "85/85 [==============================] - 1s 9ms/step - loss: 1947777.8750 - mse: 1947387.5000 - val_loss: 2050467.3750 - val_mse: 2050077.2500\n",
      "Epoch 55/100\n",
      "85/85 [==============================] - 1s 10ms/step - loss: 1953796.0000 - mse: 1953405.0000 - val_loss: 2020639.6250 - val_mse: 2020248.7500\n",
      "Epoch 56/100\n",
      "85/85 [==============================] - 1s 11ms/step - loss: 1908435.6250 - mse: 1908045.1250 - val_loss: 1983810.7500 - val_mse: 1983419.5000\n",
      "Epoch 57/100\n",
      "85/85 [==============================] - 1s 9ms/step - loss: 1912765.8750 - mse: 1912374.3750 - val_loss: 1996873.6250 - val_mse: 1996482.1250\n",
      "Epoch 58/100\n",
      "85/85 [==============================] - 1s 9ms/step - loss: 1865179.6250 - mse: 1864787.3750 - val_loss: 2005771.7500 - val_mse: 2005380.0000\n",
      "Epoch 59/100\n",
      "85/85 [==============================] - 1s 9ms/step - loss: 1862732.0000 - mse: 1862339.7500 - val_loss: 1955920.3750 - val_mse: 1955528.3750\n",
      "Epoch 60/100\n",
      "85/85 [==============================] - 1s 10ms/step - loss: 1855061.8750 - mse: 1854669.3750 - val_loss: 1895284.8750 - val_mse: 1894892.1250\n",
      "Epoch 61/100\n",
      "85/85 [==============================] - 1s 10ms/step - loss: 1846948.2500 - mse: 1846554.5000 - val_loss: 1912267.1250 - val_mse: 1911874.1250\n",
      "Epoch 62/100\n",
      "85/85 [==============================] - 1s 9ms/step - loss: 1832589.8750 - mse: 1832196.7500 - val_loss: 1903968.3750 - val_mse: 1903574.8750\n",
      "Epoch 63/100\n",
      "85/85 [==============================] - 1s 10ms/step - loss: 1815108.1250 - mse: 1814714.0000 - val_loss: 1864562.1250 - val_mse: 1864168.1250\n",
      "Epoch 64/100\n",
      "85/85 [==============================] - 1s 9ms/step - loss: 1810094.1250 - mse: 1809699.5000 - val_loss: 1863342.8750 - val_mse: 1862948.8750\n",
      "Epoch 65/100\n",
      "85/85 [==============================] - 1s 9ms/step - loss: 1795962.7500 - mse: 1795568.5000 - val_loss: 1867674.5000 - val_mse: 1867279.7500\n",
      "Epoch 66/100\n",
      "85/85 [==============================] - 1s 9ms/step - loss: 1789592.5000 - mse: 1789198.2500 - val_loss: 1867525.1250 - val_mse: 1867130.2500\n",
      "Epoch 67/100\n",
      "85/85 [==============================] - 1s 10ms/step - loss: 1796405.6250 - mse: 1796010.8750 - val_loss: 1835844.8750 - val_mse: 1835449.6250\n",
      "Epoch 68/100\n",
      "85/85 [==============================] - 1s 9ms/step - loss: 1767196.8750 - mse: 1766801.2500 - val_loss: 1809529.0000 - val_mse: 1809133.5000\n",
      "Epoch 69/100\n",
      "85/85 [==============================] - 1s 11ms/step - loss: 1764085.3750 - mse: 1763689.6250 - val_loss: 1808813.2500 - val_mse: 1808417.2500\n",
      "Epoch 70/100\n",
      "85/85 [==============================] - 1s 9ms/step - loss: 1746571.0000 - mse: 1746174.6250 - val_loss: 1811867.7500 - val_mse: 1811471.3750\n",
      "Epoch 71/100\n",
      "85/85 [==============================] - 1s 10ms/step - loss: 1756971.6250 - mse: 1756575.5000 - val_loss: 1805415.2500 - val_mse: 1805018.6250\n",
      "Epoch 72/100\n",
      "85/85 [==============================] - 1s 9ms/step - loss: 1735678.5000 - mse: 1735281.6250 - val_loss: 1802283.7500 - val_mse: 1801886.8750\n",
      "Epoch 73/100\n",
      "85/85 [==============================] - 1s 10ms/step - loss: 1734881.8750 - mse: 1734484.3750 - val_loss: 1815635.6250 - val_mse: 1815238.3750\n",
      "Epoch 74/100\n",
      "85/85 [==============================] - 1s 10ms/step - loss: 1734316.7500 - mse: 1733919.1250 - val_loss: 1817776.6250 - val_mse: 1817379.2500\n",
      "Epoch 75/100\n",
      "85/85 [==============================] - 1s 10ms/step - loss: 1717574.8750 - mse: 1717177.2500 - val_loss: 1800695.6250 - val_mse: 1800297.8750\n",
      "Epoch 76/100\n",
      "85/85 [==============================] - 1s 10ms/step - loss: 1720582.1250 - mse: 1720185.3750 - val_loss: 1772600.5000 - val_mse: 1772202.5000\n",
      "Epoch 77/100\n",
      "85/85 [==============================] - 1s 9ms/step - loss: 1692523.0000 - mse: 1692124.3750 - val_loss: 1784696.5000 - val_mse: 1784298.1250\n",
      "Epoch 78/100\n",
      "85/85 [==============================] - 1s 10ms/step - loss: 1718006.3750 - mse: 1717607.7500 - val_loss: 1765601.3750 - val_mse: 1765202.5000\n",
      "Epoch 79/100\n",
      "85/85 [==============================] - 1s 9ms/step - loss: 1702618.5000 - mse: 1702219.8750 - val_loss: 1793729.5000 - val_mse: 1793330.5000\n",
      "Epoch 80/100\n",
      "85/85 [==============================] - 1s 10ms/step - loss: 1703831.3750 - mse: 1703432.0000 - val_loss: 1761235.2500 - val_mse: 1760836.0000\n",
      "Epoch 81/100\n",
      "85/85 [==============================] - 1s 9ms/step - loss: 1694191.7500 - mse: 1693792.1250 - val_loss: 1768139.3750 - val_mse: 1767739.6250\n",
      "Epoch 82/100\n",
      "85/85 [==============================] - 1s 10ms/step - loss: 1673592.6250 - mse: 1673192.6250 - val_loss: 1758798.7500 - val_mse: 1758398.7500\n",
      "Epoch 83/100\n",
      "85/85 [==============================] - 1s 10ms/step - loss: 1648976.7500 - mse: 1648576.8750 - val_loss: 1744204.0000 - val_mse: 1743803.7500\n",
      "Epoch 84/100\n",
      "85/85 [==============================] - 1s 10ms/step - loss: 1675132.3750 - mse: 1674732.2500 - val_loss: 1723459.6250 - val_mse: 1723059.1250\n",
      "Epoch 85/100\n",
      "85/85 [==============================] - 1s 10ms/step - loss: 1641196.5000 - mse: 1640796.1250 - val_loss: 1708015.7500 - val_mse: 1707614.8750\n",
      "Epoch 86/100\n",
      "85/85 [==============================] - 1s 9ms/step - loss: 1640210.6250 - mse: 1639809.7500 - val_loss: 1743883.2500 - val_mse: 1743482.1250\n",
      "Epoch 87/100\n",
      "85/85 [==============================] - 1s 9ms/step - loss: 1644973.3750 - mse: 1644571.5000 - val_loss: 1727435.2500 - val_mse: 1727034.1250\n",
      "Epoch 88/100\n",
      "85/85 [==============================] - 1s 10ms/step - loss: 1629891.3750 - mse: 1629489.5000 - val_loss: 1726673.1250 - val_mse: 1726271.5000\n",
      "Epoch 89/100\n",
      "85/85 [==============================] - 1s 9ms/step - loss: 1641358.7500 - mse: 1640956.6250 - val_loss: 1709897.6250 - val_mse: 1709495.6250\n",
      "Epoch 90/100\n",
      "85/85 [==============================] - 1s 10ms/step - loss: 1638483.6250 - mse: 1638081.6250 - val_loss: 1693763.8750 - val_mse: 1693361.6250\n",
      "Epoch 91/100\n",
      "85/85 [==============================] - 1s 10ms/step - loss: 1619612.5000 - mse: 1619210.2500 - val_loss: 1676722.0000 - val_mse: 1676319.6250\n",
      "Epoch 92/100\n",
      "85/85 [==============================] - 1s 10ms/step - loss: 1619200.0000 - mse: 1618797.0000 - val_loss: 1688033.6250 - val_mse: 1687630.7500\n",
      "Epoch 93/100\n",
      "85/85 [==============================] - 1s 10ms/step - loss: 1614529.7500 - mse: 1614126.5000 - val_loss: 1671885.5000 - val_mse: 1671482.5000\n",
      "Epoch 94/100\n",
      "85/85 [==============================] - 1s 10ms/step - loss: 1590788.1250 - mse: 1590384.3750 - val_loss: 1668170.1250 - val_mse: 1667766.8750\n",
      "Epoch 95/100\n",
      "85/85 [==============================] - 1s 10ms/step - loss: 1607115.5000 - mse: 1606712.0000 - val_loss: 1667189.8750 - val_mse: 1666786.2500\n",
      "Epoch 96/100\n",
      "85/85 [==============================] - 1s 11ms/step - loss: 1586795.0000 - mse: 1586391.3750 - val_loss: 1656153.0000 - val_mse: 1655749.1250\n",
      "Epoch 97/100\n",
      "85/85 [==============================] - 1s 8ms/step - loss: 1580006.5000 - mse: 1579602.0000 - val_loss: 1659003.3750 - val_mse: 1658599.1250\n",
      "Epoch 98/100\n",
      "85/85 [==============================] - 1s 9ms/step - loss: 1582052.5000 - mse: 1581648.1250 - val_loss: 1650164.5000 - val_mse: 1649760.1250\n",
      "Epoch 99/100\n",
      "85/85 [==============================] - 1s 8ms/step - loss: 1562026.2500 - mse: 1561621.7500 - val_loss: 1664276.7500 - val_mse: 1663871.7500\n",
      "Epoch 100/100\n",
      "85/85 [==============================] - 1s 8ms/step - loss: 1592660.2500 - mse: 1592255.5000 - val_loss: 1661136.2500 - val_mse: 1660731.2500\n"
     ]
    }
   ],
   "source": [
    "# seed\n",
    "tf.random.set_seed(1)\n",
    "np.random.seed(1)\n",
    "\n",
    "history = model.fit(x= X_train,\n",
    "                    y= Y_train,\n",
    "                    epochs= 100,\n",
    "                    batch_size= batch_size,\n",
    "                    validation_data=( X_dev,Y_dev),\n",
    "                    callbacks=callback_list)"
   ]
  },
  {
   "cell_type": "code",
   "execution_count": 10,
   "metadata": {},
   "outputs": [
    {
     "data": {
      "image/png": "[encoded data removed]",
      "text/plain": [
       "<Figure size 576x360 with 1 Axes>"
      ]
     },
     "metadata": {
      "needs_background": "light"
     },
     "output_type": "display_data"
    }
   ],
   "source": [
    "pd.DataFrame(history.history).plot(figsize=(8,5))\n",
    "plt.grid(True)\n",
    "\n",
    "plt.show()"
   ]
  },
  {
   "cell_type": "code",
   "execution_count": 11,
   "metadata": {},
   "outputs": [],
   "source": [
    "pred = model.predict(X_dev)\n",
    "y_true = Y_dev"
   ]
  },
  {
   "cell_type": "code",
   "execution_count": 12,
   "metadata": {},
   "outputs": [],
   "source": [
    "stop_epoch = pd.Series(history.history['val_mse'],index = history.epoch).idxmin()"
   ]
  },
  {
   "cell_type": "code",
   "execution_count": 13,
   "metadata": {},
   "outputs": [
    {
     "name": "stdout",
     "output_type": "stream",
     "text": [
      "done\n"
     ]
    }
   ],
   "source": [
    "class MCDropout(keras.layers.Dropout):\n",
    "    def call(self, inputs):\n",
    "        return super().call(inputs, training=True)\n",
    "\n",
    "class MCAlphaDropout(keras.layers.AlphaDropout):\n",
    "    def call(self, inputs):\n",
    "        return super().call(inputs, training=True)\n",
    "\n",
    "mc_model = keras.models.Sequential([\n",
    "    MCDropout(dp_rate) if isinstance(layer, keras.layers.Dropout) else layer\n",
    "    for layer in model.layers\n",
    "])\n",
    "\n",
    "mc_model.compile(optimizer = keras.optimizers.Nadam(learning_rate=lr), loss = 'mean_squared_error', metrics = ['mse'] )\n",
    "mc_model.set_weights(model.get_weights())\n",
    "\n",
    "\n",
    "X_test_tf = tf.constant( X_dev, dtype=tf.float32 )\n",
    "T= 1000\n",
    "y_probas = np.stack([mc_model.predict(X_test_tf, batch_size= batch_size)\n",
    "                     for sample in range(T)])\n",
    "print('done')"
   ]
  },
  {
   "cell_type": "code",
   "execution_count": 14,
   "metadata": {},
   "outputs": [],
   "source": [
    "y_hat_MC = y_probas.reshape(y_probas.shape[:-1])\n",
    "y_hat = y_hat_MC.mean(axis=0)\n",
    "sig_hat = y_hat_MC.std(axis=0)\n",
    "y_true = Y_dev"
   ]
  },
  {
   "cell_type": "markdown",
   "metadata": {},
   "source": [
    "# Tune tau"
   ]
  },
  {
   "cell_type": "code",
   "execution_count": 15,
   "metadata": {},
   "outputs": [
    {
     "name": "stdout",
     "output_type": "stream",
     "text": [
      "final tune value: tau:7.62939453125e-07 t:20 LL:-8.528655524666021 RMSE:1255.2121\n"
     ]
    }
   ],
   "source": [
    "grid_ll = []\n",
    "taul, tl = [], []\n",
    "for t in range(100):\n",
    "    tau = 2**(-t)\n",
    "    ll = (logsumexp(-0.5 * tau * (y_true - y_hat_MC)**2., 0) - np.log(T) - 0.5*np.log(2*np.pi) + 0.5*np.log(tau))\n",
    "    test_ll = np.mean(ll)\n",
    "    taul.append(tau)\n",
    "    grid_ll.append(test_ll)\n",
    "    tl.append(t)\n",
    "best_t = tl[grid_ll.index(max(grid_ll))]\n",
    "best_tau = taul[grid_ll.index(max(grid_ll))]\n",
    "best_tau, best_t, max(grid_ll)\n",
    "\n",
    "\n",
    "G = 100\n",
    "gg = (taul[grid_ll.index(max(grid_ll))-1] - taul[grid_ll.index(max(grid_ll))+1])/G\n",
    "grid_ll = []\n",
    "taul, tl = [], []\n",
    "for t in range(G):\n",
    "    tau = 2**(-best_t-1) +  gg*t\n",
    "    ll = (logsumexp(-0.5 * tau * (y_true - y_hat_MC)**2., 0) - np.log(T) - 0.5*np.log(2*np.pi) + 0.5*np.log(tau))\n",
    "    test_ll = np.mean(ll)\n",
    "    taul.append(tau)\n",
    "    grid_ll.append(test_ll)\n",
    "    tl.append(t)\n",
    "    \n",
    "\n",
    "rmse = round(np.sqrt(mean_squared_error(y_true,y_hat)),4) \n",
    "\n",
    "best_t = tl[grid_ll.index(max(grid_ll))]\n",
    "best_tau = taul[grid_ll.index(max(grid_ll))]\n",
    "sig = np.sqrt(1/best_tau)\n",
    "print('final tune value: tau:{} t:{} LL:{} RMSE:{}'.format(best_tau, best_t, max(grid_ll),rmse ))"
   ]
  },
  {
   "cell_type": "code",
   "execution_count": 16,
   "metadata": {},
   "outputs": [],
   "source": [
    "sig = np.sqrt(1/best_tau)"
   ]
  },
  {
   "cell_type": "code",
   "execution_count": 17,
   "metadata": {},
   "outputs": [],
   "source": [
    "# hyper-par: tau\n",
    "np.random.seed(1)\n",
    "y_MC_mixture = np.concatenate([np.random.normal(loc=samplei,scale=sig,size=(10,len(samplei))) for samplei in y_hat_MC] , axis=0)"
   ]
  },
  {
   "cell_type": "code",
   "execution_count": 18,
   "metadata": {},
   "outputs": [],
   "source": [
    "alpha= 0.05\n",
    "L_hat = np.quantile(y_MC_mixture,alpha/2,axis=0)\n",
    "U_hat = np.quantile(y_MC_mixture,(1-alpha/2),axis=0)\n",
    "\n",
    "left = L_hat\n",
    "right = U_hat\n",
    "py_all = np.stack([norm.pdf(y_true, loc=samplei, scale=sig) for samplei in y_hat_MC])\n",
    "p_y = py_all.mean(axis=0)\n",
    "sig_hat2 = y_MC_mixture.std(axis=0)"
   ]
  },
  {
   "cell_type": "markdown",
   "metadata": {},
   "source": [
    "# save to dev MF"
   ]
  },
  {
   "cell_type": "code",
   "execution_count": 19,
   "metadata": {},
   "outputs": [],
   "source": [
    "WU2 = feather.read_dataframe('Data/WU_lag.feather')\n",
    "all_dev_MF = pd.DataFrame({\n",
    "    'Index': WU2[WU2.loc[:,'Set']=='dev'].loc[:,'Index'].values,\n",
    "    'Y': y_true,\n",
    "    'y_hat': y_hat,\n",
    "    'L': left,\n",
    "    'U': right,\n",
    "    'sig_hat': sig_hat2,\n",
    "    'p_y':p_y\n",
    "})\n",
    "path = 'Out_dev_MF\\\\month1\\\\MLP_MC_dev_1m_dist.feather'\n",
    "\n",
    "feather.write_dataframe(all_dev_MF , path)"
   ]
  },
  {
   "cell_type": "code",
   "execution_count": 20,
   "metadata": {},
   "outputs": [],
   "source": [
    "del model\n",
    "tf.keras.backend.clear_session()"
   ]
  },
  {
   "cell_type": "markdown",
   "metadata": {},
   "source": [
    "# Test"
   ]
  },
  {
   "cell_type": "code",
   "execution_count": 21,
   "metadata": {},
   "outputs": [],
   "source": [
    "model = buildmodel(dense_dp = dp_rate, l2=0.1, unites = n_unites)\n",
    "model.compile(optimizer = keras.optimizers.Nadam(learning_rate=lr), loss = 'mean_squared_error', metrics = ['mse'] )"
   ]
  },
  {
   "cell_type": "code",
   "execution_count": 23,
   "metadata": {},
   "outputs": [],
   "source": [
    "from tensorflow.keras import utils\n",
    "from tensorflow.keras import callbacks\n",
    "\n",
    "callback_list =[\n",
    "    callbacks.EarlyStopping(\n",
    "        monitor = 'val_mse',\n",
    "        patience= stop_epoch\n",
    "    ),\n",
    "    callbacks.ModelCheckpoint(\n",
    "        filepath='MLP_log/mlp_mc_1m.h5',\n",
    "        #save_best_only= True,\n",
    "        monitor='val_mse'\n",
    "    )\n",
    "]"
   ]
  },
  {
   "cell_type": "code",
   "execution_count": 24,
   "metadata": {},
   "outputs": [
    {
     "name": "stdout",
     "output_type": "stream",
     "text": [
      "Epoch 1/97\n",
      "94/94 [==============================] - 1s 10ms/step - loss: 33038838.0000 - mse: 33038478.0000 - val_loss: 30801398.0000 - val_mse: 30801040.0000\n",
      "Epoch 2/97\n",
      "94/94 [==============================] - 1s 10ms/step - loss: 32747820.0000 - mse: 32747462.0000 - val_loss: 30267248.0000 - val_mse: 30266886.0000\n",
      "Epoch 3/97\n",
      "94/94 [==============================] - 1s 9ms/step - loss: 31031348.0000 - mse: 31030988.0000 - val_loss: 26837544.0000 - val_mse: 26837184.0000\n",
      "Epoch 4/97\n",
      "94/94 [==============================] - 1s 10ms/step - loss: 22318204.0000 - mse: 22317842.0000 - val_loss: 14244919.0000 - val_mse: 14244556.0000\n",
      "Epoch 5/97\n",
      "94/94 [==============================] - 1s 9ms/step - loss: 9853041.0000 - mse: 9852677.0000 - val_loss: 8899354.0000 - val_mse: 8898989.0000\n",
      "Epoch 6/97\n",
      "94/94 [==============================] - 1s 9ms/step - loss: 7860962.5000 - mse: 7860599.0000 - val_loss: 8191229.5000 - val_mse: 8190864.0000\n",
      "Epoch 7/97\n",
      "94/94 [==============================] - 1s 9ms/step - loss: 7107272.5000 - mse: 7106907.5000 - val_loss: 7244419.5000 - val_mse: 7244053.5000\n",
      "Epoch 8/97\n",
      "94/94 [==============================] - 1s 9ms/step - loss: 6262160.5000 - mse: 6261793.5000 - val_loss: 6358695.5000 - val_mse: 6358327.0000\n",
      "Epoch 9/97\n",
      "94/94 [==============================] - 1s 9ms/step - loss: 5761506.0000 - mse: 5761136.0000 - val_loss: 5979590.5000 - val_mse: 5979222.0000\n",
      "Epoch 10/97\n",
      "94/94 [==============================] - 1s 10ms/step - loss: 5541025.5000 - mse: 5540657.0000 - val_loss: 5799273.0000 - val_mse: 5798903.5000\n",
      "Epoch 11/97\n",
      "94/94 [==============================] - 1s 10ms/step - loss: 5395776.0000 - mse: 5395406.0000 - val_loss: 5650762.0000 - val_mse: 5650392.0000\n",
      "Epoch 12/97\n",
      "94/94 [==============================] - 1s 9ms/step - loss: 5216004.0000 - mse: 5215633.5000 - val_loss: 5457910.0000 - val_mse: 5457540.5000\n",
      "Epoch 13/97\n",
      "94/94 [==============================] - 1s 9ms/step - loss: 5078713.5000 - mse: 5078344.5000 - val_loss: 5280436.0000 - val_mse: 5280065.5000\n",
      "Epoch 14/97\n",
      "94/94 [==============================] - 1s 10ms/step - loss: 4925646.0000 - mse: 4925275.0000 - val_loss: 5128844.0000 - val_mse: 5128472.5000\n",
      "Epoch 15/97\n",
      "94/94 [==============================] - 1s 10ms/step - loss: 4791697.5000 - mse: 4791326.5000 - val_loss: 4983456.0000 - val_mse: 4983085.0000\n",
      "Epoch 16/97\n",
      "94/94 [==============================] - 1s 9ms/step - loss: 4643213.5000 - mse: 4642844.5000 - val_loss: 4821514.0000 - val_mse: 4821142.0000\n",
      "Epoch 17/97\n",
      "94/94 [==============================] - 1s 10ms/step - loss: 4537806.0000 - mse: 4537434.0000 - val_loss: 4695601.0000 - val_mse: 4695228.5000\n",
      "Epoch 18/97\n",
      "94/94 [==============================] - 1s 9ms/step - loss: 4405765.0000 - mse: 4405393.0000 - val_loss: 4533564.0000 - val_mse: 4533190.5000\n",
      "Epoch 19/97\n",
      "94/94 [==============================] - 1s 10ms/step - loss: 4285001.5000 - mse: 4284628.5000 - val_loss: 4383575.5000 - val_mse: 4383201.5000\n",
      "Epoch 20/97\n",
      "94/94 [==============================] - 1s 9ms/step - loss: 4131264.7500 - mse: 4130891.0000 - val_loss: 4230767.5000 - val_mse: 4230393.0000\n",
      "Epoch 21/97\n",
      "94/94 [==============================] - 1s 9ms/step - loss: 4015345.7500 - mse: 4014971.2500 - val_loss: 4097756.5000 - val_mse: 4097381.5000\n",
      "Epoch 22/97\n",
      "94/94 [==============================] - 1s 10ms/step - loss: 3843360.7500 - mse: 3842985.0000 - val_loss: 3939370.7500 - val_mse: 3938994.7500\n",
      "Epoch 23/97\n",
      "94/94 [==============================] - 1s 9ms/step - loss: 3701499.5000 - mse: 3701124.5000 - val_loss: 3787473.5000 - val_mse: 3787097.5000\n",
      "Epoch 24/97\n",
      "94/94 [==============================] - 1s 9ms/step - loss: 3527601.5000 - mse: 3527223.2500 - val_loss: 3610322.0000 - val_mse: 3609944.7500\n",
      "Epoch 25/97\n",
      "94/94 [==============================] - 1s 10ms/step - loss: 3348996.7500 - mse: 3348618.2500 - val_loss: 3407869.5000 - val_mse: 3407491.2500\n",
      "Epoch 26/97\n",
      "94/94 [==============================] - 1s 9ms/step - loss: 3159278.0000 - mse: 3158898.2500 - val_loss: 3205670.0000 - val_mse: 3205291.5000\n",
      "Epoch 27/97\n",
      "94/94 [==============================] - 1s 9ms/step - loss: 2979452.2500 - mse: 2979072.2500 - val_loss: 3008652.0000 - val_mse: 3008272.7500\n",
      "Epoch 28/97\n",
      "94/94 [==============================] - 1s 9ms/step - loss: 2812765.7500 - mse: 2812385.0000 - val_loss: 2832954.2500 - val_mse: 2832574.0000\n",
      "Epoch 29/97\n",
      "94/94 [==============================] - 1s 9ms/step - loss: 2656771.0000 - mse: 2656390.2500 - val_loss: 2683215.5000 - val_mse: 2682834.0000\n",
      "Epoch 30/97\n",
      "94/94 [==============================] - 1s 9ms/step - loss: 2554427.5000 - mse: 2554045.2500 - val_loss: 2580699.7500 - val_mse: 2580318.2500\n",
      "Epoch 31/97\n",
      "94/94 [==============================] - 1s 10ms/step - loss: 2489664.7500 - mse: 2489282.7500 - val_loss: 2511577.2500 - val_mse: 2511194.2500\n",
      "Epoch 32/97\n",
      "94/94 [==============================] - 1s 10ms/step - loss: 2402042.2500 - mse: 2401659.2500 - val_loss: 2455318.2500 - val_mse: 2454935.0000\n",
      "Epoch 33/97\n",
      "94/94 [==============================] - 1s 10ms/step - loss: 2370787.0000 - mse: 2370403.7500 - val_loss: 2416901.0000 - val_mse: 2416517.0000\n",
      "Epoch 34/97\n",
      "94/94 [==============================] - 1s 9ms/step - loss: 2343275.7500 - mse: 2342891.7500 - val_loss: 2375541.7500 - val_mse: 2375157.7500\n",
      "Epoch 35/97\n",
      "94/94 [==============================] - 1s 9ms/step - loss: 2310255.7500 - mse: 2309871.2500 - val_loss: 2381292.2500 - val_mse: 2380908.0000\n",
      "Epoch 36/97\n",
      "94/94 [==============================] - 1s 9ms/step - loss: 2296186.5000 - mse: 2295802.2500 - val_loss: 2383168.2500 - val_mse: 2382783.5000\n",
      "Epoch 37/97\n",
      "94/94 [==============================] - 1s 10ms/step - loss: 2258447.7500 - mse: 2258062.5000 - val_loss: 2323909.2500 - val_mse: 2323524.0000\n",
      "Epoch 38/97\n",
      "94/94 [==============================] - 1s 10ms/step - loss: 2239108.2500 - mse: 2238722.7500 - val_loss: 2311914.5000 - val_mse: 2311528.5000\n",
      "Epoch 39/97\n",
      "94/94 [==============================] - 1s 10ms/step - loss: 2224180.0000 - mse: 2223794.2500 - val_loss: 2297347.0000 - val_mse: 2296960.7500\n",
      "Epoch 40/97\n",
      "94/94 [==============================] - 1s 10ms/step - loss: 2177703.0000 - mse: 2177317.2500 - val_loss: 2282411.7500 - val_mse: 2282025.5000\n",
      "Epoch 41/97\n",
      "94/94 [==============================] - 1s 10ms/step - loss: 2152327.0000 - mse: 2151940.5000 - val_loss: 2245590.2500 - val_mse: 2245203.7500\n",
      "Epoch 42/97\n",
      "94/94 [==============================] - 1s 10ms/step - loss: 2124454.5000 - mse: 2124067.5000 - val_loss: 2206600.2500 - val_mse: 2206213.2500\n",
      "Epoch 43/97\n",
      "94/94 [==============================] - 1s 9ms/step - loss: 2104725.0000 - mse: 2104337.0000 - val_loss: 2170638.2500 - val_mse: 2170251.0000\n",
      "Epoch 44/97\n",
      "94/94 [==============================] - 1s 9ms/step - loss: 2114862.2500 - mse: 2114474.2500 - val_loss: 2137279.0000 - val_mse: 2136891.0000\n",
      "Epoch 45/97\n",
      "94/94 [==============================] - 1s 9ms/step - loss: 2111556.7500 - mse: 2111168.2500 - val_loss: 2111772.2500 - val_mse: 2111383.7500\n",
      "Epoch 46/97\n",
      "94/94 [==============================] - 1s 10ms/step - loss: 2063391.0000 - mse: 2063002.5000 - val_loss: 2102438.2500 - val_mse: 2102049.5000\n",
      "Epoch 47/97\n",
      "94/94 [==============================] - 1s 9ms/step - loss: 2033777.1250 - mse: 2033387.3750 - val_loss: 2115077.5000 - val_mse: 2114688.5000\n",
      "Epoch 48/97\n",
      "94/94 [==============================] - 1s 9ms/step - loss: 2034076.1250 - mse: 2033686.5000 - val_loss: 2076563.2500 - val_mse: 2076173.5000\n",
      "Epoch 49/97\n",
      "94/94 [==============================] - 1s 9ms/step - loss: 1967369.2500 - mse: 1966979.3750 - val_loss: 2051798.8750 - val_mse: 2051408.6250\n",
      "Epoch 50/97\n",
      "94/94 [==============================] - 1s 10ms/step - loss: 1993869.2500 - mse: 1993478.6250 - val_loss: 2021986.7500 - val_mse: 2021596.0000\n",
      "Epoch 51/97\n",
      "94/94 [==============================] - 1s 10ms/step - loss: 1983339.5000 - mse: 1982949.2500 - val_loss: 1990802.5000 - val_mse: 1990411.5000\n",
      "Epoch 52/97\n",
      "94/94 [==============================] - 1s 10ms/step - loss: 1950070.7500 - mse: 1949678.8750 - val_loss: 1986663.0000 - val_mse: 1986271.6250\n",
      "Epoch 53/97\n",
      "94/94 [==============================] - 1s 10ms/step - loss: 1940057.6250 - mse: 1939664.8750 - val_loss: 1942700.1250 - val_mse: 1942308.2500\n"
     ]
    },
    {
     "name": "stdout",
     "output_type": "stream",
     "text": [
      "Epoch 54/97\n",
      "94/94 [==============================] - 1s 11ms/step - loss: 1912776.0000 - mse: 1912383.8750 - val_loss: 1936704.6250 - val_mse: 1936312.5000\n",
      "Epoch 55/97\n",
      "94/94 [==============================] - 1s 11ms/step - loss: 1935720.5000 - mse: 1935327.3750 - val_loss: 1927418.8750 - val_mse: 1927025.8750\n",
      "Epoch 56/97\n",
      "94/94 [==============================] - 1s 11ms/step - loss: 1880055.5000 - mse: 1879662.1250 - val_loss: 1872977.7500 - val_mse: 1872584.7500\n",
      "Epoch 57/97\n",
      "94/94 [==============================] - 1s 11ms/step - loss: 1900392.7500 - mse: 1899999.2500 - val_loss: 1889267.6250 - val_mse: 1888874.5000\n",
      "Epoch 58/97\n",
      "94/94 [==============================] - 1s 10ms/step - loss: 1868335.2500 - mse: 1867942.3750 - val_loss: 1882018.5000 - val_mse: 1881624.5000\n",
      "Epoch 59/97\n",
      "94/94 [==============================] - 1s 10ms/step - loss: 1875510.6250 - mse: 1875116.2500 - val_loss: 1882713.0000 - val_mse: 1882318.2500\n",
      "Epoch 60/97\n",
      "94/94 [==============================] - ETA: 0s - loss: 1828696.0000 - mse: 1828301.375 - 1s 10ms/step - loss: 1819977.5000 - mse: 1819582.7500 - val_loss: 1882711.2500 - val_mse: 1882316.6250\n",
      "Epoch 61/97\n",
      "94/94 [==============================] - 1s 10ms/step - loss: 1828945.3750 - mse: 1828549.7500 - val_loss: 1860472.5000 - val_mse: 1860077.2500\n",
      "Epoch 62/97\n",
      "94/94 [==============================] - 1s 9ms/step - loss: 1820157.2500 - mse: 1819761.5000 - val_loss: 1853219.3750 - val_mse: 1852823.8750\n",
      "Epoch 63/97\n",
      "94/94 [==============================] - 1s 9ms/step - loss: 1801366.8750 - mse: 1800971.6250 - val_loss: 1840974.8750 - val_mse: 1840579.0000\n",
      "Epoch 64/97\n",
      "94/94 [==============================] - 1s 10ms/step - loss: 1785496.7500 - mse: 1785101.0000 - val_loss: 1859524.8750 - val_mse: 1859128.7500\n",
      "Epoch 65/97\n",
      "94/94 [==============================] - 1s 10ms/step - loss: 1762538.0000 - mse: 1762141.7500 - val_loss: 1846313.6250 - val_mse: 1845916.7500\n",
      "Epoch 66/97\n",
      "94/94 [==============================] - 1s 11ms/step - loss: 1772166.8750 - mse: 1771769.5000 - val_loss: 1827090.5000 - val_mse: 1826693.3750\n",
      "Epoch 67/97\n",
      "94/94 [==============================] - 1s 10ms/step - loss: 1762137.1250 - mse: 1761740.5000 - val_loss: 1831915.1250 - val_mse: 1831517.6250\n",
      "Epoch 68/97\n",
      "94/94 [==============================] - 1s 10ms/step - loss: 1750408.2500 - mse: 1750009.6250 - val_loss: 1814649.8750 - val_mse: 1814251.7500\n",
      "Epoch 69/97\n",
      "94/94 [==============================] - 1s 10ms/step - loss: 1736296.1250 - mse: 1735897.6250 - val_loss: 1818912.2500 - val_mse: 1818514.1250\n",
      "Epoch 70/97\n",
      "94/94 [==============================] - 1s 10ms/step - loss: 1736016.8750 - mse: 1735618.7500 - val_loss: 1798276.8750 - val_mse: 1797878.3750\n",
      "Epoch 71/97\n",
      "94/94 [==============================] - 1s 9ms/step - loss: 1729889.6250 - mse: 1729490.7500 - val_loss: 1798046.8750 - val_mse: 1797648.2500\n",
      "Epoch 72/97\n",
      "94/94 [==============================] - 1s 10ms/step - loss: 1725020.8750 - mse: 1724621.6250 - val_loss: 1797384.7500 - val_mse: 1796985.3750\n",
      "Epoch 73/97\n",
      "94/94 [==============================] - 1s 10ms/step - loss: 1715617.6250 - mse: 1715218.3750 - val_loss: 1815897.1250 - val_mse: 1815497.3750\n",
      "Epoch 74/97\n",
      "94/94 [==============================] - 1s 9ms/step - loss: 1719628.5000 - mse: 1719228.7500 - val_loss: 1794427.7500 - val_mse: 1794027.7500\n",
      "Epoch 75/97\n",
      "94/94 [==============================] - 1s 9ms/step - loss: 1731912.7500 - mse: 1731512.6250 - val_loss: 1752885.6250 - val_mse: 1752485.3750\n",
      "Epoch 76/97\n",
      "94/94 [==============================] - 1s 10ms/step - loss: 1676487.5000 - mse: 1676086.5000 - val_loss: 1796857.1250 - val_mse: 1796456.5000\n",
      "Epoch 77/97\n",
      "94/94 [==============================] - 1s 9ms/step - loss: 1680692.6250 - mse: 1680291.6250 - val_loss: 1759777.1250 - val_mse: 1759376.1250\n",
      "Epoch 78/97\n",
      "94/94 [==============================] - 1s 9ms/step - loss: 1668686.8750 - mse: 1668286.2500 - val_loss: 1736716.3750 - val_mse: 1736315.0000\n",
      "Epoch 79/97\n",
      "94/94 [==============================] - 1s 10ms/step - loss: 1691157.3750 - mse: 1690756.2500 - val_loss: 1725974.8750 - val_mse: 1725573.3750\n",
      "Epoch 80/97\n",
      "94/94 [==============================] - 1s 10ms/step - loss: 1693119.3750 - mse: 1692716.8750 - val_loss: 1712108.6250 - val_mse: 1711706.5000\n",
      "Epoch 81/97\n",
      "94/94 [==============================] - 1s 10ms/step - loss: 1673193.0000 - mse: 1672791.0000 - val_loss: 1717940.0000 - val_mse: 1717537.8750\n",
      "Epoch 82/97\n",
      "94/94 [==============================] - 1s 9ms/step - loss: 1670746.0000 - mse: 1670343.3750 - val_loss: 1714127.3750 - val_mse: 1713724.6250\n",
      "Epoch 83/97\n",
      "94/94 [==============================] - 1s 10ms/step - loss: 1682421.2500 - mse: 1682019.0000 - val_loss: 1775957.7500 - val_mse: 1775554.5000\n",
      "Epoch 84/97\n",
      "94/94 [==============================] - 1s 11ms/step - loss: 1645324.5000 - mse: 1644921.5000 - val_loss: 1775577.1250 - val_mse: 1775173.7500\n",
      "Epoch 85/97\n",
      "94/94 [==============================] - 1s 9ms/step - loss: 1651527.3750 - mse: 1651124.0000 - val_loss: 1785732.0000 - val_mse: 1785328.3750\n",
      "Epoch 86/97\n",
      "94/94 [==============================] - 1s 10ms/step - loss: 1644539.3750 - mse: 1644134.8750 - val_loss: 1775907.2500 - val_mse: 1775503.2500\n",
      "Epoch 87/97\n",
      "94/94 [==============================] - 1s 10ms/step - loss: 1631131.6250 - mse: 1630727.5000 - val_loss: 1707876.0000 - val_mse: 1707471.6250\n",
      "Epoch 88/97\n",
      "94/94 [==============================] - 1s 10ms/step - loss: 1602319.8750 - mse: 1601915.0000 - val_loss: 1728542.6250 - val_mse: 1728138.0000\n",
      "Epoch 89/97\n",
      "94/94 [==============================] - 1s 10ms/step - loss: 1611347.7500 - mse: 1610943.1250 - val_loss: 1751492.8750 - val_mse: 1751087.8750\n",
      "Epoch 90/97\n",
      "94/94 [==============================] - 1s 9ms/step - loss: 1611105.5000 - mse: 1610701.0000 - val_loss: 1775227.1250 - val_mse: 1774821.7500\n",
      "Epoch 91/97\n",
      "94/94 [==============================] - 1s 10ms/step - loss: 1599957.3750 - mse: 1599551.3750 - val_loss: 1761026.3750 - val_mse: 1760620.8750\n",
      "Epoch 92/97\n",
      "94/94 [==============================] - 1s 9ms/step - loss: 1601658.3750 - mse: 1601253.5000 - val_loss: 1729916.7500 - val_mse: 1729511.1250\n",
      "Epoch 93/97\n",
      "94/94 [==============================] - 1s 10ms/step - loss: 1585646.6250 - mse: 1585240.7500 - val_loss: 1683174.1250 - val_mse: 1682768.0000\n",
      "Epoch 94/97\n",
      "94/94 [==============================] - 1s 10ms/step - loss: 1587999.8750 - mse: 1587593.7500 - val_loss: 1688478.1250 - val_mse: 1688071.6250\n",
      "Epoch 95/97\n",
      "94/94 [==============================] - 1s 10ms/step - loss: 1595802.5000 - mse: 1595396.3750 - val_loss: 1677220.2500 - val_mse: 1676813.6250\n",
      "Epoch 96/97\n",
      "94/94 [==============================] - 1s 9ms/step - loss: 1570406.2500 - mse: 1569999.8750 - val_loss: 1678161.2500 - val_mse: 1677754.5000\n",
      "Epoch 97/97\n",
      "94/94 [==============================] - 1s 10ms/step - loss: 1578335.6250 - mse: 1577928.7500 - val_loss: 1679438.8750 - val_mse: 1679031.5000\n"
     ]
    }
   ],
   "source": [
    "# seed\n",
    "tf.random.set_seed(1)\n",
    "np.random.seed(1)\n",
    "history = model.fit(x= X_train_all,\n",
    "                    y= Y_train_all,\n",
    "                    epochs= stop_epoch,\n",
    "                    batch_size= batch_size,\n",
    "                    validation_data=( X_test,Y_test),\n",
    "                    callbacks=callback_list)\n"
   ]
  },
  {
   "cell_type": "code",
   "execution_count": 25,
   "metadata": {},
   "outputs": [
    {
     "data": {
      "image/png": "[encoded data removed]",
      "text/plain": [
       "<Figure size 576x360 with 1 Axes>"
      ]
     },
     "metadata": {
      "needs_background": "light"
     },
     "output_type": "display_data"
    }
   ],
   "source": [
    "pd.DataFrame(history.history).plot(figsize=(8,5))\n",
    "plt.grid(True)\n",
    "plt.show()"
   ]
  },
  {
   "cell_type": "code",
   "execution_count": 26,
   "metadata": {},
   "outputs": [],
   "source": [
    "pred = model.predict(X_test)\n",
    "y_true = Y_test\n",
    "X_test_tf = tf.constant( X_test, dtype=tf.float32 )"
   ]
  },
  {
   "cell_type": "code",
   "execution_count": 27,
   "metadata": {},
   "outputs": [],
   "source": [
    "class MCDropout(keras.layers.Dropout):\n",
    "    def call(self, inputs):\n",
    "        return super().call(inputs, training=True)\n",
    "\n",
    "class MCAlphaDropout(keras.layers.AlphaDropout):\n",
    "    def call(self, inputs):\n",
    "        return super().call(inputs, training=True)\n",
    "\n",
    "mc_model = keras.models.Sequential([\n",
    "    MCDropout(dp_rate) if isinstance(layer, keras.layers.Dropout) else layer\n",
    "    for layer in model.layers\n",
    "])\n",
    "\n",
    "mc_model.compile(optimizer = keras.optimizers.Nadam(learning_rate=lr), loss = 'mean_squared_error', metrics = ['mse'] )\n",
    "mc_model.set_weights(model.get_weights())\n"
   ]
  },
  {
   "cell_type": "code",
   "execution_count": 28,
   "metadata": {},
   "outputs": [
    {
     "name": "stdout",
     "output_type": "stream",
     "text": [
      "done\n"
     ]
    }
   ],
   "source": [
    "T= 1000\n",
    "y_probas = np.stack([mc_model.predict(X_test_tf, batch_size= batch_size)\n",
    "                     for sample in range(T)])\n",
    "print('done')"
   ]
  },
  {
   "cell_type": "code",
   "execution_count": 29,
   "metadata": {},
   "outputs": [],
   "source": [
    "y_hat_MC = y_probas.reshape(y_probas.shape[:-1])\n",
    "y_hat = y_hat_MC.mean(axis=0)\n",
    "sig_hat = y_hat_MC.std(axis=0)\n",
    "y_true = Y_test\n",
    "y_MC_mixture = np.concatenate([np.random.normal(loc=samplei,scale=sig,size=(10,len(samplei))) for samplei in y_hat_MC] , axis=0)"
   ]
  },
  {
   "cell_type": "code",
   "execution_count": 30,
   "metadata": {},
   "outputs": [],
   "source": [
    "alpha= 0.05\n",
    "L_hat = np.quantile(y_MC_mixture,alpha/2,axis=0)\n",
    "U_hat = np.quantile(y_MC_mixture,(1-alpha/2),axis=0)\n",
    "\n",
    "left = L_hat\n",
    "right = U_hat\n",
    "py_all = np.stack([norm.pdf(y_true, loc=samplei, scale=sig) for samplei in y_hat_MC])\n",
    "p_y = py_all.mean(axis=0)\n",
    "sig_hat2 = y_MC_mixture.std(axis=0)"
   ]
  },
  {
   "cell_type": "markdown",
   "metadata": {},
   "source": [
    "# Save\n"
   ]
  },
  {
   "cell_type": "code",
   "execution_count": 31,
   "metadata": {},
   "outputs": [],
   "source": [
    "WU2 = feather.read_dataframe('Data/WU_lag.feather')\n",
    "\n",
    "all_test_MF= pd.DataFrame({\n",
    "    'Index': WU2[WU2.loc[:,'Set']=='test'].loc[:,'Index'].values,\n",
    "    'Y': y_true,\n",
    "    'y_hat': y_hat,\n",
    "    'L': left,\n",
    "    'U': right,\n",
    "    'sig_hat': sig_hat2,\n",
    "    'p_y':p_y\n",
    "})\n",
    "\n",
    "\n",
    "path = 'Out_test_MF\\\\month1\\\\MLP_MC_1m_dist.feather'\n",
    "feather.write_dataframe(all_test_MF , path)\n",
    "\n",
    "path = 'Out_test_MF\\\\month1\\\\MLP_MC.npy'\n",
    "np.save(path, y_MC_mixture)"
   ]
  },
  {
   "cell_type": "markdown",
   "metadata": {},
   "source": [
    "# report"
   ]
  },
  {
   "cell_type": "code",
   "execution_count": 32,
   "metadata": {},
   "outputs": [
    {
     "name": "stdout",
     "output_type": "stream",
     "text": [
      " & 1269.11 & 8.54 & 6958.25 & 4782.61 & 0.93 & 95\\% \\\\\n"
     ]
    }
   ],
   "source": [
    "r1,r2,r3,r4,r5 = get_RMSE_NLL_NOIS_AWPI_ECPI(y_true,y_hat,left,right,alpha=0.05)"
   ]
  },
  {
   "cell_type": "code",
   "execution_count": 33,
   "metadata": {},
   "outputs": [],
   "source": [
    "# results\n",
    "with open(\"Results/Results_1m.txt\", \"a\") as myfile:\n",
    "    myfile.write(\"MLP_MC \\n\")\n",
    "    myfile.write('RMSE %f & NLL %f & NOIS %f & AWPI %f & ECPI %f \\n' % (\n",
    "        r1,-np.log(p_y).mean(),r3,r4,r5 ))"
   ]
  }
 ],
 "metadata": {
  "kernelspec": {
   "display_name": "Python 3",
   "language": "python",
   "name": "python3"
  },
  "language_info": {
   "codemirror_mode": {
    "name": "ipython",
    "version": 3
   },
   "file_extension": ".py",
   "mimetype": "text/x-python",
   "name": "python",
   "nbconvert_exporter": "python",
   "pygments_lexer": "ipython3",
   "version": "3.8.5"
  }
 },
 "nbformat": 4,
 "nbformat_minor": 2
}
