{
 "cells": [
  {
   "cell_type": "code",
   "execution_count": 1,
   "metadata": {},
   "outputs": [
    {
     "name": "stdout",
     "output_type": "stream",
     "text": [
      "TensorFlow Version: 2.3.0\n",
      "WARNING:tensorflow:From <ipython-input-1-4e3e6bb35d50>:11: is_gpu_available (from tensorflow.python.framework.test_util) is deprecated and will be removed in a future version.\n",
      "Instructions for updating:\n",
      "Use `tf.config.list_physical_devices('GPU')` instead.\n"
     ]
    },
    {
     "data": {
      "text/plain": [
       "'2.4.0'"
      ]
     },
     "execution_count": 1,
     "metadata": {},
     "output_type": "execute_result"
    }
   ],
   "source": [
    "from distutils.version import LooseVersion\n",
    "import warnings\n",
    "import tensorflow as tf\n",
    "\n",
    "\n",
    "# Check TensorFlow Version\n",
    "assert LooseVersion(tf.__version__) >= LooseVersion('1.0'), 'Please use TensorFlow version 1.0 or newer.  You are using {}'.format(tf.__version__)\n",
    "print('TensorFlow Version: {}'.format(tf.__version__))\n",
    "\n",
    "\n",
    "if not tf.test.is_gpu_available():\n",
    "    print(\"No GPU was detected. LSTMs and CNNs can be very slow without a GPU.\")\n",
    "    if IS_COLAB:\n",
    "        print(\"Go to Runtime > Change runtime and select a GPU hardware accelerator.\")\n",
    "\n",
    "tf.__version__\n",
    "tf.keras.__version__"
   ]
  },
  {
   "cell_type": "code",
   "execution_count": 38,
   "metadata": {},
   "outputs": [],
   "source": [
    "# library\n",
    "import pandas as pd\n",
    "import os \n",
    "import feather\n",
    "import numpy as np\n",
    "import matplotlib.pyplot as plt\n",
    "import re\n",
    "from scipy.stats import norm\n",
    "from scipy.special import logsumexp\n",
    "from sklearn import preprocessing\n",
    "from sklearn.metrics import mean_squared_error\n",
    "from tensorflow.keras import Sequential\n",
    "from tensorflow.keras.layers import GRU\n",
    "from tensorflow.keras.layers import Dense\n",
    "from tensorflow.keras.layers import Dropout\n",
    "from tensorflow.keras.layers import TimeDistributed\n",
    "from tensorflow.keras.layers import Flatten \n",
    "from tensorflow.keras.layers import BatchNormalization\n",
    "from tensorflow.keras.optimizers import Adam\n",
    "from tensorflow.keras import regularizers\n",
    "from tensorflow.keras import backend as K \n",
    "from tensorflow.keras import callbacks\n",
    "from tensorflow.keras import utils\n",
    "from tensorflow import keras\n",
    "from utils import *"
   ]
  },
  {
   "cell_type": "code",
   "execution_count": 3,
   "metadata": {},
   "outputs": [],
   "source": [
    "# read in \n",
    "WU = feather.read_dataframe('Data/WU.feather')\n",
    "\n",
    "#pp\n",
    "WU = WU.drop(columns=['Index','year','ParcelID','Days','year','month'])\n",
    "\n",
    "p_scalar = preprocessing.StandardScaler()\n",
    "predictors = ['TotalWaterUse','ET_turf_month_mean']\n",
    "p_scalar.fit(WU.loc[:,predictors])\n",
    "WU.loc[:,predictors] = p_scalar.transform(WU.loc[:,predictors])\n",
    "\n",
    "nlag = 7\n",
    "WU_lag = add_group_lags(data=WU, group='E_Label_ParcelID', timeindex='monthIndex',\n",
    "                        features = ['TotalWaterUse','ET_turf_month_mean'], other = ['Set'], nlag=nlag,fillna=None)\n",
    "\n",
    "WU_lag_dropna = WU_lag.dropna()"
   ]
  },
  {
   "cell_type": "markdown",
   "metadata": {},
   "source": [
    "# Tensor generating"
   ]
  },
  {
   "cell_type": "code",
   "execution_count": 4,
   "metadata": {},
   "outputs": [],
   "source": [
    "# must take in add_group_lag object\n",
    "# target not used for forecasting!!! instead, shift your X!!!\n",
    "def lstmtensor(data,feature_patters,target, sets): \n",
    "    #generate whole tensor: out\n",
    "    for i,p in enumerate(feature_patters):\n",
    "    \n",
    "        X = data.filter(like=p,axis=1).values\n",
    "        xshape = X.shape\n",
    "        Xre = X.reshape(xshape[0],xshape[1],1)\n",
    "    \n",
    "        if(i == 0):\n",
    "            out = Xre\n",
    "        else:\n",
    "            out = np.concatenate([out,Xre],axis=2)\n",
    "    \n",
    "    # whole target: y (can be a 2D tensor or 1D vector)\n",
    "    y = data.loc[:,target].values\n",
    "    \n",
    "    # split tensor into dict: outdict, outydict\n",
    "    setnames = data.loc[:,sets].unique()\n",
    "    outdict = {}\n",
    "    outydict = {}\n",
    "    for s in setnames:\n",
    "        Xs = out[(data.loc[:,sets] == s),:,:][:,::-1,:]\n",
    "        ys = y[(data.loc[:,sets] == s)]\n",
    "        #print(Xs.shape)\n",
    "        Xdict = {s: Xs}\n",
    "        outdict.update(Xdict)\n",
    "        ydict = {s:ys}\n",
    "        outydict.update(ydict)\n",
    "    \n",
    "    return outdict, outydict\n",
    "\n",
    "            \n",
    "    "
   ]
  },
  {
   "cell_type": "code",
   "execution_count": 5,
   "metadata": {},
   "outputs": [],
   "source": [
    "predictors = ['TotalWaterUse','ET_turf_month_mean']\n",
    "Xdict, ydict = lstmtensor(data=WU_lag_dropna,\n",
    "                          feature_patters= predictors,\n",
    "                          target='TotalWaterUse',\n",
    "                          sets='Set')"
   ]
  },
  {
   "cell_type": "code",
   "execution_count": 6,
   "metadata": {},
   "outputs": [],
   "source": [
    "# find batch size \n",
    "# can skip this chunck and directly define a batch size\n",
    "bs_remain_list = []\n",
    "bs_list=[]\n",
    "for bs in np.arange(16, 500):\n",
    "    r_train = Xdict['train'].shape[0]%bs\n",
    "    r_dev = Xdict['dev'].shape[0]%bs\n",
    "    bs_remain_list.append(r_train+r_dev)\n",
    "    bs_list.append(bs)\n",
    "    \n",
    "batch_size = pd.Series(bs_remain_list,index=bs_list).idxmin() \n",
    "\n",
    "batch_size=32\n",
    "r_train = Xdict['train'].shape[0]%batch_size\n",
    "r_dev = Xdict['dev'].shape[0]%batch_size\n",
    "r_test = Xdict['test'].shape[0]%batch_size\n",
    "\n",
    "s=Xdict['train'].shape[0]//batch_size"
   ]
  },
  {
   "cell_type": "code",
   "execution_count": 7,
   "metadata": {},
   "outputs": [],
   "source": [
    "target_axis = 0"
   ]
  },
  {
   "cell_type": "code",
   "execution_count": 8,
   "metadata": {},
   "outputs": [],
   "source": [
    "def buildmodel(n_hidden = 1, dense_dp = 0, recurrent_dp= 0 ,l2=0.001, training = None):\n",
    "    \n",
    "    Input_ = keras.layers.Input(shape = Xdict['train'][r_train:,:-1,:].shape[1:])\n",
    "    \n",
    "    Z = Input_\n",
    "    for _ in range(n_hidden):\n",
    "        Z = GRU(32, input_shape = (nlag,len(predictors)),\n",
    "                  recurrent_dropout = recurrent_dp,\n",
    "                  dropout = dense_dp,\n",
    "                  kernel_regularizer=keras.regularizers.l2(l2),\n",
    "                  return_sequences = True)(Z,training = training)\n",
    "\n",
    "    Z = TimeDistributed(Dense(32, kernel_regularizer=keras.regularizers.l2(l2),\n",
    "                              activation = 'elu',kernel_initializer='he_normal'))(Z)\n",
    "    Z = Dropout(rate=dense_dp)(Z,training = training)\n",
    "    Z = TimeDistributed(Dense(32, kernel_regularizer=keras.regularizers.l2(l2),\n",
    "                              activation = 'elu',kernel_initializer='he_normal'))(Z)\n",
    "    Z = Dropout(rate=dense_dp)(Z,training = training)\n",
    "    Output_ = Dense(1)(Z)\n",
    "    \n",
    "    model = keras.Model(inputs=[Input_],outputs=[Output_])\n",
    "    return model"
   ]
  },
  {
   "cell_type": "markdown",
   "metadata": {},
   "source": [
    "del model\n",
    "tf.keras.backend.clear_session()"
   ]
  },
  {
   "cell_type": "code",
   "execution_count": 9,
   "metadata": {},
   "outputs": [],
   "source": [
    "n_hidden = 1\n",
    "dp_rate=0.1\n",
    "r_dp = 0\n",
    "l2=0.00001\n",
    "lr=1e-5"
   ]
  },
  {
   "cell_type": "code",
   "execution_count": 10,
   "metadata": {},
   "outputs": [],
   "source": [
    "# seq API\n",
    "model = buildmodel(n_hidden = n_hidden, dense_dp = dp_rate, recurrent_dp=r_dp,l2=l2)"
   ]
  },
  {
   "cell_type": "code",
   "execution_count": 11,
   "metadata": {},
   "outputs": [
    {
     "name": "stdout",
     "output_type": "stream",
     "text": [
      "Model: \"functional_1\"\n",
      "_________________________________________________________________\n",
      "Layer (type)                 Output Shape              Param #   \n",
      "=================================================================\n",
      "input_1 (InputLayer)         [(None, 7, 2)]            0         \n",
      "_________________________________________________________________\n",
      "gru (GRU)                    (None, 7, 32)             3456      \n",
      "_________________________________________________________________\n",
      "time_distributed (TimeDistri (None, 7, 32)             1056      \n",
      "_________________________________________________________________\n",
      "dropout (Dropout)            (None, 7, 32)             0         \n",
      "_________________________________________________________________\n",
      "time_distributed_1 (TimeDist (None, 7, 32)             1056      \n",
      "_________________________________________________________________\n",
      "dropout_1 (Dropout)          (None, 7, 32)             0         \n",
      "_________________________________________________________________\n",
      "dense_2 (Dense)              (None, 7, 1)              33        \n",
      "=================================================================\n",
      "Total params: 5,601\n",
      "Trainable params: 5,601\n",
      "Non-trainable params: 0\n",
      "_________________________________________________________________\n"
     ]
    }
   ],
   "source": [
    "@tf.function\n",
    "def last_time_step_mse(Y_true, Y_pred):\n",
    "    return keras.metrics.mean_squared_error(Y_true[:,-1,0], Y_pred[:,-1,0])\n",
    "\n",
    "model.compile(optimizer = Adam(learning_rate=lr), loss = 'mean_squared_error',metrics = [last_time_step_mse] )\n",
    "model.summary()"
   ]
  },
  {
   "cell_type": "code",
   "execution_count": 12,
   "metadata": {},
   "outputs": [],
   "source": [
    "callback_list =[\n",
    "    callbacks.EarlyStopping(\n",
    "        monitor = 'val_last_time_step_mse',\n",
    "        restore_best_weights=True,\n",
    "        patience= 5\n",
    "    ),\n",
    "    callbacks.ModelCheckpoint(\n",
    "        filepath='LSTM_log/lstm_dev_1m.h5',\n",
    "        save_best_only= True,\n",
    "        monitor='val_last_time_step_mse'\n",
    "    ),\n",
    "    #callbacks.ReduceLROnPlateau(factor=0.5,patience=5), # eta performance scheduling\n",
    "#     callbacks.TensorBoard(log_dir='LSTM_log',histogram_freq=1)\n",
    "]"
   ]
  },
  {
   "cell_type": "code",
   "execution_count": 13,
   "metadata": {},
   "outputs": [
    {
     "name": "stdout",
     "output_type": "stream",
     "text": [
      "Epoch 1/100\n",
      "331/331 [==============================] - 2s 7ms/step - loss: 0.6443 - last_time_step_mse: 0.6380 - val_loss: 0.4838 - val_last_time_step_mse: 0.4567\n",
      "Epoch 2/100\n",
      "331/331 [==============================] - 1s 4ms/step - loss: 0.4404 - last_time_step_mse: 0.4114 - val_loss: 0.3307 - val_last_time_step_mse: 0.2907\n",
      "Epoch 3/100\n",
      "331/331 [==============================] - 1s 4ms/step - loss: 0.3311 - last_time_step_mse: 0.2891 - val_loss: 0.2496 - val_last_time_step_mse: 0.2136\n",
      "Epoch 4/100\n",
      "331/331 [==============================] - 1s 4ms/step - loss: 0.2790 - last_time_step_mse: 0.2476 - val_loss: 0.2136 - val_last_time_step_mse: 0.1878\n",
      "Epoch 5/100\n",
      "331/331 [==============================] - 1s 4ms/step - loss: 0.2613 - last_time_step_mse: 0.2420 - val_loss: 0.1994 - val_last_time_step_mse: 0.1819\n",
      "Epoch 6/100\n",
      "331/331 [==============================] - 1s 4ms/step - loss: 0.2555 - last_time_step_mse: 0.2361 - val_loss: 0.1929 - val_last_time_step_mse: 0.1796\n",
      "Epoch 7/100\n",
      "331/331 [==============================] - 1s 4ms/step - loss: 0.2505 - last_time_step_mse: 0.2381 - val_loss: 0.1881 - val_last_time_step_mse: 0.1767\n",
      "Epoch 8/100\n",
      "331/331 [==============================] - 1s 4ms/step - loss: 0.2456 - last_time_step_mse: 0.2303 - val_loss: 0.1842 - val_last_time_step_mse: 0.1731\n",
      "Epoch 9/100\n",
      "331/331 [==============================] - 1s 4ms/step - loss: 0.2430 - last_time_step_mse: 0.2302 - val_loss: 0.1805 - val_last_time_step_mse: 0.1698\n",
      "Epoch 10/100\n",
      "331/331 [==============================] - 1s 4ms/step - loss: 0.2412 - last_time_step_mse: 0.2302 - val_loss: 0.1770 - val_last_time_step_mse: 0.1669\n",
      "Epoch 11/100\n",
      "331/331 [==============================] - 1s 4ms/step - loss: 0.2376 - last_time_step_mse: 0.2280 - val_loss: 0.1738 - val_last_time_step_mse: 0.1639\n",
      "Epoch 12/100\n",
      "331/331 [==============================] - 1s 4ms/step - loss: 0.2378 - last_time_step_mse: 0.2227 - val_loss: 0.1709 - val_last_time_step_mse: 0.1619\n",
      "Epoch 13/100\n",
      "331/331 [==============================] - 1s 4ms/step - loss: 0.2327 - last_time_step_mse: 0.2202 - val_loss: 0.1681 - val_last_time_step_mse: 0.1599\n",
      "Epoch 14/100\n",
      "331/331 [==============================] - 1s 4ms/step - loss: 0.2299 - last_time_step_mse: 0.2203 - val_loss: 0.1660 - val_last_time_step_mse: 0.1582\n",
      "Epoch 15/100\n",
      "331/331 [==============================] - 1s 4ms/step - loss: 0.2292 - last_time_step_mse: 0.2175 - val_loss: 0.1642 - val_last_time_step_mse: 0.1569\n",
      "Epoch 16/100\n",
      "331/331 [==============================] - 1s 4ms/step - loss: 0.2314 - last_time_step_mse: 0.2211 - val_loss: 0.1628 - val_last_time_step_mse: 0.1558\n",
      "Epoch 17/100\n",
      "331/331 [==============================] - 1s 4ms/step - loss: 0.2259 - last_time_step_mse: 0.2215 - val_loss: 0.1615 - val_last_time_step_mse: 0.1549\n",
      "Epoch 18/100\n",
      "331/331 [==============================] - 1s 4ms/step - loss: 0.2277 - last_time_step_mse: 0.2219 - val_loss: 0.1607 - val_last_time_step_mse: 0.1545\n",
      "Epoch 19/100\n",
      "331/331 [==============================] - 1s 4ms/step - loss: 0.2273 - last_time_step_mse: 0.2188 - val_loss: 0.1599 - val_last_time_step_mse: 0.1539\n",
      "Epoch 20/100\n",
      "331/331 [==============================] - 1s 4ms/step - loss: 0.2237 - last_time_step_mse: 0.2197 - val_loss: 0.1590 - val_last_time_step_mse: 0.1533\n",
      "Epoch 21/100\n",
      "331/331 [==============================] - 1s 4ms/step - loss: 0.2257 - last_time_step_mse: 0.2215 - val_loss: 0.1586 - val_last_time_step_mse: 0.1531\n",
      "Epoch 22/100\n",
      "331/331 [==============================] - 1s 4ms/step - loss: 0.2280 - last_time_step_mse: 0.2203 - val_loss: 0.1579 - val_last_time_step_mse: 0.1525\n",
      "Epoch 23/100\n",
      "331/331 [==============================] - 1s 4ms/step - loss: 0.2219 - last_time_step_mse: 0.2126 - val_loss: 0.1578 - val_last_time_step_mse: 0.1524\n",
      "Epoch 24/100\n",
      "331/331 [==============================] - 1s 4ms/step - loss: 0.2242 - last_time_step_mse: 0.2088 - val_loss: 0.1573 - val_last_time_step_mse: 0.1523\n",
      "Epoch 25/100\n",
      "331/331 [==============================] - 1s 4ms/step - loss: 0.2224 - last_time_step_mse: 0.2169 - val_loss: 0.1571 - val_last_time_step_mse: 0.1521\n",
      "Epoch 26/100\n",
      "331/331 [==============================] - 1s 4ms/step - loss: 0.2206 - last_time_step_mse: 0.2142 - val_loss: 0.1569 - val_last_time_step_mse: 0.1519\n",
      "Epoch 27/100\n",
      "331/331 [==============================] - 1s 4ms/step - loss: 0.2213 - last_time_step_mse: 0.2183 - val_loss: 0.1566 - val_last_time_step_mse: 0.1518\n",
      "Epoch 28/100\n",
      "331/331 [==============================] - 1s 4ms/step - loss: 0.2215 - last_time_step_mse: 0.2107 - val_loss: 0.1564 - val_last_time_step_mse: 0.1517\n",
      "Epoch 29/100\n",
      "331/331 [==============================] - 1s 4ms/step - loss: 0.2205 - last_time_step_mse: 0.2101 - val_loss: 0.1560 - val_last_time_step_mse: 0.1514\n",
      "Epoch 30/100\n",
      "331/331 [==============================] - 1s 4ms/step - loss: 0.2189 - last_time_step_mse: 0.2136 - val_loss: 0.1559 - val_last_time_step_mse: 0.1514\n",
      "Epoch 31/100\n",
      "331/331 [==============================] - 1s 4ms/step - loss: 0.2231 - last_time_step_mse: 0.2137 - val_loss: 0.1561 - val_last_time_step_mse: 0.1515\n",
      "Epoch 32/100\n",
      "331/331 [==============================] - 1s 4ms/step - loss: 0.2191 - last_time_step_mse: 0.2090 - val_loss: 0.1561 - val_last_time_step_mse: 0.1515\n",
      "Epoch 33/100\n",
      "331/331 [==============================] - 1s 4ms/step - loss: 0.2186 - last_time_step_mse: 0.2073 - val_loss: 0.1556 - val_last_time_step_mse: 0.1513\n",
      "Epoch 34/100\n",
      "331/331 [==============================] - 1s 4ms/step - loss: 0.2212 - last_time_step_mse: 0.2157 - val_loss: 0.1555 - val_last_time_step_mse: 0.1511\n",
      "Epoch 35/100\n",
      "331/331 [==============================] - 1s 4ms/step - loss: 0.2174 - last_time_step_mse: 0.2100 - val_loss: 0.1553 - val_last_time_step_mse: 0.1510\n",
      "Epoch 36/100\n",
      "331/331 [==============================] - 1s 4ms/step - loss: 0.2174 - last_time_step_mse: 0.2101 - val_loss: 0.1556 - val_last_time_step_mse: 0.1512\n",
      "Epoch 37/100\n",
      "331/331 [==============================] - 1s 4ms/step - loss: 0.2168 - last_time_step_mse: 0.2135 - val_loss: 0.1555 - val_last_time_step_mse: 0.1512\n",
      "Epoch 38/100\n",
      "331/331 [==============================] - 1s 4ms/step - loss: 0.2203 - last_time_step_mse: 0.2139 - val_loss: 0.1556 - val_last_time_step_mse: 0.1514\n",
      "Epoch 39/100\n",
      "331/331 [==============================] - 1s 4ms/step - loss: 0.2175 - last_time_step_mse: 0.2088 - val_loss: 0.1553 - val_last_time_step_mse: 0.1512\n",
      "Epoch 40/100\n",
      "331/331 [==============================] - 1s 4ms/step - loss: 0.2186 - last_time_step_mse: 0.2135 - val_loss: 0.1553 - val_last_time_step_mse: 0.1513\n"
     ]
    }
   ],
   "source": [
    "# seed\n",
    "tf.random.set_seed(1)\n",
    "np.random.seed(1)\n",
    "\n",
    "history = model.fit(x= Xdict['train'][r_train:,:-1,:],\n",
    "                    y= Xdict['train'][r_train:,1:,target_axis].reshape(-1,nlag,1), # shift one time point\n",
    "                    epochs= 100,\n",
    "                    batch_size= batch_size,\n",
    "                    validation_data=( Xdict['dev'][r_dev:,:-1,:],Xdict['dev'][r_dev:,1:,target_axis].reshape(-1,nlag,1)),\n",
    "                    callbacks=callback_list)"
   ]
  },
  {
   "cell_type": "code",
   "execution_count": 14,
   "metadata": {},
   "outputs": [
    {
     "data": {
      "image/png": "[encoded data removed]",
      "text/plain": [
       "<Figure size 576x360 with 1 Axes>"
      ]
     },
     "metadata": {
      "needs_background": "light"
     },
     "output_type": "display_data"
    }
   ],
   "source": [
    "pd.DataFrame(history.history).plot(figsize=(8,5))\n",
    "plt.grid(True)\n",
    "\n",
    "plt.show()"
   ]
  },
  {
   "cell_type": "code",
   "execution_count": 15,
   "metadata": {},
   "outputs": [],
   "source": [
    "pred = model.predict(Xdict['dev'][:,:-1,:],batch_size=batch_size)[:,nlag-1,0]\n",
    "\n",
    "ymean = p_scalar.mean_[target_axis]\n",
    "yvar = p_scalar.var_[target_axis]\n",
    "pred_inv_trans = pred*np.sqrt(yvar)+ymean\n",
    "y_true = ydict['dev']*np.sqrt(yvar)+ymean"
   ]
  },
  {
   "cell_type": "code",
   "execution_count": 16,
   "metadata": {},
   "outputs": [],
   "source": [
    "stop_epoch = pd.Series(history.history['val_last_time_step_mse'],index = history.epoch).idxmin()"
   ]
  },
  {
   "cell_type": "markdown",
   "metadata": {},
   "source": [
    "# Tune tau"
   ]
  },
  {
   "cell_type": "code",
   "execution_count": 18,
   "metadata": {},
   "outputs": [],
   "source": [
    "@tf.function\n",
    "def last_time_step_mse(Y_true, Y_pred):\n",
    "    return keras.metrics.mean_squared_error(Y_true[:,-1,0], Y_pred[:,-1,0])"
   ]
  },
  {
   "cell_type": "code",
   "execution_count": 19,
   "metadata": {},
   "outputs": [],
   "source": [
    "mc_model =  buildmodel(n_hidden = n_hidden, dense_dp = dp_rate, recurrent_dp=r_dp,l2=l2,training=True)\n",
    "mc_model.set_weights(model.get_weights())\n"
   ]
  },
  {
   "cell_type": "code",
   "execution_count": 20,
   "metadata": {},
   "outputs": [
    {
     "name": "stdout",
     "output_type": "stream",
     "text": [
      "done\n"
     ]
    }
   ],
   "source": [
    "T= 1000\n",
    "tf.random.set_seed(1)\n",
    "np.random.seed(1)\n",
    "X_test_tf = tf.constant( Xdict['dev'][:,:-1,:], dtype=tf.float32 )\n",
    "\n",
    "\n",
    "y_probas = np.stack([mc_model.predict(X_test_tf, batch_size=batch_size*100)[:,-1,0]\n",
    "                     for sample in range(T)])\n",
    "print('done')\n",
    "\n",
    "\n"
   ]
  },
  {
   "cell_type": "code",
   "execution_count": 22,
   "metadata": {},
   "outputs": [],
   "source": [
    "ymean = p_scalar.mean_[target_axis]\n",
    "yvar = p_scalar.var_[target_axis]\n",
    "y_hat_MC = y_probas * np.sqrt(yvar)+ymean\n",
    "y_hat = y_hat_MC.mean(axis=0)\n",
    "y_true = ydict['dev']*np.sqrt(yvar)+ymean"
   ]
  },
  {
   "cell_type": "code",
   "execution_count": 25,
   "metadata": {},
   "outputs": [],
   "source": [
    "grid_ll = []\n",
    "taul, tl = [], []\n",
    "for t in range(100):\n",
    "    tau = 2**(-t)\n",
    "    ll = (logsumexp(-0.5 * tau * (y_true - y_hat_MC)**2., 0) - np.log(T) - 0.5*np.log(2*np.pi) + 0.5*np.log(tau))\n",
    "    test_ll = np.mean(ll)\n",
    "    taul.append(tau)\n",
    "    grid_ll.append(test_ll)\n",
    "    tl.append(t)\n",
    "    \n",
    "best_t = tl[grid_ll.index(max(grid_ll))]\n",
    "best_tau = taul[grid_ll.index(max(grid_ll))]\n",
    "best_tau, best_t, max(grid_ll)\n",
    "\n",
    "G = 100\n",
    "gg = (taul[grid_ll.index(max(grid_ll))-1] - taul[grid_ll.index(max(grid_ll))+1])/G\n",
    "\n",
    "grid_ll = []\n",
    "taul, tl = [], []\n",
    "for t in range(G):\n",
    "    tau = 2**(-best_t-1) +  gg*t\n",
    "    ll = (logsumexp(-0.5 * tau * (y_true - y_hat_MC)**2., 0) - np.log(T) - 0.5*np.log(2*np.pi) + 0.5*np.log(tau))\n",
    "    test_ll = np.mean(ll)\n",
    "    taul.append(tau)\n",
    "    grid_ll.append(test_ll)\n",
    "    tl.append(t)\n",
    "    \n",
    "rmse = round(np.sqrt(mean_squared_error(y_true,y_hat)),4) \n",
    "\n",
    "best_t = tl[grid_ll.index(max(grid_ll))]\n",
    "best_tau = taul[grid_ll.index(max(grid_ll))]\n",
    "sig = np.sqrt(1/best_tau)\n",
    "print('final tune value: tau:{} t:{} LL:{} RMSE:{}'.format(best_tau, best_t, max(grid_ll),rmse ))"
   ]
  },
  {
   "cell_type": "code",
   "execution_count": 30,
   "metadata": {},
   "outputs": [],
   "source": [
    "# hyper-par: tau\n",
    "np.random.seed(1)\n",
    "y_MC_mixture = np.concatenate([np.random.normal(loc=samplei,scale=sig,size=(10,len(samplei))) for samplei in y_hat_MC] , axis=0)"
   ]
  },
  {
   "cell_type": "code",
   "execution_count": 33,
   "metadata": {},
   "outputs": [],
   "source": [
    "alpha= 0.05\n",
    "L_hat = np.quantile(y_MC_mixture,alpha/2,axis=0)\n",
    "U_hat = np.quantile(y_MC_mixture,(1-alpha/2),axis=0)\n",
    "left = L_hat\n",
    "right = U_hat\n",
    "py_all = np.stack([norm.pdf(y_true, loc=samplei, scale=sig) for samplei in y_hat_MC])\n",
    "p_y = py_all.mean(axis=0)\n",
    "sig_hat2 = y_MC_mixture.std(axis=0)"
   ]
  },
  {
   "cell_type": "markdown",
   "metadata": {},
   "source": [
    "# save to dev MF"
   ]
  },
  {
   "cell_type": "code",
   "execution_count": 34,
   "metadata": {},
   "outputs": [],
   "source": [
    "WU2 = feather.read_dataframe('Data/WU.feather')\n",
    "WU2[WU2.loc[:,'Set']=='dev'].loc[:,'Index'].values\n",
    "\n",
    "\n",
    "all_dev_MF = pd.DataFrame({\n",
    "    'Index': WU2[WU2.loc[:,'Set']=='dev'].loc[:,'Index'].values,\n",
    "    'Y': y_true,\n",
    "    'y_hat': y_hat,\n",
    "    'L': left,\n",
    "    'U': right,\n",
    "    'sig_hat': sig_hat2,\n",
    "    'p_y':p_y\n",
    "})\n",
    "\n",
    "path = 'Out_dev_MF\\\\month1\\\\LSTM_MC_dev_1m_dist.feather'\n",
    "feather.write_dataframe(all_dev_MF , path)\n",
    "\n",
    "# write sample for ECPI\n",
    "path = 'Out_dev_MF\\\\month1\\\\LSTM_MC.npy'\n",
    "np.save(path, y_MC_mixture)\n"
   ]
  },
  {
   "cell_type": "code",
   "execution_count": 35,
   "metadata": {},
   "outputs": [],
   "source": [
    "\n",
    "del model\n",
    "tf.keras.backend.clear_session()"
   ]
  },
  {
   "cell_type": "markdown",
   "metadata": {},
   "source": [
    "# Test"
   ]
  },
  {
   "cell_type": "code",
   "execution_count": 36,
   "metadata": {},
   "outputs": [],
   "source": [
    "model = buildmodel(n_hidden = n_hidden, dense_dp = dp_rate, recurrent_dp=r_dp,l2=l2)\n",
    "\n",
    "model.compile(optimizer = Adam(learning_rate=lr), loss = 'mean_squared_error',metrics = [last_time_step_mse] )\n",
    "model.summary()\n"
   ]
  },
  {
   "cell_type": "code",
   "execution_count": 39,
   "metadata": {},
   "outputs": [],
   "source": [
    "callback_list =[\n",
    "    callbacks.EarlyStopping(\n",
    "        monitor = 'val_last_time_step_mse',\n",
    "        patience= stop_epoch\n",
    "    ),\n",
    "    callbacks.ModelCheckpoint(\n",
    "        filepath='LSTM_log/lstm_MC_1m.h5',\n",
    "        #save_best_only= True,\n",
    "        monitor='val_last_time_step_mse'\n",
    "    ),\n",
    "]"
   ]
  },
  {
   "cell_type": "code",
   "execution_count": 40,
   "metadata": {},
   "outputs": [
    {
     "data": {
      "text/plain": [
       "(24, 16)"
      ]
     },
     "execution_count": 40,
     "metadata": {},
     "output_type": "execute_result"
    }
   ],
   "source": [
    "train_all = np.concatenate([Xdict['train'],Xdict['dev']], axis= 0)\n",
    "batch_size=32\n",
    "r_train = train_all.shape[0]%batch_size\n",
    "r_test = Xdict['test'].shape[0]%batch_size"
   ]
  },
  {
   "cell_type": "code",
   "execution_count": 41,
   "metadata": {
    "scrolled": true
   },
   "outputs": [
    {
     "name": "stdout",
     "output_type": "stream",
     "text": [
      "Epoch 1/34\n",
      "368/368 [==============================] - 2s 6ms/step - loss: 1.6167 - last_time_step_mse: 1.7336 - val_loss: 1.3492 - val_last_time_step_mse: 1.3110\n",
      "Epoch 2/34\n",
      "368/368 [==============================] - 2s 4ms/step - loss: 1.1140 - last_time_step_mse: 1.1280 - val_loss: 0.9188 - val_last_time_step_mse: 0.8298\n",
      "Epoch 3/34\n",
      "368/368 [==============================] - 2s 4ms/step - loss: 0.7671 - last_time_step_mse: 0.7181 - val_loss: 0.6231 - val_last_time_step_mse: 0.5181\n",
      "Epoch 4/34\n",
      "368/368 [==============================] - 2s 4ms/step - loss: 0.5388 - last_time_step_mse: 0.4655 - val_loss: 0.4362 - val_last_time_step_mse: 0.3403\n",
      "Epoch 5/34\n",
      "368/368 [==============================] - 2s 4ms/step - loss: 0.4004 - last_time_step_mse: 0.3313 - val_loss: 0.3329 - val_last_time_step_mse: 0.2604\n",
      "Epoch 6/34\n",
      "368/368 [==============================] - 2s 4ms/step - loss: 0.3301 - last_time_step_mse: 0.2807 - val_loss: 0.2833 - val_last_time_step_mse: 0.2365\n",
      "Epoch 7/34\n",
      "368/368 [==============================] - 2s 4ms/step - loss: 0.2992 - last_time_step_mse: 0.2657 - val_loss: 0.2609 - val_last_time_step_mse: 0.2334\n",
      "Epoch 8/34\n",
      "368/368 [==============================] - 1s 4ms/step - loss: 0.2844 - last_time_step_mse: 0.2577 - val_loss: 0.2487 - val_last_time_step_mse: 0.2320\n",
      "Epoch 9/34\n",
      "368/368 [==============================] - 2s 4ms/step - loss: 0.2772 - last_time_step_mse: 0.2582 - val_loss: 0.2394 - val_last_time_step_mse: 0.2270\n",
      "Epoch 10/34\n",
      "368/368 [==============================] - 2s 4ms/step - loss: 0.2684 - last_time_step_mse: 0.2537 - val_loss: 0.2306 - val_last_time_step_mse: 0.2201\n",
      "Epoch 11/34\n",
      "368/368 [==============================] - 2s 4ms/step - loss: 0.2622 - last_time_step_mse: 0.2509 - val_loss: 0.2224 - val_last_time_step_mse: 0.2117\n",
      "Epoch 12/34\n",
      "368/368 [==============================] - 2s 4ms/step - loss: 0.2561 - last_time_step_mse: 0.2443 - val_loss: 0.2148 - val_last_time_step_mse: 0.2030\n",
      "Epoch 13/34\n",
      "368/368 [==============================] - 2s 4ms/step - loss: 0.2510 - last_time_step_mse: 0.2390 - val_loss: 0.2076 - val_last_time_step_mse: 0.1960\n",
      "Epoch 14/34\n",
      "368/368 [==============================] - 1s 4ms/step - loss: 0.2473 - last_time_step_mse: 0.2336 - val_loss: 0.2010 - val_last_time_step_mse: 0.1887\n",
      "Epoch 15/34\n",
      "368/368 [==============================] - 2s 4ms/step - loss: 0.2438 - last_time_step_mse: 0.2298 - val_loss: 0.1950 - val_last_time_step_mse: 0.1833\n",
      "Epoch 16/34\n",
      "368/368 [==============================] - 2s 4ms/step - loss: 0.2398 - last_time_step_mse: 0.2259 - val_loss: 0.1898 - val_last_time_step_mse: 0.1775\n",
      "Epoch 17/34\n",
      "368/368 [==============================] - 1s 4ms/step - loss: 0.2357 - last_time_step_mse: 0.2225 - val_loss: 0.1852 - val_last_time_step_mse: 0.1726\n",
      "Epoch 18/34\n",
      "368/368 [==============================] - 2s 5ms/step - loss: 0.2347 - last_time_step_mse: 0.2218 - val_loss: 0.1814 - val_last_time_step_mse: 0.1691\n",
      "Epoch 19/34\n",
      "368/368 [==============================] - 2s 4ms/step - loss: 0.2310 - last_time_step_mse: 0.2195 - val_loss: 0.1783 - val_last_time_step_mse: 0.1657\n",
      "Epoch 20/34\n",
      "368/368 [==============================] - 2s 4ms/step - loss: 0.2300 - last_time_step_mse: 0.2237 - val_loss: 0.1756 - val_last_time_step_mse: 0.1634\n",
      "Epoch 21/34\n",
      "368/368 [==============================] - 1s 4ms/step - loss: 0.2283 - last_time_step_mse: 0.2188 - val_loss: 0.1731 - val_last_time_step_mse: 0.1612\n",
      "Epoch 22/34\n",
      "368/368 [==============================] - 1s 4ms/step - loss: 0.2285 - last_time_step_mse: 0.2175 - val_loss: 0.1715 - val_last_time_step_mse: 0.1599\n",
      "Epoch 23/34\n",
      "368/368 [==============================] - 2s 4ms/step - loss: 0.2256 - last_time_step_mse: 0.2164 - val_loss: 0.1699 - val_last_time_step_mse: 0.1584\n",
      "Epoch 24/34\n",
      "368/368 [==============================] - 1s 4ms/step - loss: 0.2261 - last_time_step_mse: 0.2163 - val_loss: 0.1687 - val_last_time_step_mse: 0.1576\n",
      "Epoch 25/34\n",
      "368/368 [==============================] - 1s 4ms/step - loss: 0.2243 - last_time_step_mse: 0.2177 - val_loss: 0.1678 - val_last_time_step_mse: 0.1568\n",
      "Epoch 26/34\n",
      "368/368 [==============================] - 2s 4ms/step - loss: 0.2240 - last_time_step_mse: 0.2132 - val_loss: 0.1674 - val_last_time_step_mse: 0.1561\n",
      "Epoch 27/34\n",
      "368/368 [==============================] - 2s 4ms/step - loss: 0.2215 - last_time_step_mse: 0.2140 - val_loss: 0.1666 - val_last_time_step_mse: 0.1558\n",
      "Epoch 28/34\n",
      "368/368 [==============================] - 2s 4ms/step - loss: 0.2230 - last_time_step_mse: 0.2143 - val_loss: 0.1661 - val_last_time_step_mse: 0.1555\n",
      "Epoch 29/34\n",
      "368/368 [==============================] - 2s 4ms/step - loss: 0.2225 - last_time_step_mse: 0.2128 - val_loss: 0.1656 - val_last_time_step_mse: 0.1549\n",
      "Epoch 30/34\n",
      "368/368 [==============================] - 2s 4ms/step - loss: 0.2183 - last_time_step_mse: 0.2094 - val_loss: 0.1653 - val_last_time_step_mse: 0.1549\n",
      "Epoch 31/34\n",
      "368/368 [==============================] - 1s 4ms/step - loss: 0.2203 - last_time_step_mse: 0.2113 - val_loss: 0.1649 - val_last_time_step_mse: 0.1545\n",
      "Epoch 32/34\n",
      "368/368 [==============================] - 2s 4ms/step - loss: 0.2192 - last_time_step_mse: 0.2163 - val_loss: 0.1647 - val_last_time_step_mse: 0.1541\n",
      "Epoch 33/34\n",
      "368/368 [==============================] - 2s 4ms/step - loss: 0.2201 - last_time_step_mse: 0.2098 - val_loss: 0.1645 - val_last_time_step_mse: 0.1538\n",
      "Epoch 34/34\n",
      "368/368 [==============================] - 2s 4ms/step - loss: 0.2183 - last_time_step_mse: 0.2081 - val_loss: 0.1638 - val_last_time_step_mse: 0.1536\n"
     ]
    }
   ],
   "source": [
    "target_axis = 0\n",
    "history = model.fit(x= train_all[r_train:,:-1,:],\n",
    "                    y= train_all[r_train:,1:,target_axis].reshape(-1,nlag,1), # shift one time point\n",
    "                    epochs= stop_epoch,\n",
    "                    batch_size= batch_size,\n",
    "                    validation_data=( Xdict['test'][:,:-1,:],Xdict['test'][:,1:,target_axis].reshape(-1,nlag,1)),\n",
    "                    callbacks=callback_list)\n"
   ]
  },
  {
   "cell_type": "code",
   "execution_count": 42,
   "metadata": {},
   "outputs": [
    {
     "data": {
      "image/png": "[encoded data removed]",
      "text/plain": [
       "<Figure size 576x360 with 1 Axes>"
      ]
     },
     "metadata": {
      "needs_background": "light"
     },
     "output_type": "display_data"
    }
   ],
   "source": [
    "pd.DataFrame(history.history).plot(figsize=(8,5))\n",
    "plt.grid(True)\n",
    "plt.show()"
   ]
  },
  {
   "cell_type": "code",
   "execution_count": 43,
   "metadata": {},
   "outputs": [],
   "source": [
    "pred = model.predict(Xdict['test'][:,:-1,:],batch_size=batch_size)[:,-1,0]\n",
    "ymean = p_scalar.mean_[target_axis]\n",
    "yvar = p_scalar.var_[target_axis]\n",
    "pred_inv_trans = pred*np.sqrt(yvar)+ymean\n",
    "y_true = ydict['test']*np.sqrt(yvar)+ymean"
   ]
  },
  {
   "cell_type": "markdown",
   "metadata": {},
   "source": [
    "# MC dropout"
   ]
  },
  {
   "cell_type": "code",
   "execution_count": 44,
   "metadata": {},
   "outputs": [],
   "source": [
    "@tf.function\n",
    "def last_time_step_mse(Y_true, Y_pred):\n",
    "    return keras.metrics.mean_squared_error(Y_true[:,-1,0], Y_pred[:,-1,0])\n",
    "\n",
    "mc_model =  buildmodel(n_hidden = n_hidden, dense_dp = dp_rate, recurrent_dp=r_dp,l2=l2,training=True)\n",
    "mc_model.set_weights(model.get_weights())\n"
   ]
  },
  {
   "cell_type": "code",
   "execution_count": 45,
   "metadata": {},
   "outputs": [
    {
     "name": "stdout",
     "output_type": "stream",
     "text": [
      "done\n"
     ]
    }
   ],
   "source": [
    "T= 1000\n",
    "tf.random.set_seed(1)\n",
    "np.random.seed(1)\n",
    "X_test_tf = tf.constant( Xdict['test'][:,:-1,:], dtype=tf.float32 )\n",
    "\n",
    "\n",
    "y_probas = np.stack([mc_model.predict(X_test_tf, batch_size=batch_size*100)[:,-1,0]\n",
    "                     for sample in range(T)])\n",
    "print('done')"
   ]
  },
  {
   "cell_type": "code",
   "execution_count": 46,
   "metadata": {},
   "outputs": [],
   "source": [
    "ymean = p_scalar.mean_[target_axis]\n",
    "yvar = p_scalar.var_[target_axis]\n",
    "y_hat_MC = y_probas * np.sqrt(yvar)+ymean\n",
    "y_hat = y_hat_MC.mean(axis=0)\n",
    "y_true = ydict['test']*np.sqrt(yvar)+ymean"
   ]
  },
  {
   "cell_type": "code",
   "execution_count": 48,
   "metadata": {},
   "outputs": [],
   "source": [
    "# hyper-par: tau\n",
    "np.random.seed(1)\n",
    "y_MC_mixture = np.concatenate([np.random.normal(loc=samplei,scale=sig,size=(10,len(samplei))) for samplei in y_hat_MC] , axis=0)"
   ]
  },
  {
   "cell_type": "code",
   "execution_count": 51,
   "metadata": {},
   "outputs": [],
   "source": [
    "L_hat = np.quantile(y_MC_mixture,alpha/2,axis=0)\n",
    "U_hat = np.quantile(y_MC_mixture,(1-alpha/2),axis=0)\n",
    "left = L_hat\n",
    "right = U_hat\n",
    "py_all = np.stack([norm.pdf(y_true, loc=samplei, scale=sig) for samplei in y_hat_MC])\n",
    "p_y = py_all.mean(axis=0)\n",
    "sig_hat2 = y_MC_mixture.std(axis=0)"
   ]
  },
  {
   "cell_type": "code",
   "execution_count": 137,
   "metadata": {},
   "outputs": [
    {
     "name": "stdout",
     "output_type": "stream",
     "text": [
      " & 1172.73 & 8.48 & 6365.39 & 5032.86 & 0.95 & 95\\% \\\\\n"
     ]
    },
    {
     "data": {
      "text/plain": [
       "(1172.7334049132792,\n",
       " 8.479329697975396,\n",
       " 6365.391025868944,\n",
       " 5032.8619253199295,\n",
       " 0.9483333333333334)"
      ]
     },
     "execution_count": 137,
     "metadata": {},
     "output_type": "execute_result"
    }
   ],
   "source": [
    "r1,r2,r3,r4,r5 = get_RMSE_NLL_NOIS_AWPI_ECPI(y_true,y_hat,left,right,alpha=0.05)"
   ]
  },
  {
   "cell_type": "markdown",
   "metadata": {},
   "source": [
    "# Save\n"
   ]
  },
  {
   "cell_type": "code",
   "execution_count": 52,
   "metadata": {},
   "outputs": [],
   "source": [
    "WU2 = feather.read_dataframe('Data/WU.feather')\n",
    "\n",
    "all_test_MF_LSTM = pd.DataFrame({\n",
    "    'Index': WU2[WU2.loc[:,'Set']=='test'].loc[:,'Index'].values,\n",
    "    'Y': y_true,\n",
    "    'y_hat': y_hat,\n",
    "    'L': left,\n",
    "    'U': right,\n",
    "    'sig_hat': sig_hat2,\n",
    "    'p_y':p_y\n",
    "})\n",
    "\n",
    "\n",
    "path = 'Out_test_MF\\\\month1\\\\LSTM_MC_1m_dist.feather'\n",
    "feather.write_dataframe(all_test_MF_LSTM , path)\n",
    "\n",
    "# write sample for ECPI\n",
    "path = 'Out_test_MF\\\\month1\\\\LSTM_MC.npy'\n",
    "np.save(path, y_MC_mixture)\n"
   ]
  },
  {
   "cell_type": "markdown",
   "metadata": {},
   "source": [
    "# report"
   ]
  },
  {
   "cell_type": "code",
   "execution_count": 54,
   "metadata": {},
   "outputs": [
    {
     "name": "stdout",
     "output_type": "stream",
     "text": [
      " & 1193.14 & 8.52 & 6760.97 & 4954.51 & 0.94 & 95\\% \\\\\n"
     ]
    }
   ],
   "source": [
    "r1,r2,r3,r4,r5 = get_RMSE_NLL_NOIS_AWPI_ECPI(y_true,y_hat,left,right,alpha=0.05)"
   ]
  },
  {
   "cell_type": "code",
   "execution_count": 55,
   "metadata": {},
   "outputs": [],
   "source": [
    "# results\n",
    "with open(\"Results/Results_1m.txt\", \"a\") as myfile:\n",
    "    myfile.write(\"LSTM \\n\")\n",
    "    myfile.write('RMSE %f & NLL %f & NOIS %f & AWPI %f & ECPI %f \\n' % (\n",
    "        r1,-np.log(p_y).mean(),r3,r4,r5 ))"
   ]
  }
 ],
 "metadata": {
  "kernelspec": {
   "display_name": "Python 3",
   "language": "python",
   "name": "python3"
  },
  "language_info": {
   "codemirror_mode": {
    "name": "ipython",
    "version": 3
   },
   "file_extension": ".py",
   "mimetype": "text/x-python",
   "name": "python",
   "nbconvert_exporter": "python",
   "pygments_lexer": "ipython3",
   "version": "3.8.5"
  }
 },
 "nbformat": 4,
 "nbformat_minor": 2
}
